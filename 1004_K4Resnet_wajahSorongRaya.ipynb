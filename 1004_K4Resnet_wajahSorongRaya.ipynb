{
  "cells": [
    {
      "cell_type": "code",
      "source": [
        "#!pip install efficientnet==0.0.3\n",
        "#!pip install PyWavelets"
      ],
      "metadata": {
        "id": "BYUAJQ01aozs"
      },
      "execution_count": null,
      "outputs": []
    },
    {
      "cell_type": "code",
      "execution_count": null,
      "metadata": {
        "id": "O1uQFkh1OR73"
      },
      "outputs": [],
      "source": [
        "import cv2\n",
        "import numpy as np\n",
        "import os\n",
        "import pandas as pd\n",
        "from skimage.feature import hog\n",
        "from skimage.color import rgb2gray\n",
        "from sklearn.preprocessing import LabelEncoder\n",
        "from sklearn.metrics import accuracy_score, confusion_matrix, classification_report\n",
        "import matplotlib.pyplot as plt\n",
        "import seaborn as sns\n",
        "import tensorflow as tf\n",
        "from tensorflow.keras.models import Model\n",
        "from tensorflow.keras.layers import Dense, Dropout, GlobalAveragePooling2D, BatchNormalization, Input\n",
        "from tensorflow.keras.preprocessing.image import ImageDataGenerator\n",
        "from tensorflow.keras.applications import ResNet50\n",
        "from tensorflow.keras.utils import to_categorical\n",
        "from sklearn.decomposition import PCA\n",
        "from sklearn.utils.class_weight import compute_class_weight\n",
        "#from tensorflow.keras.applications import VGG16\n",
        "#from tensorflow.keras.applications import MobileNetV2\n",
        "#from tensorflow.keras.applications import EfficientNetB0\n",
        "import matplotlib.pyplot as plt\n",
        "import numpy as np\n",
        "#import pywt\n",
        "#from tensorflow.keras.applications import EfficientNetB5\n",
        "from tensorflow.keras.layers import Input, GlobalAveragePooling2D, Dense, Dropout, BatchNormalization\n",
        "from tensorflow.keras.models import Model\n",
        "import tensorflow as tf\n",
        "from tensorflow.keras.callbacks import EarlyStopping"
      ]
    },
    {
      "cell_type": "code",
      "execution_count": null,
      "metadata": {
        "id": "kdVXkRGgR6Nt",
        "colab": {
          "base_uri": "https://localhost:8080/"
        },
        "outputId": "97a902ff-50f9-4908-c1a0-358237d72de7"
      },
      "outputs": [
        {
          "output_type": "stream",
          "name": "stdout",
          "text": [
            "Mounted at /content/drive\n"
          ]
        }
      ],
      "source": [
        "from google.colab import drive\n",
        "drive.mount('/content/drive')\n",
        "\n"
      ]
    },
    {
      "cell_type": "code",
      "source": [
        "# Paths\n",
        "#data_path = \"/content/drive/MyDrive/WajahSorongRaya\"  # Adjust the path to where 'papua-1' and 'papua-2' are located\n",
        "\n"
      ],
      "metadata": {
        "id": "4ElfjpaY6q6v"
      },
      "execution_count": null,
      "outputs": []
    },
    {
      "cell_type": "code",
      "source": [
        "import os\n",
        "\n",
        "def list_folders_and_image_count(data_path):\n",
        "  \"\"\"\n",
        "  Lists subfolders within a directory and counts the number of images in each.\n",
        "\n",
        "  Args:\n",
        "    data_path: The path to the main directory.\n",
        "\n",
        "  Returns:\n",
        "    A dictionary where keys are folder names and values are image counts.\n",
        "  \"\"\"\n",
        "  folder_info = {}\n",
        "  for folder_name in os.listdir(data_path):\n",
        "    folder_path = os.path.join(data_path, folder_name)\n",
        "    if os.path.isdir(folder_path):\n",
        "      image_count = 0\n",
        "      for file_name in os.listdir(folder_path):\n",
        "        if file_name.lower().endswith(('.png', '.jpg', '.jpeg')):\n",
        "          image_count += 1\n",
        "      folder_info[folder_name] = image_count\n",
        "  return folder_info\n",
        "\n",
        "# Example usage:\n",
        "data_path = \"/content/drive/MyDrive/WajahSorongRaya2\"\n",
        "folder_data = list_folders_and_image_count(data_path)\n",
        "\n",
        "# Print the results:\n",
        "for folder, count in folder_data.items():\n",
        "  print(f\"Folder: {folder}, Image Count: {count}\")"
      ],
      "metadata": {
        "colab": {
          "base_uri": "https://localhost:8080/"
        },
        "id": "vAm2tMtrRUCD",
        "outputId": "e92b2fa7-30af-434b-947d-388026d6c511"
      },
      "execution_count": null,
      "outputs": [
        {
          "output_type": "stream",
          "name": "stdout",
          "text": [
            "Folder: Maybrat, Image Count: 350\n",
            "Folder: Raja Ampat, Image Count: 337\n",
            "Folder: SorongSelatan, Image Count: 339\n",
            "Folder: Moi, Image Count: 364\n"
          ]
        }
      ]
    },
    {
      "cell_type": "code",
      "execution_count": null,
      "metadata": {
        "id": "TzpkhnbsR_Q7"
      },
      "outputs": [],
      "source": [
        "# Constants\n",
        "IMAGE_SIZE = (224, 224)\n",
        "BATCH_SIZE = 16\n",
        "EPOCHS = 100"
      ]
    },
    {
      "cell_type": "code",
      "execution_count": null,
      "metadata": {
        "id": "69Ch8XRnSFsg"
      },
      "outputs": [],
      "source": [
        "# Preprocessing Function\n",
        "def preprocess_image(image):\n",
        "    # Resize image\n",
        "    image = cv2.resize(image, IMAGE_SIZE)\n",
        "    # Histogram equalization\n",
        "    image = cv2.cvtColor(image, cv2.COLOR_BGR2GRAY)\n",
        "    image = cv2.equalizeHist(image)\n",
        "    # Apply noise reduction\n",
        "    image = cv2.fastNlMeansDenoising(image, h=10)\n",
        "    # Convert back to RGB\n",
        "    return cv2.cvtColor(image, cv2.COLOR_GRAY2RGB)"
      ]
    },
    {
      "cell_type": "code",
      "source": [
        "def apply_haar_wavelet_and_gaussian(image):\n",
        "    coeffs2 = pywt.dwt2(image, 'haar')\n",
        "    LL, (LH, HL, HH) = coeffs2\n",
        "    LL_gaussian = cv2.GaussianBlur(LL, (5, 5), 0)  # Apply Gaussian filter\n",
        "    return LL_gaussian  # Use the low-frequency component with Gaussian filter"
      ],
      "metadata": {
        "id": "35xK0a6ZwI3W"
      },
      "execution_count": null,
      "outputs": []
    },
    {
      "cell_type": "code",
      "source": [
        "def extract_gabor_features(image):\n",
        "    # Konversi gambar ke grayscale\n",
        "    gray = cv2.cvtColor(image, cv2.COLOR_BGR2GRAY)\n",
        "\n",
        "    # Definisikan filter Gabor\n",
        "    gabor_filters = []\n",
        "    ksize = 31  # Ukuran kernel\n",
        "    for theta in np.arange(0, np.pi, np.pi / 16):  # Orientasi\n",
        "        kern = cv2.getGaborKernel((ksize, ksize), 4.0, theta, 10.0, 0.5, 0, ktype=cv2.CV_32F)\n",
        "        kern /= 1.5*kern.sum()\n",
        "        gabor_filters.append(kern)\n",
        "\n",
        "    # Terapkan filter Gabor dan gabungkan fitur\n",
        "    gabor_features = []\n",
        "    for kern in gabor_filters:\n",
        "        fimg = cv2.filter2D(gray, cv2.CV_8UC3, kern)\n",
        "        gabor_features.append(fimg)\n",
        "\n",
        "    # Gabungkan fitur Gabor menjadi satu vektor\n",
        "    gabor_features = np.concatenate([f.flatten() for f in gabor_features])\n",
        "\n",
        "    return gabor_features"
      ],
      "metadata": {
        "id": "BqCnqxHo1R57"
      },
      "execution_count": null,
      "outputs": []
    },
    {
      "cell_type": "code",
      "execution_count": null,
      "metadata": {
        "id": "A13Ba3tKSKGT"
      },
      "outputs": [],
      "source": [
        "# Function to apply Haar wavelet transformation\n",
        "def apply_haar_wavelet(image):\n",
        "    I = image.astype(float)\n",
        "    m, n = I.shape[:2]\n",
        "    if m % 2 != 0:\n",
        "        m -= 1\n",
        "    if n % 2 != 0:\n",
        "        n -= 1\n",
        "    I = I[:m, :n]\n",
        "\n",
        "    LL = np.zeros((m // 2, n // 2))\n",
        "    for i in range(0, m, 2):\n",
        "        for j in range(0, n, 2):\n",
        "            Ixy = I[i:i + 2, j:j + 2]\n",
        "            LL[i // 2, j // 2] = np.mean(Ixy)\n",
        "    return LL"
      ]
    },
    {
      "cell_type": "code",
      "execution_count": null,
      "metadata": {
        "id": "XpeyGgyySM3z"
      },
      "outputs": [],
      "source": [
        "# Function to extract HOG features\n",
        "def extract_hog_features(image):\n",
        "    if len(image.shape) == 3:\n",
        "        image = rgb2gray(image)\n",
        "    features, _ = hog(image, pixels_per_cell=(8, 8), cells_per_block=(2, 2), visualize=True)\n",
        "    return features"
      ]
    },
    {
      "cell_type": "code",
      "execution_count": null,
      "metadata": {
        "id": "rBFoJaueSSPd"
      },
      "outputs": [],
      "source": [
        "def load_data(path):\n",
        "    data = []\n",
        "    labels = []\n",
        "    for folder in os.listdir(path):\n",
        "        folder_path = os.path.join(path, folder)\n",
        "        if os.path.isdir(folder_path):\n",
        "            for file in os.listdir(folder_path):\n",
        "                file_path = os.path.join(folder_path, file)\n",
        "                image = cv2.imread(file_path)\n",
        "                if image is not None:\n",
        "                    # Preprocess image\n",
        "                    image = preprocess_image(image)\n",
        "\n",
        "                    # Apply Haar wavelet\n",
        "                    #haar_image = apply_haar_wavelet(image)\n",
        "\n",
        "                    # Resize the image to 224x224 for ResNet50\n",
        "                    #haar_image = cv2.resize(haar_image, (224, 224))\n",
        "\n",
        "                    # Extract HOG features\n",
        "                    #hog_features = extract_hog_features(haar_image)\n",
        "\n",
        "                    # Extract Gabor features\n",
        "                    gabor_features = extract_gabor_features(image)\n",
        "\n",
        "                    #Extract Haar + Gaussia\n",
        "                    #haar_image = apply_haar_wavelet_and_gaussian(image)\n",
        "\n",
        "                    #Extract Haar + Gabor\n",
        "                    combined_features = np.concatenate([image.flatten(), gabor_features])\n",
        "\n",
        "                    data.append(combined_features)  # Append the processed image\n",
        "\n",
        "                    #data.append(combined_features)  # Append the processed image\n",
        "\n",
        "                    labels.append(folder)\n",
        "\n",
        "    return np.array(data), np.array(labels)"
      ]
    },
    {
      "cell_type": "code",
      "source": [],
      "metadata": {
        "id": "0-h4fArUwFWs"
      },
      "execution_count": null,
      "outputs": []
    },
    {
      "cell_type": "code",
      "source": [],
      "metadata": {
        "id": "o2VSNKJ2-Hw1"
      },
      "execution_count": null,
      "outputs": []
    },
    {
      "cell_type": "code",
      "source": [],
      "metadata": {
        "id": "LeIgxb8g-MVb"
      },
      "execution_count": null,
      "outputs": []
    },
    {
      "cell_type": "code",
      "execution_count": null,
      "metadata": {
        "id": "KAP0lMIcSU1u"
      },
      "outputs": [],
      "source": [
        "# Load dataset\n",
        "data, labels = load_data(data_path)"
      ]
    },
    {
      "cell_type": "code",
      "source": [],
      "metadata": {
        "id": "agKK3jlu-M3D"
      },
      "execution_count": null,
      "outputs": []
    },
    {
      "cell_type": "code",
      "source": [],
      "metadata": {
        "id": "xdUyEy3i8q2Z"
      },
      "execution_count": null,
      "outputs": []
    },
    {
      "cell_type": "code",
      "source": [
        "num_images_to_display = 4  # Jumlah gambar yang ingin ditampilkan\n",
        "sample_images = data[:num_images_to_display]\n",
        "sample_labels = labels[:num_images_to_display]"
      ],
      "metadata": {
        "id": "HX3lp1Hs5Hq1"
      },
      "execution_count": null,
      "outputs": []
    },
    {
      "cell_type": "code",
      "source": [
        "#fig, axes = plt.subplots(1, num_images_to_display, figsize=(15, 5))  # Sesuaikan figsize jika perlu\n",
        "#for i, (image, label) in enumerate(zip(sample_images, sample_labels)):\n",
        "#    axes[i].imshow(image.astype(np.uint8), cmap='gray')\n",
        "#    axes[i].axis('off')\n",
        "#    axes[i].set_title(label)  # Menampilkan label sebagai judul di bawah gambar\n",
        "#plt.show()"
      ],
      "metadata": {
        "id": "Ot6yezTv5JCU"
      },
      "execution_count": null,
      "outputs": []
    },
    {
      "cell_type": "code",
      "execution_count": null,
      "metadata": {
        "id": "T1Uftjw3SVSf"
      },
      "outputs": [],
      "source": [
        "# Encode labels\n",
        "encoder = LabelEncoder()\n",
        "labels_encoded = encoder.fit_transform(labels)\n"
      ]
    },
    {
      "cell_type": "code",
      "execution_count": null,
      "metadata": {
        "id": "x47i3r-qSXC5",
        "colab": {
          "base_uri": "https://localhost:8080/"
        },
        "outputId": "27cc5ab1-bb69-4e80-99c5-d9566b4f4501"
      },
      "outputs": [
        {
          "output_type": "stream",
          "name": "stdout",
          "text": [
            "Jumlah data train: 778\n",
            "Jumlah data validasi: 334\n",
            "Jumlah data test: 278\n"
          ]
        }
      ],
      "source": [
        "# Split into training and testing\n",
        "from sklearn.model_selection import train_test_split\n",
        "#train_data, test_data, train_labels, test_labels = train_test_split(data, labels_encoded, test_size=0.2, random_state=42)\n",
        "train_images, test_images, train_labels, test_labels = train_test_split(\n",
        "    data, labels_encoded, test_size=0.2, random_state=42\n",
        ")\n",
        "\n",
        "# Split training data into training and validation sets\n",
        "train_images, val_images, train_labels, val_labels = train_test_split(\n",
        "    train_images, train_labels, test_size=0.3, random_state=42\n",
        ")\n",
        "\n",
        "# Print the number of samples in each set\n",
        "print(\"Jumlah data train:\", len(train_images))\n",
        "print(\"Jumlah data validasi:\", len(val_images))\n",
        "print(\"Jumlah data test:\", len(test_images))\n"
      ]
    },
    {
      "cell_type": "code",
      "execution_count": null,
      "metadata": {
        "id": "KktpjT5iSZrZ"
      },
      "outputs": [],
      "source": [
        "# Class weights\n",
        "class_weights = compute_class_weight('balanced', classes=np.unique(train_labels), y=train_labels)\n",
        "class_weight_dict = dict(enumerate(class_weights))\n"
      ]
    },
    {
      "cell_type": "code",
      "execution_count": null,
      "metadata": {
        "id": "CPJhEjBfSb0v"
      },
      "outputs": [],
      "source": [
        "# Define CNN model with pretrained ResNet50\n",
        "def build_model():\n",
        "    input_tensor = Input(shape=(224, 224, 3))\n",
        "    #base_model = EfficientNetB5(weights='imagenet', include_top=False, input_shape=(224, 224, 3))\n",
        "    base_model = ResNet50(weights='imagenet', include_top=False, input_tensor=input_tensor)\n",
        "    x = base_model.output\n",
        "    x = GlobalAveragePooling2D()(x)\n",
        "    x = BatchNormalization()(x)\n",
        "    x = Dense(1024, activation='relu', kernel_regularizer=tf.keras.regularizers.l2(0.01))(x)  # Lebih dalam dan lebih banyak unit\n",
        "    x = Dropout(0.8)(x)  # Dropout lebih tinggi\n",
        "    x = Dense(512, activation='relu', kernel_regularizer=tf.keras.regularizers.l2(0.01))(x)\n",
        "    x = Dropout(0.8)(x)\n",
        "    predictions = Dense(len(encoder.classes_), activation='softmax')(x)\n",
        "\n",
        "    model = Model(inputs=base_model.input, outputs=predictions)\n",
        "\n",
        "    # Unfreeze lebih banyak lapisan pada model dasar\n",
        "    for layer in base_model.layers:\n",
        "        layer.trainable = True\n",
        "\n",
        "    # Compile model dengan learning rate scheduler\n",
        "    optimizer = tf.keras.optimizers.Adam(learning_rate=1e-4)\n",
        "    model.compile(optimizer=optimizer, loss='categorical_crossentropy', metrics=['accuracy'])\n",
        "\n",
        "    return model\n",
        "\n",
        "# Bangun model\n",
        "model = build_model()"
      ]
    },
    {
      "cell_type": "code",
      "execution_count": null,
      "metadata": {
        "id": "T4xJ7D2bSf6F"
      },
      "outputs": [],
      "source": [
        "train_datagen = ImageDataGenerator(\n",
        "    rotation_range=30,\n",
        "    width_shift_range=0.3,\n",
        "    height_shift_range=0.3,\n",
        "    shear_range=0.3,\n",
        "    zoom_range=0.3,\n",
        "    #horizontal_flip=True,\n",
        "    brightness_range=[0.8, 1.2],\n",
        "    fill_mode='nearest'\n",
        ")"
      ]
    },
    {
      "cell_type": "code",
      "execution_count": null,
      "metadata": {
        "id": "xAcGlN-0SlhF"
      },
      "outputs": [],
      "source": [
        "test_datagen = ImageDataGenerator()"
      ]
    },
    {
      "cell_type": "code",
      "execution_count": null,
      "metadata": {
        "id": "0GbT6qBdSogc"
      },
      "outputs": [],
      "source": [
        "# Load and preprocess images for CNN\n",
        "def load_and_preprocess_images(path):\n",
        "    images = []\n",
        "    labels = []\n",
        "    for folder in os.listdir(path):\n",
        "        folder_path = os.path.join(path, folder)\n",
        "        if os.path.isdir(folder_path):\n",
        "            for file in os.listdir(folder_path):\n",
        "                file_path = os.path.join(folder_path, file)\n",
        "                image = cv2.imread(file_path)\n",
        "                if image is not None:\n",
        "                    image = preprocess_image(image)\n",
        "                    images.append(image)\n",
        "                    labels.append(folder)\n",
        "    return np.array(images), np.array(labels)\n"
      ]
    },
    {
      "cell_type": "code",
      "execution_count": null,
      "metadata": {
        "id": "WiDv3UB1SpWF",
        "colab": {
          "base_uri": "https://localhost:8080/"
        },
        "outputId": "215432b0-5a1c-41f3-c42b-fadb1ff3f23e"
      },
      "outputs": [
        {
          "output_type": "stream",
          "name": "stdout",
          "text": [
            "Jumlah data train: 1112\n",
            "Jumlah data validasi: 334\n",
            "Jumlah data test: 278\n"
          ]
        }
      ],
      "source": [
        "#train_images, train_labels = load_and_preprocess_images(data_path)\n",
        "#test_images, test_labels = load_and_preprocess_images(data_path)\n",
        "# Load and preprocess all images first\n",
        "all_images, all_labels = load_and_preprocess_images(data_path)\n",
        "\n",
        "# Split into training and testing, maintaining 20% for testing\n",
        "train_images, test_images, train_labels, test_labels = train_test_split(\n",
        "    all_images, all_labels, test_size=0.2, random_state=42\n",
        ")\n",
        "\n",
        "# Print the number of samples in each set\n",
        "print(\"Jumlah data train:\", len(train_images))\n",
        "print(\"Jumlah data validasi:\", len(val_images))  # val_images remains unchanged\n",
        "print(\"Jumlah data test:\", len(test_images))"
      ]
    },
    {
      "cell_type": "code",
      "execution_count": null,
      "metadata": {
        "id": "w-O35jj_SrTj"
      },
      "outputs": [],
      "source": [
        "# Encode labels\n",
        "train_labels_encoded = encoder.fit_transform(train_labels)\n",
        "test_labels_encoded = encoder.transform(test_labels)\n",
        "\n",
        "train_labels_categorical = to_categorical(train_labels_encoded)\n",
        "test_labels_categorical = to_categorical(test_labels_encoded)\n",
        "\n",
        "# Callbacks\n",
        "reduce_lr = tf.keras.callbacks.ReduceLROnPlateau(monitor='val_loss', factor=0.2, patience=5, min_lr=1e-5)\n",
        "early_stopping = tf.keras.callbacks.EarlyStopping(monitor='val_loss', patience=5, restore_best_weights=True)\n"
      ]
    },
    {
      "cell_type": "code",
      "execution_count": null,
      "metadata": {
        "id": "NOUQWru6SvQZ",
        "colab": {
          "base_uri": "https://localhost:8080/"
        },
        "outputId": "0d9449d3-3f8c-4dda-99ba-982de228c52e"
      },
      "outputs": [
        {
          "output_type": "stream",
          "name": "stderr",
          "text": [
            "/usr/local/lib/python3.11/dist-packages/keras/src/trainers/data_adapters/py_dataset_adapter.py:121: UserWarning: Your `PyDataset` class should call `super().__init__(**kwargs)` in its constructor. `**kwargs` can include `workers`, `use_multiprocessing`, `max_queue_size`. Do not pass these arguments to `fit()`, as they will be ignored.\n",
            "  self._warn_if_super_not_called()\n"
          ]
        },
        {
          "output_type": "stream",
          "name": "stdout",
          "text": [
            "Epoch 1/100\n"
          ]
        },
        {
          "output_type": "stream",
          "name": "stderr",
          "text": [
            "/usr/local/lib/python3.11/dist-packages/keras/src/models/functional.py:237: UserWarning: The structure of `inputs` doesn't match the expected structure.\n",
            "Expected: ['keras_tensor_182']\n",
            "Received: inputs=Tensor(shape=(None, 224, 224, 3))\n",
            "  warnings.warn(msg)\n"
          ]
        },
        {
          "output_type": "stream",
          "name": "stdout",
          "text": [
            "\u001b[1m70/70\u001b[0m \u001b[32m━━━━━━━━━━━━━━━━━━━━\u001b[0m\u001b[37m\u001b[0m \u001b[1m91s\u001b[0m 599ms/step - accuracy: 0.2873 - loss: 24.9249 - val_accuracy: 0.5863 - val_loss: 20.8107 - learning_rate: 1.0000e-04\n",
            "Epoch 2/100\n",
            "\u001b[1m70/70\u001b[0m \u001b[32m━━━━━━━━━━━━━━━━━━━━\u001b[0m\u001b[37m\u001b[0m \u001b[1m14s\u001b[0m 200ms/step - accuracy: 0.4452 - loss: 22.7719 - val_accuracy: 0.8165 - val_loss: 20.3076 - learning_rate: 1.0000e-04\n",
            "Epoch 3/100\n",
            "\u001b[1m70/70\u001b[0m \u001b[32m━━━━━━━━━━━━━━━━━━━━\u001b[0m\u001b[37m\u001b[0m \u001b[1m14s\u001b[0m 192ms/step - accuracy: 0.5855 - loss: 21.8043 - val_accuracy: 0.7410 - val_loss: 20.8805 - learning_rate: 1.0000e-04\n",
            "Epoch 4/100\n",
            "\u001b[1m70/70\u001b[0m \u001b[32m━━━━━━━━━━━━━━━━━━━━\u001b[0m\u001b[37m\u001b[0m \u001b[1m14s\u001b[0m 194ms/step - accuracy: 0.6458 - loss: 21.3807 - val_accuracy: 0.8345 - val_loss: 20.3361 - learning_rate: 1.0000e-04\n",
            "Epoch 5/100\n",
            "\u001b[1m70/70\u001b[0m \u001b[32m━━━━━━━━━━━━━━━━━━━━\u001b[0m\u001b[37m\u001b[0m \u001b[1m14s\u001b[0m 195ms/step - accuracy: 0.7184 - loss: 20.6289 - val_accuracy: 0.8921 - val_loss: 19.9228 - learning_rate: 1.0000e-04\n",
            "Epoch 6/100\n",
            "\u001b[1m70/70\u001b[0m \u001b[32m━━━━━━━━━━━━━━━━━━━━\u001b[0m\u001b[37m\u001b[0m \u001b[1m14s\u001b[0m 200ms/step - accuracy: 0.7537 - loss: 20.1391 - val_accuracy: 0.8741 - val_loss: 19.3496 - learning_rate: 1.0000e-04\n",
            "Epoch 7/100\n",
            "\u001b[1m70/70\u001b[0m \u001b[32m━━━━━━━━━━━━━━━━━━━━\u001b[0m\u001b[37m\u001b[0m \u001b[1m14s\u001b[0m 197ms/step - accuracy: 0.7752 - loss: 19.8888 - val_accuracy: 0.8741 - val_loss: 19.4687 - learning_rate: 1.0000e-04\n",
            "Epoch 8/100\n",
            "\u001b[1m70/70\u001b[0m \u001b[32m━━━━━━━━━━━━━━━━━━━━\u001b[0m\u001b[37m\u001b[0m \u001b[1m14s\u001b[0m 194ms/step - accuracy: 0.7920 - loss: 19.4326 - val_accuracy: 0.8633 - val_loss: 19.0969 - learning_rate: 1.0000e-04\n",
            "Epoch 9/100\n",
            "\u001b[1m70/70\u001b[0m \u001b[32m━━━━━━━━━━━━━━━━━━━━\u001b[0m\u001b[37m\u001b[0m \u001b[1m14s\u001b[0m 198ms/step - accuracy: 0.8045 - loss: 19.2309 - val_accuracy: 0.9029 - val_loss: 18.8850 - learning_rate: 1.0000e-04\n",
            "Epoch 10/100\n",
            "\u001b[1m70/70\u001b[0m \u001b[32m━━━━━━━━━━━━━━━━━━━━\u001b[0m\u001b[37m\u001b[0m \u001b[1m14s\u001b[0m 198ms/step - accuracy: 0.8199 - loss: 18.8170 - val_accuracy: 0.9029 - val_loss: 19.2605 - learning_rate: 1.0000e-04\n",
            "Epoch 11/100\n",
            "\u001b[1m70/70\u001b[0m \u001b[32m━━━━━━━━━━━━━━━━━━━━\u001b[0m\u001b[37m\u001b[0m \u001b[1m14s\u001b[0m 201ms/step - accuracy: 0.8258 - loss: 18.5717 - val_accuracy: 0.9388 - val_loss: 17.9216 - learning_rate: 1.0000e-04\n",
            "Epoch 12/100\n",
            "\u001b[1m70/70\u001b[0m \u001b[32m━━━━━━━━━━━━━━━━━━━━\u001b[0m\u001b[37m\u001b[0m \u001b[1m14s\u001b[0m 200ms/step - accuracy: 0.8508 - loss: 18.1487 - val_accuracy: 0.9424 - val_loss: 17.6224 - learning_rate: 1.0000e-04\n",
            "Epoch 13/100\n",
            "\u001b[1m70/70\u001b[0m \u001b[32m━━━━━━━━━━━━━━━━━━━━\u001b[0m\u001b[37m\u001b[0m \u001b[1m14s\u001b[0m 193ms/step - accuracy: 0.8515 - loss: 17.8836 - val_accuracy: 0.9424 - val_loss: 17.2745 - learning_rate: 1.0000e-04\n",
            "Epoch 14/100\n",
            "\u001b[1m70/70\u001b[0m \u001b[32m━━━━━━━━━━━━━━━━━━━━\u001b[0m\u001b[37m\u001b[0m \u001b[1m14s\u001b[0m 194ms/step - accuracy: 0.8398 - loss: 17.7538 - val_accuracy: 0.7302 - val_loss: 18.8128 - learning_rate: 1.0000e-04\n",
            "Epoch 15/100\n",
            "\u001b[1m70/70\u001b[0m \u001b[32m━━━━━━━━━━━━━━━━━━━━\u001b[0m\u001b[37m\u001b[0m \u001b[1m14s\u001b[0m 197ms/step - accuracy: 0.8626 - loss: 17.2006 - val_accuracy: 0.9532 - val_loss: 16.6592 - learning_rate: 1.0000e-04\n",
            "Epoch 16/100\n",
            "\u001b[1m70/70\u001b[0m \u001b[32m━━━━━━━━━━━━━━━━━━━━\u001b[0m\u001b[37m\u001b[0m \u001b[1m14s\u001b[0m 191ms/step - accuracy: 0.8597 - loss: 17.0466 - val_accuracy: 0.9245 - val_loss: 16.4591 - learning_rate: 1.0000e-04\n",
            "Epoch 17/100\n",
            "\u001b[1m70/70\u001b[0m \u001b[32m━━━━━━━━━━━━━━━━━━━━\u001b[0m\u001b[37m\u001b[0m \u001b[1m14s\u001b[0m 194ms/step - accuracy: 0.8446 - loss: 16.9659 - val_accuracy: 0.9460 - val_loss: 16.0683 - learning_rate: 1.0000e-04\n",
            "Epoch 18/100\n",
            "\u001b[1m70/70\u001b[0m \u001b[32m━━━━━━━━━━━━━━━━━━━━\u001b[0m\u001b[37m\u001b[0m \u001b[1m14s\u001b[0m 198ms/step - accuracy: 0.8493 - loss: 16.2801 - val_accuracy: 0.9388 - val_loss: 15.8855 - learning_rate: 1.0000e-04\n",
            "Epoch 19/100\n",
            "\u001b[1m70/70\u001b[0m \u001b[32m━━━━━━━━━━━━━━━━━━━━\u001b[0m\u001b[37m\u001b[0m \u001b[1m14s\u001b[0m 203ms/step - accuracy: 0.8515 - loss: 16.1070 - val_accuracy: 0.9317 - val_loss: 15.5424 - learning_rate: 1.0000e-04\n",
            "Epoch 20/100\n",
            "\u001b[1m70/70\u001b[0m \u001b[32m━━━━━━━━━━━━━━━━━━━━\u001b[0m\u001b[37m\u001b[0m \u001b[1m14s\u001b[0m 199ms/step - accuracy: 0.8765 - loss: 15.6635 - val_accuracy: 0.9245 - val_loss: 15.3503 - learning_rate: 1.0000e-04\n",
            "Epoch 21/100\n",
            "\u001b[1m70/70\u001b[0m \u001b[32m━━━━━━━━━━━━━━━━━━━━\u001b[0m\u001b[37m\u001b[0m \u001b[1m14s\u001b[0m 198ms/step - accuracy: 0.9060 - loss: 15.3014 - val_accuracy: 0.9353 - val_loss: 14.9152 - learning_rate: 1.0000e-04\n",
            "Epoch 22/100\n",
            "\u001b[1m70/70\u001b[0m \u001b[32m━━━━━━━━━━━━━━━━━━━━\u001b[0m\u001b[37m\u001b[0m \u001b[1m14s\u001b[0m 204ms/step - accuracy: 0.8786 - loss: 15.0054 - val_accuracy: 0.9245 - val_loss: 14.7054 - learning_rate: 1.0000e-04\n",
            "Epoch 23/100\n",
            "\u001b[1m70/70\u001b[0m \u001b[32m━━━━━━━━━━━━━━━━━━━━\u001b[0m\u001b[37m\u001b[0m \u001b[1m14s\u001b[0m 199ms/step - accuracy: 0.8768 - loss: 14.7496 - val_accuracy: 0.8849 - val_loss: 15.4959 - learning_rate: 1.0000e-04\n",
            "Epoch 24/100\n",
            "\u001b[1m70/70\u001b[0m \u001b[32m━━━━━━━━━━━━━━━━━━━━\u001b[0m\u001b[37m\u001b[0m \u001b[1m14s\u001b[0m 196ms/step - accuracy: 0.8769 - loss: 14.4311 - val_accuracy: 0.9065 - val_loss: 14.3997 - learning_rate: 1.0000e-04\n",
            "Epoch 25/100\n",
            "\u001b[1m70/70\u001b[0m \u001b[32m━━━━━━━━━━━━━━━━━━━━\u001b[0m\u001b[37m\u001b[0m \u001b[1m14s\u001b[0m 202ms/step - accuracy: 0.8809 - loss: 14.0733 - val_accuracy: 0.9424 - val_loss: 13.8625 - learning_rate: 1.0000e-04\n",
            "Epoch 26/100\n",
            "\u001b[1m70/70\u001b[0m \u001b[32m━━━━━━━━━━━━━━━━━━━━\u001b[0m\u001b[37m\u001b[0m \u001b[1m14s\u001b[0m 202ms/step - accuracy: 0.8767 - loss: 14.0668 - val_accuracy: 0.9353 - val_loss: 13.3497 - learning_rate: 1.0000e-04\n",
            "Epoch 27/100\n",
            "\u001b[1m70/70\u001b[0m \u001b[32m━━━━━━━━━━━━━━━━━━━━\u001b[0m\u001b[37m\u001b[0m \u001b[1m14s\u001b[0m 199ms/step - accuracy: 0.8860 - loss: 13.4751 - val_accuracy: 0.9568 - val_loss: 12.9724 - learning_rate: 1.0000e-04\n",
            "Epoch 28/100\n",
            "\u001b[1m70/70\u001b[0m \u001b[32m━━━━━━━━━━━━━━━━━━━━\u001b[0m\u001b[37m\u001b[0m \u001b[1m14s\u001b[0m 202ms/step - accuracy: 0.8860 - loss: 13.1820 - val_accuracy: 0.9640 - val_loss: 12.9066 - learning_rate: 1.0000e-04\n",
            "Epoch 29/100\n",
            "\u001b[1m70/70\u001b[0m \u001b[32m━━━━━━━━━━━━━━━━━━━━\u001b[0m\u001b[37m\u001b[0m \u001b[1m14s\u001b[0m 200ms/step - accuracy: 0.8957 - loss: 12.8225 - val_accuracy: 0.9604 - val_loss: 12.5835 - learning_rate: 1.0000e-04\n",
            "Epoch 30/100\n",
            "\u001b[1m70/70\u001b[0m \u001b[32m━━━━━━━━━━━━━━━━━━━━\u001b[0m\u001b[37m\u001b[0m \u001b[1m15s\u001b[0m 207ms/step - accuracy: 0.9088 - loss: 12.4340 - val_accuracy: 0.9568 - val_loss: 12.1604 - learning_rate: 1.0000e-04\n",
            "Epoch 31/100\n",
            "\u001b[1m70/70\u001b[0m \u001b[32m━━━━━━━━━━━━━━━━━━━━\u001b[0m\u001b[37m\u001b[0m \u001b[1m14s\u001b[0m 198ms/step - accuracy: 0.9268 - loss: 12.0778 - val_accuracy: 0.9496 - val_loss: 11.7403 - learning_rate: 1.0000e-04\n",
            "Epoch 32/100\n",
            "\u001b[1m70/70\u001b[0m \u001b[32m━━━━━━━━━━━━━━━━━━━━\u001b[0m\u001b[37m\u001b[0m \u001b[1m14s\u001b[0m 197ms/step - accuracy: 0.8969 - loss: 11.8214 - val_accuracy: 0.9604 - val_loss: 11.4710 - learning_rate: 1.0000e-04\n",
            "Epoch 33/100\n",
            "\u001b[1m70/70\u001b[0m \u001b[32m━━━━━━━━━━━━━━━━━━━━\u001b[0m\u001b[37m\u001b[0m \u001b[1m14s\u001b[0m 197ms/step - accuracy: 0.9024 - loss: 11.5938 - val_accuracy: 0.9317 - val_loss: 11.3163 - learning_rate: 1.0000e-04\n",
            "Epoch 34/100\n",
            "\u001b[1m70/70\u001b[0m \u001b[32m━━━━━━━━━━━━━━━━━━━━\u001b[0m\u001b[37m\u001b[0m \u001b[1m14s\u001b[0m 200ms/step - accuracy: 0.9123 - loss: 11.2479 - val_accuracy: 0.9209 - val_loss: 11.2209 - learning_rate: 1.0000e-04\n",
            "Epoch 35/100\n",
            "\u001b[1m70/70\u001b[0m \u001b[32m━━━━━━━━━━━━━━━━━━━━\u001b[0m\u001b[37m\u001b[0m \u001b[1m14s\u001b[0m 193ms/step - accuracy: 0.9276 - loss: 10.8516 - val_accuracy: 0.9281 - val_loss: 10.6964 - learning_rate: 1.0000e-04\n",
            "Epoch 36/100\n",
            "\u001b[1m70/70\u001b[0m \u001b[32m━━━━━━━━━━━━━━━━━━━━\u001b[0m\u001b[37m\u001b[0m \u001b[1m14s\u001b[0m 194ms/step - accuracy: 0.9369 - loss: 10.5130 - val_accuracy: 0.9424 - val_loss: 10.3189 - learning_rate: 1.0000e-04\n",
            "Epoch 37/100\n",
            "\u001b[1m70/70\u001b[0m \u001b[32m━━━━━━━━━━━━━━━━━━━━\u001b[0m\u001b[37m\u001b[0m \u001b[1m14s\u001b[0m 195ms/step - accuracy: 0.9349 - loss: 10.2290 - val_accuracy: 0.8417 - val_loss: 10.5681 - learning_rate: 1.0000e-04\n",
            "Epoch 38/100\n",
            "\u001b[1m70/70\u001b[0m \u001b[32m━━━━━━━━━━━━━━━━━━━━\u001b[0m\u001b[37m\u001b[0m \u001b[1m15s\u001b[0m 208ms/step - accuracy: 0.9134 - loss: 10.0100 - val_accuracy: 0.9317 - val_loss: 9.6563 - learning_rate: 1.0000e-04\n",
            "Epoch 39/100\n",
            "\u001b[1m70/70\u001b[0m \u001b[32m━━━━━━━━━━━━━━━━━━━━\u001b[0m\u001b[37m\u001b[0m \u001b[1m14s\u001b[0m 197ms/step - accuracy: 0.9244 - loss: 9.6646 - val_accuracy: 0.9460 - val_loss: 9.4805 - learning_rate: 1.0000e-04\n",
            "Epoch 40/100\n",
            "\u001b[1m70/70\u001b[0m \u001b[32m━━━━━━━━━━━━━━━━━━━━\u001b[0m\u001b[37m\u001b[0m \u001b[1m14s\u001b[0m 196ms/step - accuracy: 0.9244 - loss: 9.3916 - val_accuracy: 0.9532 - val_loss: 9.1390 - learning_rate: 1.0000e-04\n",
            "Epoch 41/100\n",
            "\u001b[1m70/70\u001b[0m \u001b[32m━━━━━━━━━━━━━━━━━━━━\u001b[0m\u001b[37m\u001b[0m \u001b[1m14s\u001b[0m 198ms/step - accuracy: 0.9348 - loss: 9.0377 - val_accuracy: 0.9568 - val_loss: 8.8576 - learning_rate: 1.0000e-04\n",
            "Epoch 42/100\n",
            "\u001b[1m70/70\u001b[0m \u001b[32m━━━━━━━━━━━━━━━━━━━━\u001b[0m\u001b[37m\u001b[0m \u001b[1m14s\u001b[0m 201ms/step - accuracy: 0.9528 - loss: 8.7266 - val_accuracy: 0.9173 - val_loss: 8.8368 - learning_rate: 1.0000e-04\n",
            "Epoch 43/100\n",
            "\u001b[1m70/70\u001b[0m \u001b[32m━━━━━━━━━━━━━━━━━━━━\u001b[0m\u001b[37m\u001b[0m \u001b[1m14s\u001b[0m 200ms/step - accuracy: 0.9480 - loss: 8.4690 - val_accuracy: 0.8633 - val_loss: 8.6914 - learning_rate: 1.0000e-04\n",
            "Epoch 44/100\n",
            "\u001b[1m70/70\u001b[0m \u001b[32m━━━━━━━━━━━━━━━━━━━━\u001b[0m\u001b[37m\u001b[0m \u001b[1m14s\u001b[0m 197ms/step - accuracy: 0.9307 - loss: 8.2426 - val_accuracy: 0.9460 - val_loss: 7.9857 - learning_rate: 1.0000e-04\n",
            "Epoch 45/100\n",
            "\u001b[1m70/70\u001b[0m \u001b[32m━━━━━━━━━━━━━━━━━━━━\u001b[0m\u001b[37m\u001b[0m \u001b[1m14s\u001b[0m 204ms/step - accuracy: 0.9380 - loss: 7.9064 - val_accuracy: 0.9496 - val_loss: 7.7666 - learning_rate: 1.0000e-04\n",
            "Epoch 46/100\n",
            "\u001b[1m70/70\u001b[0m \u001b[32m━━━━━━━━━━━━━━━━━━━━\u001b[0m\u001b[37m\u001b[0m \u001b[1m14s\u001b[0m 199ms/step - accuracy: 0.9380 - loss: 7.6144 - val_accuracy: 0.9388 - val_loss: 7.5165 - learning_rate: 1.0000e-04\n",
            "Epoch 47/100\n",
            "\u001b[1m70/70\u001b[0m \u001b[32m━━━━━━━━━━━━━━━━━━━━\u001b[0m\u001b[37m\u001b[0m \u001b[1m14s\u001b[0m 197ms/step - accuracy: 0.9317 - loss: 7.3810 - val_accuracy: 0.9496 - val_loss: 7.1625 - learning_rate: 1.0000e-04\n",
            "Epoch 48/100\n",
            "\u001b[1m70/70\u001b[0m \u001b[32m━━━━━━━━━━━━━━━━━━━━\u001b[0m\u001b[37m\u001b[0m \u001b[1m14s\u001b[0m 196ms/step - accuracy: 0.9509 - loss: 7.0997 - val_accuracy: 0.9460 - val_loss: 6.9389 - learning_rate: 1.0000e-04\n",
            "Epoch 49/100\n",
            "\u001b[1m70/70\u001b[0m \u001b[32m━━━━━━━━━━━━━━━━━━━━\u001b[0m\u001b[37m\u001b[0m \u001b[1m14s\u001b[0m 201ms/step - accuracy: 0.9644 - loss: 6.7663 - val_accuracy: 0.9532 - val_loss: 6.6456 - learning_rate: 1.0000e-04\n",
            "Epoch 50/100\n",
            "\u001b[1m70/70\u001b[0m \u001b[32m━━━━━━━━━━━━━━━━━━━━\u001b[0m\u001b[37m\u001b[0m \u001b[1m14s\u001b[0m 198ms/step - accuracy: 0.9651 - loss: 6.5390 - val_accuracy: 0.9532 - val_loss: 6.4303 - learning_rate: 1.0000e-04\n",
            "Epoch 51/100\n",
            "\u001b[1m70/70\u001b[0m \u001b[32m━━━━━━━━━━━━━━━━━━━━\u001b[0m\u001b[37m\u001b[0m \u001b[1m14s\u001b[0m 197ms/step - accuracy: 0.9618 - loss: 6.2594 - val_accuracy: 0.9496 - val_loss: 6.1601 - learning_rate: 1.0000e-04\n",
            "Epoch 52/100\n",
            "\u001b[1m70/70\u001b[0m \u001b[32m━━━━━━━━━━━━━━━━━━━━\u001b[0m\u001b[37m\u001b[0m \u001b[1m14s\u001b[0m 197ms/step - accuracy: 0.9726 - loss: 6.0428 - val_accuracy: 0.9604 - val_loss: 5.8587 - learning_rate: 1.0000e-04\n",
            "Epoch 53/100\n",
            "\u001b[1m70/70\u001b[0m \u001b[32m━━━━━━━━━━━━━━━━━━━━\u001b[0m\u001b[37m\u001b[0m \u001b[1m14s\u001b[0m 194ms/step - accuracy: 0.9733 - loss: 5.7544 - val_accuracy: 0.8813 - val_loss: 5.9855 - learning_rate: 1.0000e-04\n",
            "Epoch 54/100\n",
            "\u001b[1m70/70\u001b[0m \u001b[32m━━━━━━━━━━━━━━━━━━━━\u001b[0m\u001b[37m\u001b[0m \u001b[1m14s\u001b[0m 200ms/step - accuracy: 0.9577 - loss: 5.5620 - val_accuracy: 0.9353 - val_loss: 5.5552 - learning_rate: 1.0000e-04\n",
            "Epoch 55/100\n",
            "\u001b[1m70/70\u001b[0m \u001b[32m━━━━━━━━━━━━━━━━━━━━\u001b[0m\u001b[37m\u001b[0m \u001b[1m14s\u001b[0m 197ms/step - accuracy: 0.9643 - loss: 5.3597 - val_accuracy: 0.9460 - val_loss: 5.3071 - learning_rate: 1.0000e-04\n",
            "Epoch 56/100\n",
            "\u001b[1m70/70\u001b[0m \u001b[32m━━━━━━━━━━━━━━━━━━━━\u001b[0m\u001b[37m\u001b[0m \u001b[1m14s\u001b[0m 200ms/step - accuracy: 0.9683 - loss: 5.0922 - val_accuracy: 0.8921 - val_loss: 5.3609 - learning_rate: 1.0000e-04\n",
            "Epoch 57/100\n",
            "\u001b[1m70/70\u001b[0m \u001b[32m━━━━━━━━━━━━━━━━━━━━\u001b[0m\u001b[37m\u001b[0m \u001b[1m14s\u001b[0m 201ms/step - accuracy: 0.9685 - loss: 4.8805 - val_accuracy: 0.9245 - val_loss: 5.0169 - learning_rate: 1.0000e-04\n",
            "Epoch 58/100\n",
            "\u001b[1m70/70\u001b[0m \u001b[32m━━━━━━━━━━━━━━━━━━━━\u001b[0m\u001b[37m\u001b[0m \u001b[1m14s\u001b[0m 198ms/step - accuracy: 0.9636 - loss: 4.6438 - val_accuracy: 0.9317 - val_loss: 4.8155 - learning_rate: 1.0000e-04\n",
            "Epoch 59/100\n",
            "\u001b[1m70/70\u001b[0m \u001b[32m━━━━━━━━━━━━━━━━━━━━\u001b[0m\u001b[37m\u001b[0m \u001b[1m14s\u001b[0m 198ms/step - accuracy: 0.9662 - loss: 4.4622 - val_accuracy: 0.9568 - val_loss: 4.5398 - learning_rate: 1.0000e-04\n",
            "Epoch 60/100\n",
            "\u001b[1m70/70\u001b[0m \u001b[32m━━━━━━━━━━━━━━━━━━━━\u001b[0m\u001b[37m\u001b[0m \u001b[1m14s\u001b[0m 199ms/step - accuracy: 0.9700 - loss: 4.2236 - val_accuracy: 0.9281 - val_loss: 4.4184 - learning_rate: 1.0000e-04\n",
            "Epoch 61/100\n",
            "\u001b[1m70/70\u001b[0m \u001b[32m━━━━━━━━━━━━━━━━━━━━\u001b[0m\u001b[37m\u001b[0m \u001b[1m15s\u001b[0m 206ms/step - accuracy: 0.9778 - loss: 4.0277 - val_accuracy: 0.9460 - val_loss: 4.0859 - learning_rate: 1.0000e-04\n",
            "Epoch 62/100\n",
            "\u001b[1m70/70\u001b[0m \u001b[32m━━━━━━━━━━━━━━━━━━━━\u001b[0m\u001b[37m\u001b[0m \u001b[1m14s\u001b[0m 194ms/step - accuracy: 0.9745 - loss: 3.8328 - val_accuracy: 0.9317 - val_loss: 3.8061 - learning_rate: 1.0000e-04\n",
            "Epoch 63/100\n",
            "\u001b[1m70/70\u001b[0m \u001b[32m━━━━━━━━━━━━━━━━━━━━\u001b[0m\u001b[37m\u001b[0m \u001b[1m14s\u001b[0m 196ms/step - accuracy: 0.9724 - loss: 3.6616 - val_accuracy: 0.9496 - val_loss: 3.6467 - learning_rate: 1.0000e-04\n",
            "Epoch 64/100\n",
            "\u001b[1m70/70\u001b[0m \u001b[32m━━━━━━━━━━━━━━━━━━━━\u001b[0m\u001b[37m\u001b[0m \u001b[1m15s\u001b[0m 205ms/step - accuracy: 0.9840 - loss: 3.4557 - val_accuracy: 0.8309 - val_loss: 4.2676 - learning_rate: 1.0000e-04\n",
            "Epoch 65/100\n",
            "\u001b[1m70/70\u001b[0m \u001b[32m━━━━━━━━━━━━━━━━━━━━\u001b[0m\u001b[37m\u001b[0m \u001b[1m14s\u001b[0m 201ms/step - accuracy: 0.9602 - loss: 3.3386 - val_accuracy: 0.9317 - val_loss: 3.3712 - learning_rate: 1.0000e-04\n",
            "Epoch 66/100\n",
            "\u001b[1m70/70\u001b[0m \u001b[32m━━━━━━━━━━━━━━━━━━━━\u001b[0m\u001b[37m\u001b[0m \u001b[1m15s\u001b[0m 208ms/step - accuracy: 0.9756 - loss: 3.1615 - val_accuracy: 0.9173 - val_loss: 3.3334 - learning_rate: 1.0000e-04\n",
            "Epoch 67/100\n",
            "\u001b[1m70/70\u001b[0m \u001b[32m━━━━━━━━━━━━━━━━━━━━\u001b[0m\u001b[37m\u001b[0m \u001b[1m15s\u001b[0m 210ms/step - accuracy: 0.9677 - loss: 2.9812 - val_accuracy: 0.9496 - val_loss: 2.9752 - learning_rate: 1.0000e-04\n",
            "Epoch 68/100\n",
            "\u001b[1m70/70\u001b[0m \u001b[32m━━━━━━━━━━━━━━━━━━━━\u001b[0m\u001b[37m\u001b[0m \u001b[1m14s\u001b[0m 201ms/step - accuracy: 0.9829 - loss: 2.8292 - val_accuracy: 0.9532 - val_loss: 2.8657 - learning_rate: 1.0000e-04\n",
            "Epoch 69/100\n",
            "\u001b[1m70/70\u001b[0m \u001b[32m━━━━━━━━━━━━━━━━━━━━\u001b[0m\u001b[37m\u001b[0m \u001b[1m14s\u001b[0m 194ms/step - accuracy: 0.9754 - loss: 2.6785 - val_accuracy: 0.9676 - val_loss: 2.6698 - learning_rate: 1.0000e-04\n",
            "Epoch 70/100\n",
            "\u001b[1m70/70\u001b[0m \u001b[32m━━━━━━━━━━━━━━━━━━━━\u001b[0m\u001b[37m\u001b[0m \u001b[1m14s\u001b[0m 194ms/step - accuracy: 0.9787 - loss: 2.5152 - val_accuracy: 0.9676 - val_loss: 2.4987 - learning_rate: 1.0000e-04\n",
            "Epoch 71/100\n",
            "\u001b[1m70/70\u001b[0m \u001b[32m━━━━━━━━━━━━━━━━━━━━\u001b[0m\u001b[37m\u001b[0m \u001b[1m14s\u001b[0m 196ms/step - accuracy: 0.9728 - loss: 2.4212 - val_accuracy: 0.9424 - val_loss: 2.4385 - learning_rate: 1.0000e-04\n",
            "Epoch 72/100\n",
            "\u001b[1m70/70\u001b[0m \u001b[32m━━━━━━━━━━━━━━━━━━━━\u001b[0m\u001b[37m\u001b[0m \u001b[1m14s\u001b[0m 202ms/step - accuracy: 0.9846 - loss: 2.2582 - val_accuracy: 0.9424 - val_loss: 2.2969 - learning_rate: 1.0000e-04\n",
            "Epoch 73/100\n",
            "\u001b[1m70/70\u001b[0m \u001b[32m━━━━━━━━━━━━━━━━━━━━\u001b[0m\u001b[37m\u001b[0m \u001b[1m14s\u001b[0m 195ms/step - accuracy: 0.9798 - loss: 2.1397 - val_accuracy: 0.9281 - val_loss: 2.3029 - learning_rate: 1.0000e-04\n",
            "Epoch 74/100\n",
            "\u001b[1m70/70\u001b[0m \u001b[32m━━━━━━━━━━━━━━━━━━━━\u001b[0m\u001b[37m\u001b[0m \u001b[1m14s\u001b[0m 201ms/step - accuracy: 0.9796 - loss: 2.0077 - val_accuracy: 0.9353 - val_loss: 2.1717 - learning_rate: 1.0000e-04\n",
            "Epoch 75/100\n",
            "\u001b[1m70/70\u001b[0m \u001b[32m━━━━━━━━━━━━━━━━━━━━\u001b[0m\u001b[37m\u001b[0m \u001b[1m14s\u001b[0m 205ms/step - accuracy: 0.9746 - loss: 1.9322 - val_accuracy: 0.9568 - val_loss: 1.8891 - learning_rate: 1.0000e-04\n",
            "Epoch 76/100\n",
            "\u001b[1m70/70\u001b[0m \u001b[32m━━━━━━━━━━━━━━━━━━━━\u001b[0m\u001b[37m\u001b[0m \u001b[1m14s\u001b[0m 197ms/step - accuracy: 0.9711 - loss: 1.8360 - val_accuracy: 0.7770 - val_loss: 2.4345 - learning_rate: 1.0000e-04\n",
            "Epoch 77/100\n",
            "\u001b[1m70/70\u001b[0m \u001b[32m━━━━━━━━━━━━━━━━━━━━\u001b[0m\u001b[37m\u001b[0m \u001b[1m14s\u001b[0m 197ms/step - accuracy: 0.9763 - loss: 1.7227 - val_accuracy: 0.9568 - val_loss: 1.7398 - learning_rate: 1.0000e-04\n",
            "Epoch 78/100\n",
            "\u001b[1m70/70\u001b[0m \u001b[32m━━━━━━━━━━━━━━━━━━━━\u001b[0m\u001b[37m\u001b[0m \u001b[1m14s\u001b[0m 198ms/step - accuracy: 0.9831 - loss: 1.6112 - val_accuracy: 0.9496 - val_loss: 1.6654 - learning_rate: 1.0000e-04\n",
            "Epoch 79/100\n",
            "\u001b[1m70/70\u001b[0m \u001b[32m━━━━━━━━━━━━━━━━━━━━\u001b[0m\u001b[37m\u001b[0m \u001b[1m14s\u001b[0m 204ms/step - accuracy: 0.9797 - loss: 1.5245 - val_accuracy: 0.9137 - val_loss: 1.7575 - learning_rate: 1.0000e-04\n",
            "Epoch 80/100\n",
            "\u001b[1m70/70\u001b[0m \u001b[32m━━━━━━━━━━━━━━━━━━━━\u001b[0m\u001b[37m\u001b[0m \u001b[1m14s\u001b[0m 196ms/step - accuracy: 0.9770 - loss: 1.4447 - val_accuracy: 0.9281 - val_loss: 1.6598 - learning_rate: 1.0000e-04\n",
            "Epoch 81/100\n",
            "\u001b[1m70/70\u001b[0m \u001b[32m━━━━━━━━━━━━━━━━━━━━\u001b[0m\u001b[37m\u001b[0m \u001b[1m14s\u001b[0m 197ms/step - accuracy: 0.9901 - loss: 1.3318 - val_accuracy: 0.9353 - val_loss: 1.6270 - learning_rate: 1.0000e-04\n",
            "Epoch 82/100\n",
            "\u001b[1m70/70\u001b[0m \u001b[32m━━━━━━━━━━━━━━━━━━━━\u001b[0m\u001b[37m\u001b[0m \u001b[1m14s\u001b[0m 199ms/step - accuracy: 0.9724 - loss: 1.3279 - val_accuracy: 0.9568 - val_loss: 1.3286 - learning_rate: 1.0000e-04\n",
            "Epoch 83/100\n",
            "\u001b[1m70/70\u001b[0m \u001b[32m━━━━━━━━━━━━━━━━━━━━\u001b[0m\u001b[37m\u001b[0m \u001b[1m14s\u001b[0m 196ms/step - accuracy: 0.9864 - loss: 1.1863 - val_accuracy: 0.9424 - val_loss: 1.2840 - learning_rate: 1.0000e-04\n",
            "Epoch 84/100\n",
            "\u001b[1m70/70\u001b[0m \u001b[32m━━━━━━━━━━━━━━━━━━━━\u001b[0m\u001b[37m\u001b[0m \u001b[1m14s\u001b[0m 198ms/step - accuracy: 0.9790 - loss: 1.1341 - val_accuracy: 0.9353 - val_loss: 1.3380 - learning_rate: 1.0000e-04\n",
            "Epoch 85/100\n",
            "\u001b[1m70/70\u001b[0m \u001b[32m━━━━━━━━━━━━━━━━━━━━\u001b[0m\u001b[37m\u001b[0m \u001b[1m14s\u001b[0m 198ms/step - accuracy: 0.9737 - loss: 1.0931 - val_accuracy: 0.9317 - val_loss: 1.2612 - learning_rate: 1.0000e-04\n",
            "Epoch 86/100\n",
            "\u001b[1m70/70\u001b[0m \u001b[32m━━━━━━━━━━━━━━━━━━━━\u001b[0m\u001b[37m\u001b[0m \u001b[1m14s\u001b[0m 197ms/step - accuracy: 0.9931 - loss: 0.9869 - val_accuracy: 0.9281 - val_loss: 1.1768 - learning_rate: 1.0000e-04\n",
            "Epoch 87/100\n",
            "\u001b[1m70/70\u001b[0m \u001b[32m━━━━━━━━━━━━━━━━━━━━\u001b[0m\u001b[37m\u001b[0m \u001b[1m14s\u001b[0m 195ms/step - accuracy: 0.9736 - loss: 0.9878 - val_accuracy: 0.9424 - val_loss: 1.1504 - learning_rate: 1.0000e-04\n",
            "Epoch 88/100\n",
            "\u001b[1m70/70\u001b[0m \u001b[32m━━━━━━━━━━━━━━━━━━━━\u001b[0m\u001b[37m\u001b[0m \u001b[1m14s\u001b[0m 197ms/step - accuracy: 0.9855 - loss: 0.9119 - val_accuracy: 0.9640 - val_loss: 1.0084 - learning_rate: 1.0000e-04\n",
            "Epoch 89/100\n",
            "\u001b[1m70/70\u001b[0m \u001b[32m━━━━━━━━━━━━━━━━━━━━\u001b[0m\u001b[37m\u001b[0m \u001b[1m14s\u001b[0m 195ms/step - accuracy: 0.9780 - loss: 0.8744 - val_accuracy: 0.9388 - val_loss: 1.1143 - learning_rate: 1.0000e-04\n",
            "Epoch 90/100\n",
            "\u001b[1m70/70\u001b[0m \u001b[32m━━━━━━━━━━━━━━━━━━━━\u001b[0m\u001b[37m\u001b[0m \u001b[1m14s\u001b[0m 195ms/step - accuracy: 0.9798 - loss: 0.8152 - val_accuracy: 0.9173 - val_loss: 1.2150 - learning_rate: 1.0000e-04\n",
            "Epoch 91/100\n",
            "\u001b[1m70/70\u001b[0m \u001b[32m━━━━━━━━━━━━━━━━━━━━\u001b[0m\u001b[37m\u001b[0m \u001b[1m14s\u001b[0m 198ms/step - accuracy: 0.9843 - loss: 0.7742 - val_accuracy: 0.9568 - val_loss: 0.9091 - learning_rate: 1.0000e-04\n",
            "Epoch 92/100\n",
            "\u001b[1m70/70\u001b[0m \u001b[32m━━━━━━━━━━━━━━━━━━━━\u001b[0m\u001b[37m\u001b[0m \u001b[1m15s\u001b[0m 208ms/step - accuracy: 0.9876 - loss: 0.7112 - val_accuracy: 0.9640 - val_loss: 0.7487 - learning_rate: 1.0000e-04\n",
            "Epoch 93/100\n",
            "\u001b[1m70/70\u001b[0m \u001b[32m━━━━━━━━━━━━━━━━━━━━\u001b[0m\u001b[37m\u001b[0m \u001b[1m14s\u001b[0m 198ms/step - accuracy: 0.9854 - loss: 0.6677 - val_accuracy: 0.9353 - val_loss: 0.9148 - learning_rate: 1.0000e-04\n",
            "Epoch 94/100\n",
            "\u001b[1m70/70\u001b[0m \u001b[32m━━━━━━━━━━━━━━━━━━━━\u001b[0m\u001b[37m\u001b[0m \u001b[1m14s\u001b[0m 201ms/step - accuracy: 0.9767 - loss: 0.6667 - val_accuracy: 0.9604 - val_loss: 0.7773 - learning_rate: 1.0000e-04\n",
            "Epoch 95/100\n",
            "\u001b[1m70/70\u001b[0m \u001b[32m━━━━━━━━━━━━━━━━━━━━\u001b[0m\u001b[37m\u001b[0m \u001b[1m14s\u001b[0m 199ms/step - accuracy: 0.9810 - loss: 0.6279 - val_accuracy: 0.8849 - val_loss: 1.1454 - learning_rate: 1.0000e-04\n",
            "Epoch 96/100\n",
            "\u001b[1m70/70\u001b[0m \u001b[32m━━━━━━━━━━━━━━━━━━━━\u001b[0m\u001b[37m\u001b[0m \u001b[1m14s\u001b[0m 200ms/step - accuracy: 0.9883 - loss: 0.5759 - val_accuracy: 0.9245 - val_loss: 0.7721 - learning_rate: 1.0000e-04\n",
            "Epoch 97/100\n",
            "\u001b[1m70/70\u001b[0m \u001b[32m━━━━━━━━━━━━━━━━━━━━\u001b[0m\u001b[37m\u001b[0m \u001b[1m14s\u001b[0m 204ms/step - accuracy: 0.9766 - loss: 0.5473 - val_accuracy: 0.9568 - val_loss: 0.6592 - learning_rate: 1.0000e-04\n",
            "Epoch 98/100\n",
            "\u001b[1m70/70\u001b[0m \u001b[32m━━━━━━━━━━━━━━━━━━━━\u001b[0m\u001b[37m\u001b[0m \u001b[1m14s\u001b[0m 202ms/step - accuracy: 0.9577 - loss: 0.6289 - val_accuracy: 0.9712 - val_loss: 0.5466 - learning_rate: 1.0000e-04\n",
            "Epoch 99/100\n",
            "\u001b[1m70/70\u001b[0m \u001b[32m━━━━━━━━━━━━━━━━━━━━\u001b[0m\u001b[37m\u001b[0m \u001b[1m14s\u001b[0m 194ms/step - accuracy: 0.9659 - loss: 0.5507 - val_accuracy: 0.8561 - val_loss: 1.2428 - learning_rate: 1.0000e-04\n",
            "Epoch 100/100\n",
            "\u001b[1m70/70\u001b[0m \u001b[32m━━━━━━━━━━━━━━━━━━━━\u001b[0m\u001b[37m\u001b[0m \u001b[1m14s\u001b[0m 195ms/step - accuracy: 0.9711 - loss: 0.5050 - val_accuracy: 0.8885 - val_loss: 1.0243 - learning_rate: 1.0000e-04\n"
          ]
        }
      ],
      "source": [
        "# Fit the model\n",
        "history = model.fit(\n",
        "    train_datagen.flow(train_images, train_labels_categorical, batch_size=BATCH_SIZE),\n",
        "    epochs=EPOCHS,\n",
        "    validation_data=test_datagen.flow(test_images, test_labels_categorical, batch_size=BATCH_SIZE),\n",
        "    callbacks=[reduce_lr, early_stopping],\n",
        "    class_weight=class_weight_dict\n",
        ")"
      ]
    },
    {
      "cell_type": "code",
      "execution_count": null,
      "metadata": {
        "id": "TsTzr-xVSx5v",
        "colab": {
          "base_uri": "https://localhost:8080/",
          "height": 410
        },
        "outputId": "466590eb-48b4-41aa-bac4-9e153e3b5dc2"
      },
      "outputs": [
        {
          "output_type": "display_data",
          "data": {
            "text/plain": [
              "<Figure size 1200x400 with 2 Axes>"
            ],
            "image/png": "[encoded data removed]"
          },
          "metadata": {}
        }
      ],
      "source": [
        "# Plot accuracy and loss\n",
        "plt.figure(figsize=(12, 4))\n",
        "plt.subplot(1, 2, 1)\n",
        "plt.plot(history.history['accuracy'], label='Train')\n",
        "plt.plot(history.history['val_accuracy'], label='Validation')\n",
        "plt.title('Model accuracy')\n",
        "plt.ylabel('Accuracy')\n",
        "plt.xlabel('Epoch')\n",
        "plt.legend(loc='upper left')\n",
        "\n",
        "plt.subplot(1, 2, 2)\n",
        "plt.plot(history.history['loss'], label='Train')\n",
        "plt.plot(history.history['val_loss'], label='Validation')\n",
        "plt.title('Model loss')\n",
        "plt.ylabel('Loss')\n",
        "plt.xlabel('Epoch')\n",
        "plt.legend(loc='upper left')\n",
        "\n",
        "plt.show()\n"
      ]
    },
    {
      "cell_type": "code",
      "execution_count": null,
      "metadata": {
        "id": "_amw5lQaS0Nz",
        "colab": {
          "base_uri": "https://localhost:8080/",
          "height": 1000
        },
        "outputId": "6ce36a48-523e-4364-860d-5a078b1cfc71"
      },
      "outputs": [
        {
          "output_type": "stream",
          "name": "stderr",
          "text": [
            "/usr/local/lib/python3.11/dist-packages/keras/src/models/functional.py:237: UserWarning: The structure of `inputs` doesn't match the expected structure.\n",
            "Expected: ['keras_tensor_182']\n",
            "Received: inputs=Tensor(shape=(32, 224, 224, 3))\n",
            "  warnings.warn(msg)\n"
          ]
        },
        {
          "output_type": "stream",
          "name": "stdout",
          "text": [
            "\u001b[1m9/9\u001b[0m \u001b[32m━━━━━━━━━━━━━━━━━━━━\u001b[0m\u001b[37m\u001b[0m \u001b[1m12s\u001b[0m 732ms/step\n",
            "               precision    recall  f1-score   support\n",
            "\n",
            "      Maybrat       0.99      0.99      0.99        70\n",
            "          Moi       0.96      0.96      0.96        76\n",
            "   Raja Ampat       0.95      0.97      0.96        64\n",
            "SorongSelatan       0.99      0.97      0.98        68\n",
            "\n",
            "     accuracy                           0.97       278\n",
            "    macro avg       0.97      0.97      0.97       278\n",
            " weighted avg       0.97      0.97      0.97       278\n",
            "\n"
          ]
        },
        {
          "output_type": "display_data",
          "data": {
            "text/plain": [
              "<Figure size 1000x800 with 2 Axes>"
            ],
            "image/png": "[encoded data removed]"
          },
          "metadata": {}
        }
      ],
      "source": [
        "# Evaluate model\n",
        "predictions = model.predict(test_images)\n",
        "predicted_classes = np.argmax(predictions, axis=1)\n",
        "\n",
        "# Classification report and confusion matrix\n",
        "print(classification_report(test_labels_encoded, predicted_classes, target_names=encoder.classes_))\n",
        "cm = confusion_matrix(test_labels_encoded, predicted_classes)\n",
        "plt.figure(figsize=(10, 8))\n",
        "sns.heatmap(cm, annot=True, fmt='d', cmap='Blues', xticklabels=encoder.classes_, yticklabels=encoder.classes_)\n",
        "plt.ylabel('Actual')\n",
        "plt.xlabel('Predicted')\n",
        "plt.title('Confusion Matrix')\n",
        "plt.show()"
      ]
    }
  ],
  "metadata": {
    "colab": {
      "provenance": [],
      "gpuType": "T4",
      "machine_shape": "hm"
    },
    "kernelspec": {
      "display_name": "Python 3",
      "name": "python3"
    },
    "language_info": {
      "name": "python"
    },
    "accelerator": "GPU"
  },
  "nbformat": 4,
  "nbformat_minor": 0
}