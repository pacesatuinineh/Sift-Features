{
  "cells": [
    {
      "cell_type": "markdown",
      "metadata": {
        "id": "view-in-github",
        "colab_type": "text"
      },
      "source": [
        "<a href=\"https://colab.research.google.com/github/pacesatuinineh/Sift-Features/blob/main/1004_K5Efficient_wajahSorongRaya.ipynb\" target=\"_parent\"><img src=\"https://colab.research.google.com/assets/colab-badge.svg\" alt=\"Open In Colab\"/></a>"
      ]
    },
    {
      "cell_type": "code",
      "source": [
        "#!pip install efficientnet==0.0.3\n",
        "!pip install PyWavelets"
      ],
      "metadata": {
        "id": "BYUAJQ01aozs",
        "colab": {
          "base_uri": "https://localhost:8080/"
        },
        "outputId": "bd1009e5-b9e5-4346-e1bb-7b2341c22b44"
      },
      "execution_count": null,
      "outputs": [
        {
          "output_type": "stream",
          "name": "stdout",
          "text": [
            "Collecting PyWavelets\n",
            "  Downloading pywavelets-1.8.0-cp311-cp311-manylinux_2_17_x86_64.manylinux2014_x86_64.whl.metadata (9.0 kB)\n",
            "Requirement already satisfied: numpy<3,>=1.23 in /usr/local/lib/python3.11/dist-packages (from PyWavelets) (1.26.4)\n",
            "Downloading pywavelets-1.8.0-cp311-cp311-manylinux_2_17_x86_64.manylinux2014_x86_64.whl (4.5 MB)\n",
            "\u001b[?25l   \u001b[90m━━━━━━━━━━━━━━━━━━━━━━━━━━━━━━━━━━━━━━━━\u001b[0m \u001b[32m0.0/4.5 MB\u001b[0m \u001b[31m?\u001b[0m eta \u001b[36m-:--:--\u001b[0m\r\u001b[2K   \u001b[91m━━━━━━━━━━━━━━━━━━━━━━━━━━━━━━━━━━━━━━━\u001b[0m\u001b[91m╸\u001b[0m \u001b[32m4.5/4.5 MB\u001b[0m \u001b[31m172.1 MB/s\u001b[0m eta \u001b[36m0:00:01\u001b[0m\r\u001b[2K   \u001b[90m━━━━━━━━━━━━━━━━━━━━━━━━━━━━━━━━━━━━━━━━\u001b[0m \u001b[32m4.5/4.5 MB\u001b[0m \u001b[31m92.4 MB/s\u001b[0m eta \u001b[36m0:00:00\u001b[0m\n",
            "\u001b[?25hInstalling collected packages: PyWavelets\n",
            "Successfully installed PyWavelets-1.8.0\n"
          ]
        }
      ]
    },
    {
      "cell_type": "code",
      "execution_count": null,
      "metadata": {
        "id": "O1uQFkh1OR73"
      },
      "outputs": [],
      "source": [
        "import cv2\n",
        "import numpy as np\n",
        "import os\n",
        "import pandas as pd\n",
        "from skimage.feature import hog\n",
        "from skimage.color import rgb2gray\n",
        "from sklearn.preprocessing import LabelEncoder\n",
        "from sklearn.metrics import accuracy_score, confusion_matrix, classification_report\n",
        "import matplotlib.pyplot as plt\n",
        "import seaborn as sns\n",
        "import tensorflow as tf\n",
        "from tensorflow.keras.models import Model\n",
        "from tensorflow.keras.layers import Dense, Dropout, GlobalAveragePooling2D, BatchNormalization, Input\n",
        "from tensorflow.keras.preprocessing.image import ImageDataGenerator\n",
        "from tensorflow.keras.applications import ResNet50\n",
        "from tensorflow.keras.utils import to_categorical\n",
        "from sklearn.decomposition import PCA\n",
        "from sklearn.utils.class_weight import compute_class_weight\n",
        "#from tensorflow.keras.applications import VGG16\n",
        "#from tensorflow.keras.applications import MobileNetV2\n",
        "#from tensorflow.keras.applications import EfficientNetB0\n",
        "import matplotlib.pyplot as plt\n",
        "import numpy as np\n",
        "import pywt\n",
        "from tensorflow.keras.applications import EfficientNetB5\n",
        "from tensorflow.keras.layers import Input, GlobalAveragePooling2D, Dense, Dropout, BatchNormalization\n",
        "from tensorflow.keras.models import Model\n",
        "import tensorflow as tf\n",
        "from tensorflow.keras.callbacks import EarlyStopping"
      ]
    },
    {
      "cell_type": "code",
      "execution_count": null,
      "metadata": {
        "id": "kdVXkRGgR6Nt",
        "colab": {
          "base_uri": "https://localhost:8080/"
        },
        "outputId": "72a82aba-4735-4605-e793-d2616c881983"
      },
      "outputs": [
        {
          "output_type": "stream",
          "name": "stdout",
          "text": [
            "Drive already mounted at /content/drive; to attempt to forcibly remount, call drive.mount(\"/content/drive\", force_remount=True).\n"
          ]
        }
      ],
      "source": [
        "from google.colab import drive\n",
        "drive.mount('/content/drive')\n",
        "\n"
      ]
    },
    {
      "cell_type": "code",
      "source": [
        "# Paths\n",
        "#data_path = \"/content/drive/MyDrive/WajahSorongRaya\"  # Adjust the path to where 'papua-1' and 'papua-2' are located\n",
        "\n"
      ],
      "metadata": {
        "id": "4ElfjpaY6q6v"
      },
      "execution_count": null,
      "outputs": []
    },
    {
      "cell_type": "code",
      "source": [
        "import os\n",
        "\n",
        "def list_folders_and_image_count(data_path):\n",
        "  \"\"\"\n",
        "  Lists subfolders within a directory and counts the number of images in each.\n",
        "\n",
        "  Args:\n",
        "    data_path: The path to the main directory.\n",
        "\n",
        "  Returns:\n",
        "    A dictionary where keys are folder names and values are image counts.\n",
        "  \"\"\"\n",
        "  folder_info = {}\n",
        "  for folder_name in os.listdir(data_path):\n",
        "    folder_path = os.path.join(data_path, folder_name)\n",
        "    if os.path.isdir(folder_path):\n",
        "      image_count = 0\n",
        "      for file_name in os.listdir(folder_path):\n",
        "        if file_name.lower().endswith(('.png', '.jpg', '.jpeg')):\n",
        "          image_count += 1\n",
        "      folder_info[folder_name] = image_count\n",
        "  return folder_info\n",
        "\n",
        "# Example usage:\n",
        "data_path = \"/content/drive/MyDrive/WajahSorongRaya2\"\n",
        "folder_data = list_folders_and_image_count(data_path)\n",
        "\n",
        "# Print the results:\n",
        "for folder, count in folder_data.items():\n",
        "  print(f\"Folder: {folder}, Image Count: {count}\")"
      ],
      "metadata": {
        "colab": {
          "base_uri": "https://localhost:8080/"
        },
        "id": "vAm2tMtrRUCD",
        "outputId": "1b1aacfc-7fe6-43e8-dd5b-9ac6b8e5f4f2"
      },
      "execution_count": null,
      "outputs": [
        {
          "output_type": "stream",
          "name": "stdout",
          "text": [
            "Folder: SorongSelatan, Image Count: 320\n",
            "Folder: Moi2, Image Count: 364\n",
            "Folder: Raja Ampat, Image Count: 337\n",
            "Folder: Maybrat, Image Count: 355\n"
          ]
        }
      ]
    },
    {
      "cell_type": "code",
      "execution_count": null,
      "metadata": {
        "id": "TzpkhnbsR_Q7"
      },
      "outputs": [],
      "source": [
        "# Constants\n",
        "IMAGE_SIZE = (224, 224)\n",
        "BATCH_SIZE = 16\n",
        "EPOCHS = 100"
      ]
    },
    {
      "cell_type": "code",
      "execution_count": null,
      "metadata": {
        "id": "69Ch8XRnSFsg"
      },
      "outputs": [],
      "source": [
        "# Preprocessing Function\n",
        "def preprocess_image(image):\n",
        "    # Resize image\n",
        "    image = cv2.resize(image, IMAGE_SIZE)\n",
        "    # Histogram equalization\n",
        "    image = cv2.cvtColor(image, cv2.COLOR_BGR2GRAY)\n",
        "    image = cv2.equalizeHist(image)\n",
        "    # Apply noise reduction\n",
        "    image = cv2.fastNlMeansDenoising(image, h=10)\n",
        "    # Convert back to RGB\n",
        "    return cv2.cvtColor(image, cv2.COLOR_GRAY2RGB)"
      ]
    },
    {
      "cell_type": "code",
      "source": [
        "def apply_haar_wavelet_and_gaussian(image):\n",
        "    coeffs2 = pywt.dwt2(image, 'haar')\n",
        "    LL, (LH, HL, HH) = coeffs2\n",
        "    LL_gaussian = cv2.GaussianBlur(LL, (5, 5), 0)  # Apply Gaussian filter\n",
        "    return LL_gaussian  # Use the low-frequency component with Gaussian filter"
      ],
      "metadata": {
        "id": "35xK0a6ZwI3W"
      },
      "execution_count": null,
      "outputs": []
    },
    {
      "cell_type": "code",
      "source": [],
      "metadata": {
        "id": "J3bO03R7FZeq"
      },
      "execution_count": null,
      "outputs": []
    },
    {
      "cell_type": "code",
      "source": [
        "def extract_gabor_features(image):\n",
        "    # Konversi gambar ke grayscale\n",
        "    gray = cv2.cvtColor(image, cv2.COLOR_BGR2GRAY)\n",
        "\n",
        "    # Definisikan filter Gabor\n",
        "    gabor_filters = []\n",
        "    ksize = 31  # Ukuran kernel\n",
        "    for theta in np.arange(0, np.pi, np.pi / 16):  # Orientasi\n",
        "        kern = cv2.getGaborKernel((ksize, ksize), 4.0, theta, 10.0, 0.5, 0, ktype=cv2.CV_32F)\n",
        "        kern /= 1.5*kern.sum()\n",
        "        gabor_filters.append(kern)\n",
        "\n",
        "    # Terapkan filter Gabor dan gabungkan fitur\n",
        "    gabor_features = []\n",
        "    for kern in gabor_filters:\n",
        "        fimg = cv2.filter2D(gray, cv2.CV_8UC3, kern)\n",
        "        gabor_features.append(fimg)\n",
        "\n",
        "    # Gabungkan fitur Gabor menjadi satu vektor\n",
        "    gabor_features = np.concatenate([f.flatten() for f in gabor_features])\n",
        "\n",
        "    return gabor_features"
      ],
      "metadata": {
        "id": "BqCnqxHo1R57"
      },
      "execution_count": null,
      "outputs": []
    },
    {
      "cell_type": "code",
      "execution_count": null,
      "metadata": {
        "id": "A13Ba3tKSKGT"
      },
      "outputs": [],
      "source": [
        "# Function to apply Haar wavelet transformation\n",
        "def apply_haar_wavelet(image):\n",
        "    I = image.astype(float)\n",
        "    m, n = I.shape[:2]\n",
        "    if m % 2 != 0:\n",
        "        m -= 1\n",
        "    if n % 2 != 0:\n",
        "        n -= 1\n",
        "    I = I[:m, :n]\n",
        "\n",
        "    LL = np.zeros((m // 2, n // 2))\n",
        "    for i in range(0, m, 2):\n",
        "        for j in range(0, n, 2):\n",
        "            Ixy = I[i:i + 2, j:j + 2]\n",
        "            LL[i // 2, j // 2] = np.mean(Ixy)\n",
        "    return LL"
      ]
    },
    {
      "cell_type": "code",
      "execution_count": null,
      "metadata": {
        "id": "XpeyGgyySM3z"
      },
      "outputs": [],
      "source": [
        "# Function to extract HOG features\n",
        "def extract_hog_features(image):\n",
        "    if len(image.shape) == 3:\n",
        "        image = rgb2gray(image)\n",
        "    features, _ = hog(image, pixels_per_cell=(8, 8), cells_per_block=(2, 2), visualize=True)\n",
        "    return features"
      ]
    },
    {
      "cell_type": "code",
      "execution_count": null,
      "metadata": {
        "id": "rBFoJaueSSPd"
      },
      "outputs": [],
      "source": [
        "def load_data(path):\n",
        "    data = []\n",
        "    labels = []\n",
        "    for folder in os.listdir(path):\n",
        "        folder_path = os.path.join(path, folder)\n",
        "        if os.path.isdir(folder_path):\n",
        "            for file in os.listdir(folder_path):\n",
        "                file_path = os.path.join(folder_path, file)\n",
        "                image = cv2.imread(file_path)\n",
        "                if image is not None:\n",
        "                    # Preprocess image\n",
        "                    image = preprocess_image(image)\n",
        "\n",
        "                    # Apply Haar wavelet\n",
        "                    #haar_image = apply_haar_wavelet(image)\n",
        "\n",
        "                    # Resize the image to 224x224 for ResNet50\n",
        "                    #haar_image = cv2.resize(haar_image, (224, 224))\n",
        "\n",
        "                    # Extract HOG features\n",
        "                    #hog_features = extract_hog_features(image)\n",
        "\n",
        "                    # Extract Gabor features\n",
        "                    #gabor_features = extract_gabor_features(image)\n",
        "\n",
        "                    #Extract Haar + Gaussia\n",
        "                    haar_image = apply_haar_wavelet_and_gaussian(image)\n",
        "\n",
        "                    #Extract Haar + Gabor\n",
        "                    #combined_features = np.concatenate([haar_image.flatten(), gabor_features])\n",
        "\n",
        "                    data.append(haar_image)  # Append the processed image\n",
        "\n",
        "                    #data.append(combined_features)  # Append the processed image\n",
        "\n",
        "                    labels.append(folder)\n",
        "\n",
        "    return np.array(data), np.array(labels)"
      ]
    },
    {
      "cell_type": "code",
      "source": [],
      "metadata": {
        "id": "0-h4fArUwFWs"
      },
      "execution_count": null,
      "outputs": []
    },
    {
      "cell_type": "code",
      "source": [],
      "metadata": {
        "id": "o2VSNKJ2-Hw1"
      },
      "execution_count": null,
      "outputs": []
    },
    {
      "cell_type": "code",
      "source": [],
      "metadata": {
        "id": "LeIgxb8g-MVb"
      },
      "execution_count": null,
      "outputs": []
    },
    {
      "cell_type": "code",
      "execution_count": null,
      "metadata": {
        "id": "KAP0lMIcSU1u"
      },
      "outputs": [],
      "source": [
        "# Load dataset\n",
        "data, labels = load_data(data_path)"
      ]
    },
    {
      "cell_type": "code",
      "source": [],
      "metadata": {
        "id": "agKK3jlu-M3D"
      },
      "execution_count": null,
      "outputs": []
    },
    {
      "cell_type": "code",
      "source": [],
      "metadata": {
        "id": "xdUyEy3i8q2Z"
      },
      "execution_count": null,
      "outputs": []
    },
    {
      "cell_type": "code",
      "source": [
        "num_images_to_display = 4  # Jumlah gambar yang ingin ditampilkan\n",
        "sample_images = data[:num_images_to_display]\n",
        "sample_labels = labels[:num_images_to_display]"
      ],
      "metadata": {
        "id": "HX3lp1Hs5Hq1"
      },
      "execution_count": null,
      "outputs": []
    },
    {
      "cell_type": "code",
      "source": [
        "#fig, axes = plt.subplots(1, num_images_to_display, figsize=(15, 5))  # Sesuaikan figsize jika perlu\n",
        "#for i, (image, label) in enumerate(zip(sample_images, sample_labels)):\n",
        "#    axes[i].imshow(image.astype(np.uint8), cmap='gray')\n",
        "#    axes[i].axis('off')\n",
        "#    axes[i].set_title(label)  # Menampilkan label sebagai judul di bawah gambar\n",
        "#plt.show()"
      ],
      "metadata": {
        "id": "Ot6yezTv5JCU"
      },
      "execution_count": null,
      "outputs": []
    },
    {
      "cell_type": "code",
      "execution_count": null,
      "metadata": {
        "id": "T1Uftjw3SVSf"
      },
      "outputs": [],
      "source": [
        "# Encode labels\n",
        "encoder = LabelEncoder()\n",
        "labels_encoded = encoder.fit_transform(labels)\n"
      ]
    },
    {
      "cell_type": "code",
      "execution_count": null,
      "metadata": {
        "id": "x47i3r-qSXC5",
        "colab": {
          "base_uri": "https://localhost:8080/"
        },
        "outputId": "be4a1f71-abbf-4e9c-a18b-8497429fe22f"
      },
      "outputs": [
        {
          "output_type": "stream",
          "name": "stdout",
          "text": [
            "Jumlah data train: 674\n",
            "Jumlah data validasi: 289\n",
            "Jumlah data test: 413\n"
          ]
        }
      ],
      "source": [
        "# Split into training and testing\n",
        "from sklearn.model_selection import train_test_split\n",
        "#train_data, test_data, train_labels, test_labels = train_test_split(data, labels_encoded, test_size=0.2, random_state=42)\n",
        "train_images, test_images, train_labels, test_labels = train_test_split(\n",
        "    data, labels_encoded, test_size=0.3, random_state=42\n",
        ")\n",
        "\n",
        "# Split training data into training and validation sets\n",
        "train_images, val_images, train_labels, val_labels = train_test_split(\n",
        "    train_images, train_labels, test_size=0.3, random_state=42\n",
        ")\n",
        "\n",
        "# Print the number of samples in each set\n",
        "print(\"Jumlah data train:\", len(train_images))\n",
        "print(\"Jumlah data validasi:\", len(val_images))\n",
        "print(\"Jumlah data test:\", len(test_images))\n"
      ]
    },
    {
      "cell_type": "code",
      "execution_count": null,
      "metadata": {
        "id": "KktpjT5iSZrZ"
      },
      "outputs": [],
      "source": [
        "# Class weights\n",
        "class_weights = compute_class_weight('balanced', classes=np.unique(train_labels), y=train_labels)\n",
        "class_weight_dict = dict(enumerate(class_weights))\n"
      ]
    },
    {
      "cell_type": "code",
      "execution_count": null,
      "metadata": {
        "id": "CPJhEjBfSb0v",
        "colab": {
          "base_uri": "https://localhost:8080/"
        },
        "outputId": "0b948cbb-8212-435b-a4c9-a904a91b1e28"
      },
      "outputs": [
        {
          "output_type": "stream",
          "name": "stdout",
          "text": [
            "Downloading data from https://storage.googleapis.com/keras-applications/efficientnetb5_notop.h5\n",
            "\u001b[1m115263384/115263384\u001b[0m \u001b[32m━━━━━━━━━━━━━━━━━━━━\u001b[0m\u001b[37m\u001b[0m \u001b[1m6s\u001b[0m 0us/step\n"
          ]
        }
      ],
      "source": [
        "# Define CNN model with pretrained ResNet50\n",
        "def build_model():\n",
        "    input_tensor = Input(shape=(224, 224, 3))\n",
        "    #base_model = EfficientNetB5(weights='imagenet', include_top=False, input_shape=(224, 224, 3))\n",
        "    base_model = ResNet50(weights='imagenet', include_top=False, input_tensor=input_tensor)\n",
        "    x = base_model.output\n",
        "    x = GlobalAveragePooling2D()(x)\n",
        "    x = BatchNormalization()(x)\n",
        "    x = Dense(1024, activation='relu', kernel_regularizer=tf.keras.regularizers.l2(0.01))(x)  # Lebih dalam dan lebih banyak unit\n",
        "    x = Dropout(0.8)(x)  # Dropout lebih tinggi\n",
        "    x = Dense(512, activation='relu', kernel_regularizer=tf.keras.regularizers.l2(0.01))(x)\n",
        "    x = Dropout(0.8)(x)\n",
        "    predictions = Dense(len(encoder.classes_), activation='softmax')(x)\n",
        "\n",
        "    model = Model(inputs=base_model.input, outputs=predictions)\n",
        "\n",
        "    # Unfreeze lebih banyak lapisan pada model dasar\n",
        "    for layer in base_model.layers:\n",
        "        layer.trainable = True\n",
        "\n",
        "    # Compile model dengan learning rate scheduler\n",
        "    optimizer = tf.keras.optimizers.Adam(learning_rate=1e-4)\n",
        "    model.compile(optimizer=optimizer, loss='categorical_crossentropy', metrics=['accuracy'])\n",
        "\n",
        "    return model\n",
        "\n",
        "# Bangun model\n",
        "model = build_model()"
      ]
    },
    {
      "cell_type": "code",
      "execution_count": null,
      "metadata": {
        "id": "T4xJ7D2bSf6F"
      },
      "outputs": [],
      "source": [
        "train_datagen = ImageDataGenerator(\n",
        "    rotation_range=30,\n",
        "    width_shift_range=0.3,\n",
        "    height_shift_range=0.3,\n",
        "    shear_range=0.3,\n",
        "    zoom_range=0.3,\n",
        "    #horizontal_flip=True,\n",
        "    brightness_range=[0.8, 1.2],\n",
        "    fill_mode='nearest'\n",
        ")"
      ]
    },
    {
      "cell_type": "code",
      "execution_count": null,
      "metadata": {
        "id": "xAcGlN-0SlhF"
      },
      "outputs": [],
      "source": [
        "test_datagen = ImageDataGenerator()"
      ]
    },
    {
      "cell_type": "code",
      "execution_count": null,
      "metadata": {
        "id": "0GbT6qBdSogc"
      },
      "outputs": [],
      "source": [
        "# Load and preprocess images for CNN\n",
        "def load_and_preprocess_images(path):\n",
        "    images = []\n",
        "    labels = []\n",
        "    for folder in os.listdir(path):\n",
        "        folder_path = os.path.join(path, folder)\n",
        "        if os.path.isdir(folder_path):\n",
        "            for file in os.listdir(folder_path):\n",
        "                file_path = os.path.join(folder_path, file)\n",
        "                image = cv2.imread(file_path)\n",
        "                if image is not None:\n",
        "                    image = preprocess_image(image)\n",
        "                    images.append(image)\n",
        "                    labels.append(folder)\n",
        "    return np.array(images), np.array(labels)\n"
      ]
    },
    {
      "cell_type": "code",
      "execution_count": null,
      "metadata": {
        "id": "WiDv3UB1SpWF",
        "colab": {
          "base_uri": "https://localhost:8080/"
        },
        "outputId": "b572cfa0-49d2-4f99-d788-9c975bb58b3a"
      },
      "outputs": [
        {
          "output_type": "stream",
          "name": "stdout",
          "text": [
            "Jumlah data train: 1100\n",
            "Jumlah data validasi: 289\n",
            "Jumlah data test: 276\n"
          ]
        }
      ],
      "source": [
        "#train_images, train_labels = load_and_preprocess_images(data_path)\n",
        "#test_images, test_labels = load_and_preprocess_images(data_path)\n",
        "# Load and preprocess all images first\n",
        "all_images, all_labels = load_and_preprocess_images(data_path)\n",
        "\n",
        "# Split into training and testing, maintaining 20% for testing\n",
        "train_images, test_images, train_labels, test_labels = train_test_split(\n",
        "    all_images, all_labels, test_size=0.2, random_state=42\n",
        ")\n",
        "\n",
        "# Print the number of samples in each set\n",
        "print(\"Jumlah data train:\", len(train_images))\n",
        "print(\"Jumlah data validasi:\", len(val_images))  # val_images remains unchanged\n",
        "print(\"Jumlah data test:\", len(test_images))"
      ]
    },
    {
      "cell_type": "code",
      "execution_count": null,
      "metadata": {
        "id": "w-O35jj_SrTj"
      },
      "outputs": [],
      "source": [
        "# Encode labels\n",
        "train_labels_encoded = encoder.fit_transform(train_labels)\n",
        "test_labels_encoded = encoder.transform(test_labels)\n",
        "\n",
        "train_labels_categorical = to_categorical(train_labels_encoded)\n",
        "test_labels_categorical = to_categorical(test_labels_encoded)\n",
        "\n",
        "# Callbacks\n",
        "reduce_lr = tf.keras.callbacks.ReduceLROnPlateau(monitor='val_loss', factor=0.2, patience=5, min_lr=1e-5)\n",
        "early_stopping = tf.keras.callbacks.EarlyStopping(monitor='val_loss', patience=5, restore_best_weights=True)\n"
      ]
    },
    {
      "cell_type": "code",
      "execution_count": null,
      "metadata": {
        "id": "NOUQWru6SvQZ",
        "colab": {
          "base_uri": "https://localhost:8080/"
        },
        "outputId": "0b7f1ec6-fdf7-4fd1-efa0-81d0f870784f"
      },
      "outputs": [
        {
          "output_type": "stream",
          "name": "stdout",
          "text": [
            "Epoch 1/100\n"
          ]
        },
        {
          "output_type": "stream",
          "name": "stderr",
          "text": [
            "/usr/local/lib/python3.11/dist-packages/keras/src/trainers/data_adapters/py_dataset_adapter.py:122: UserWarning: Your `PyDataset` class should call `super().__init__(**kwargs)` in its constructor. `**kwargs` can include `workers`, `use_multiprocessing`, `max_queue_size`. Do not pass these arguments to `fit()`, as they will be ignored.\n",
            "  self._warn_if_super_not_called()\n"
          ]
        },
        {
          "output_type": "stream",
          "name": "stdout",
          "text": [
            "\u001b[1m69/69\u001b[0m \u001b[32m━━━━━━━━━━━━━━━━━━━━\u001b[0m\u001b[37m\u001b[0m \u001b[1m308s\u001b[0m 2s/step - accuracy: 0.2604 - loss: 24.6968 - val_accuracy: 0.4384 - val_loss: 21.3015 - learning_rate: 1.0000e-04\n",
            "Epoch 2/100\n",
            "\u001b[1m69/69\u001b[0m \u001b[32m━━━━━━━━━━━━━━━━━━━━\u001b[0m\u001b[37m\u001b[0m \u001b[1m20s\u001b[0m 271ms/step - accuracy: 0.3027 - loss: 23.8446 - val_accuracy: 0.5290 - val_loss: 20.9476 - learning_rate: 1.0000e-04\n",
            "Epoch 3/100\n",
            "\u001b[1m69/69\u001b[0m \u001b[32m━━━━━━━━━━━━━━━━━━━━\u001b[0m\u001b[37m\u001b[0m \u001b[1m20s\u001b[0m 269ms/step - accuracy: 0.3642 - loss: 23.0075 - val_accuracy: 0.6051 - val_loss: 20.5247 - learning_rate: 1.0000e-04\n",
            "Epoch 4/100\n",
            "\u001b[1m69/69\u001b[0m \u001b[32m━━━━━━━━━━━━━━━━━━━━\u001b[0m\u001b[37m\u001b[0m \u001b[1m20s\u001b[0m 267ms/step - accuracy: 0.4377 - loss: 22.1163 - val_accuracy: 0.6703 - val_loss: 20.1688 - learning_rate: 1.0000e-04\n",
            "Epoch 5/100\n",
            "\u001b[1m69/69\u001b[0m \u001b[32m━━━━━━━━━━━━━━━━━━━━\u001b[0m\u001b[37m\u001b[0m \u001b[1m20s\u001b[0m 266ms/step - accuracy: 0.5032 - loss: 21.6375 - val_accuracy: 0.6993 - val_loss: 19.9236 - learning_rate: 1.0000e-04\n",
            "Epoch 6/100\n",
            "\u001b[1m69/69\u001b[0m \u001b[32m━━━━━━━━━━━━━━━━━━━━\u001b[0m\u001b[37m\u001b[0m \u001b[1m20s\u001b[0m 267ms/step - accuracy: 0.5343 - loss: 21.3949 - val_accuracy: 0.6848 - val_loss: 19.7327 - learning_rate: 1.0000e-04\n",
            "Epoch 7/100\n",
            "\u001b[1m69/69\u001b[0m \u001b[32m━━━━━━━━━━━━━━━━━━━━\u001b[0m\u001b[37m\u001b[0m \u001b[1m20s\u001b[0m 269ms/step - accuracy: 0.5535 - loss: 20.7098 - val_accuracy: 0.6848 - val_loss: 19.5250 - learning_rate: 1.0000e-04\n",
            "Epoch 8/100\n",
            "\u001b[1m69/69\u001b[0m \u001b[32m━━━━━━━━━━━━━━━━━━━━\u001b[0m\u001b[37m\u001b[0m \u001b[1m20s\u001b[0m 269ms/step - accuracy: 0.5963 - loss: 20.3612 - val_accuracy: 0.6993 - val_loss: 19.3036 - learning_rate: 1.0000e-04\n",
            "Epoch 9/100\n",
            "\u001b[1m69/69\u001b[0m \u001b[32m━━━━━━━━━━━━━━━━━━━━\u001b[0m\u001b[37m\u001b[0m \u001b[1m20s\u001b[0m 267ms/step - accuracy: 0.6340 - loss: 20.0954 - val_accuracy: 0.7029 - val_loss: 19.1250 - learning_rate: 1.0000e-04\n",
            "Epoch 10/100\n",
            "\u001b[1m69/69\u001b[0m \u001b[32m━━━━━━━━━━━━━━━━━━━━\u001b[0m\u001b[37m\u001b[0m \u001b[1m20s\u001b[0m 267ms/step - accuracy: 0.6468 - loss: 19.7062 - val_accuracy: 0.7391 - val_loss: 18.8517 - learning_rate: 1.0000e-04\n",
            "Epoch 11/100\n",
            "\u001b[1m69/69\u001b[0m \u001b[32m━━━━━━━━━━━━━━━━━━━━\u001b[0m\u001b[37m\u001b[0m \u001b[1m20s\u001b[0m 268ms/step - accuracy: 0.6566 - loss: 19.6841 - val_accuracy: 0.7283 - val_loss: 18.6593 - learning_rate: 1.0000e-04\n",
            "Epoch 12/100\n",
            "\u001b[1m69/69\u001b[0m \u001b[32m━━━━━━━━━━━━━━━━━━━━\u001b[0m\u001b[37m\u001b[0m \u001b[1m20s\u001b[0m 267ms/step - accuracy: 0.6601 - loss: 19.2182 - val_accuracy: 0.7319 - val_loss: 18.3651 - learning_rate: 1.0000e-04\n",
            "Epoch 13/100\n",
            "\u001b[1m69/69\u001b[0m \u001b[32m━━━━━━━━━━━━━━━━━━━━\u001b[0m\u001b[37m\u001b[0m \u001b[1m20s\u001b[0m 267ms/step - accuracy: 0.6872 - loss: 18.7904 - val_accuracy: 0.7464 - val_loss: 18.2225 - learning_rate: 1.0000e-04\n",
            "Epoch 14/100\n",
            "\u001b[1m69/69\u001b[0m \u001b[32m━━━━━━━━━━━━━━━━━━━━\u001b[0m\u001b[37m\u001b[0m \u001b[1m20s\u001b[0m 266ms/step - accuracy: 0.6809 - loss: 18.6164 - val_accuracy: 0.7645 - val_loss: 17.9172 - learning_rate: 1.0000e-04\n",
            "Epoch 15/100\n",
            "\u001b[1m69/69\u001b[0m \u001b[32m━━━━━━━━━━━━━━━━━━━━\u001b[0m\u001b[37m\u001b[0m \u001b[1m20s\u001b[0m 268ms/step - accuracy: 0.6817 - loss: 18.2945 - val_accuracy: 0.7536 - val_loss: 17.7235 - learning_rate: 1.0000e-04\n",
            "Epoch 16/100\n",
            "\u001b[1m69/69\u001b[0m \u001b[32m━━━━━━━━━━━━━━━━━━━━\u001b[0m\u001b[37m\u001b[0m \u001b[1m20s\u001b[0m 267ms/step - accuracy: 0.6991 - loss: 17.9732 - val_accuracy: 0.7899 - val_loss: 17.4370 - learning_rate: 1.0000e-04\n",
            "Epoch 17/100\n",
            "\u001b[1m69/69\u001b[0m \u001b[32m━━━━━━━━━━━━━━━━━━━━\u001b[0m\u001b[37m\u001b[0m \u001b[1m20s\u001b[0m 267ms/step - accuracy: 0.7064 - loss: 17.7699 - val_accuracy: 0.7754 - val_loss: 17.2166 - learning_rate: 1.0000e-04\n",
            "Epoch 18/100\n",
            "\u001b[1m69/69\u001b[0m \u001b[32m━━━━━━━━━━━━━━━━━━━━\u001b[0m\u001b[37m\u001b[0m \u001b[1m20s\u001b[0m 267ms/step - accuracy: 0.7172 - loss: 17.3766 - val_accuracy: 0.7500 - val_loss: 16.9647 - learning_rate: 1.0000e-04\n",
            "Epoch 19/100\n",
            "\u001b[1m69/69\u001b[0m \u001b[32m━━━━━━━━━━━━━━━━━━━━\u001b[0m\u001b[37m\u001b[0m \u001b[1m20s\u001b[0m 268ms/step - accuracy: 0.7257 - loss: 17.0953 - val_accuracy: 0.7717 - val_loss: 16.6991 - learning_rate: 1.0000e-04\n",
            "Epoch 20/100\n",
            "\u001b[1m69/69\u001b[0m \u001b[32m━━━━━━━━━━━━━━━━━━━━\u001b[0m\u001b[37m\u001b[0m \u001b[1m20s\u001b[0m 266ms/step - accuracy: 0.7439 - loss: 16.8338 - val_accuracy: 0.7754 - val_loss: 16.5578 - learning_rate: 1.0000e-04\n",
            "Epoch 21/100\n",
            "\u001b[1m69/69\u001b[0m \u001b[32m━━━━━━━━━━━━━━━━━━━━\u001b[0m\u001b[37m\u001b[0m \u001b[1m20s\u001b[0m 265ms/step - accuracy: 0.7023 - loss: 16.6303 - val_accuracy: 0.7971 - val_loss: 16.1437 - learning_rate: 1.0000e-04\n",
            "Epoch 22/100\n",
            "\u001b[1m69/69\u001b[0m \u001b[32m━━━━━━━━━━━━━━━━━━━━\u001b[0m\u001b[37m\u001b[0m \u001b[1m20s\u001b[0m 265ms/step - accuracy: 0.7228 - loss: 16.2977 - val_accuracy: 0.8333 - val_loss: 15.8952 - learning_rate: 1.0000e-04\n",
            "Epoch 23/100\n",
            "\u001b[1m69/69\u001b[0m \u001b[32m━━━━━━━━━━━━━━━━━━━━\u001b[0m\u001b[37m\u001b[0m \u001b[1m20s\u001b[0m 265ms/step - accuracy: 0.7445 - loss: 15.9833 - val_accuracy: 0.7826 - val_loss: 15.6193 - learning_rate: 1.0000e-04\n",
            "Epoch 24/100\n",
            "\u001b[1m69/69\u001b[0m \u001b[32m━━━━━━━━━━━━━━━━━━━━\u001b[0m\u001b[37m\u001b[0m \u001b[1m20s\u001b[0m 264ms/step - accuracy: 0.7625 - loss: 15.7242 - val_accuracy: 0.8261 - val_loss: 15.3588 - learning_rate: 1.0000e-04\n",
            "Epoch 25/100\n",
            "\u001b[1m69/69\u001b[0m \u001b[32m━━━━━━━━━━━━━━━━━━━━\u001b[0m\u001b[37m\u001b[0m \u001b[1m20s\u001b[0m 265ms/step - accuracy: 0.7506 - loss: 15.4642 - val_accuracy: 0.8478 - val_loss: 15.0421 - learning_rate: 1.0000e-04\n",
            "Epoch 26/100\n",
            "\u001b[1m69/69\u001b[0m \u001b[32m━━━━━━━━━━━━━━━━━━━━\u001b[0m\u001b[37m\u001b[0m \u001b[1m20s\u001b[0m 266ms/step - accuracy: 0.7289 - loss: 15.3629 - val_accuracy: 0.8333 - val_loss: 14.7803 - learning_rate: 1.0000e-04\n",
            "Epoch 27/100\n",
            "\u001b[1m69/69\u001b[0m \u001b[32m━━━━━━━━━━━━━━━━━━━━\u001b[0m\u001b[37m\u001b[0m \u001b[1m20s\u001b[0m 264ms/step - accuracy: 0.7799 - loss: 14.8658 - val_accuracy: 0.8116 - val_loss: 14.5182 - learning_rate: 1.0000e-04\n",
            "Epoch 28/100\n",
            "\u001b[1m69/69\u001b[0m \u001b[32m━━━━━━━━━━━━━━━━━━━━\u001b[0m\u001b[37m\u001b[0m \u001b[1m20s\u001b[0m 266ms/step - accuracy: 0.7888 - loss: 14.5745 - val_accuracy: 0.8188 - val_loss: 14.2600 - learning_rate: 1.0000e-04\n",
            "Epoch 29/100\n",
            "\u001b[1m69/69\u001b[0m \u001b[32m━━━━━━━━━━━━━━━━━━━━\u001b[0m\u001b[37m\u001b[0m \u001b[1m20s\u001b[0m 266ms/step - accuracy: 0.7741 - loss: 14.3303 - val_accuracy: 0.8297 - val_loss: 13.9451 - learning_rate: 1.0000e-04\n",
            "Epoch 30/100\n",
            "\u001b[1m69/69\u001b[0m \u001b[32m━━━━━━━━━━━━━━━━━━━━\u001b[0m\u001b[37m\u001b[0m \u001b[1m20s\u001b[0m 266ms/step - accuracy: 0.7967 - loss: 13.9338 - val_accuracy: 0.8116 - val_loss: 13.6603 - learning_rate: 1.0000e-04\n",
            "Epoch 31/100\n",
            "\u001b[1m69/69\u001b[0m \u001b[32m━━━━━━━━━━━━━━━━━━━━\u001b[0m\u001b[37m\u001b[0m \u001b[1m20s\u001b[0m 267ms/step - accuracy: 0.7880 - loss: 13.6819 - val_accuracy: 0.8188 - val_loss: 13.4012 - learning_rate: 1.0000e-04\n",
            "Epoch 32/100\n",
            "\u001b[1m69/69\u001b[0m \u001b[32m━━━━━━━━━━━━━━━━━━━━\u001b[0m\u001b[37m\u001b[0m \u001b[1m20s\u001b[0m 268ms/step - accuracy: 0.7729 - loss: 13.5115 - val_accuracy: 0.8478 - val_loss: 13.0613 - learning_rate: 1.0000e-04\n",
            "Epoch 33/100\n",
            "\u001b[1m69/69\u001b[0m \u001b[32m━━━━━━━━━━━━━━━━━━━━\u001b[0m\u001b[37m\u001b[0m \u001b[1m20s\u001b[0m 265ms/step - accuracy: 0.7826 - loss: 13.1338 - val_accuracy: 0.8261 - val_loss: 12.7692 - learning_rate: 1.0000e-04\n",
            "Epoch 34/100\n",
            "\u001b[1m69/69\u001b[0m \u001b[32m━━━━━━━━━━━━━━━━━━━━\u001b[0m\u001b[37m\u001b[0m \u001b[1m20s\u001b[0m 267ms/step - accuracy: 0.8076 - loss: 12.7479 - val_accuracy: 0.8478 - val_loss: 12.4704 - learning_rate: 1.0000e-04\n",
            "Epoch 35/100\n",
            "\u001b[1m69/69\u001b[0m \u001b[32m━━━━━━━━━━━━━━━━━━━━\u001b[0m\u001b[37m\u001b[0m \u001b[1m20s\u001b[0m 266ms/step - accuracy: 0.8087 - loss: 12.5099 - val_accuracy: 0.8442 - val_loss: 12.1882 - learning_rate: 1.0000e-04\n",
            "Epoch 36/100\n",
            "\u001b[1m69/69\u001b[0m \u001b[32m━━━━━━━━━━━━━━━━━━━━\u001b[0m\u001b[37m\u001b[0m \u001b[1m20s\u001b[0m 265ms/step - accuracy: 0.7965 - loss: 12.2121 - val_accuracy: 0.8225 - val_loss: 11.9007 - learning_rate: 1.0000e-04\n",
            "Epoch 37/100\n",
            "\u001b[1m69/69\u001b[0m \u001b[32m━━━━━━━━━━━━━━━━━━━━\u001b[0m\u001b[37m\u001b[0m \u001b[1m20s\u001b[0m 266ms/step - accuracy: 0.8284 - loss: 11.8371 - val_accuracy: 0.8080 - val_loss: 11.6258 - learning_rate: 1.0000e-04\n",
            "Epoch 38/100\n",
            "\u001b[1m69/69\u001b[0m \u001b[32m━━━━━━━━━━━━━━━━━━━━\u001b[0m\u001b[37m\u001b[0m \u001b[1m20s\u001b[0m 266ms/step - accuracy: 0.8024 - loss: 11.6152 - val_accuracy: 0.8043 - val_loss: 11.3308 - learning_rate: 1.0000e-04\n",
            "Epoch 39/100\n",
            "\u001b[1m69/69\u001b[0m \u001b[32m━━━━━━━━━━━━━━━━━━━━\u001b[0m\u001b[37m\u001b[0m \u001b[1m20s\u001b[0m 267ms/step - accuracy: 0.8472 - loss: 11.2702 - val_accuracy: 0.8116 - val_loss: 11.0509 - learning_rate: 1.0000e-04\n",
            "Epoch 40/100\n",
            "\u001b[1m69/69\u001b[0m \u001b[32m━━━━━━━━━━━━━━━━━━━━\u001b[0m\u001b[37m\u001b[0m \u001b[1m20s\u001b[0m 267ms/step - accuracy: 0.8464 - loss: 10.9490 - val_accuracy: 0.8261 - val_loss: 10.8052 - learning_rate: 1.0000e-04\n",
            "Epoch 41/100\n",
            "\u001b[1m69/69\u001b[0m \u001b[32m━━━━━━━━━━━━━━━━━━━━\u001b[0m\u001b[37m\u001b[0m \u001b[1m20s\u001b[0m 267ms/step - accuracy: 0.8662 - loss: 10.6180 - val_accuracy: 0.8188 - val_loss: 10.4470 - learning_rate: 1.0000e-04\n",
            "Epoch 42/100\n",
            "\u001b[1m69/69\u001b[0m \u001b[32m━━━━━━━━━━━━━━━━━━━━\u001b[0m\u001b[37m\u001b[0m \u001b[1m20s\u001b[0m 268ms/step - accuracy: 0.8390 - loss: 10.4499 - val_accuracy: 0.8297 - val_loss: 10.1636 - learning_rate: 1.0000e-04\n",
            "Epoch 43/100\n",
            "\u001b[1m69/69\u001b[0m \u001b[32m━━━━━━━━━━━━━━━━━━━━\u001b[0m\u001b[37m\u001b[0m \u001b[1m20s\u001b[0m 267ms/step - accuracy: 0.8655 - loss: 10.0746 - val_accuracy: 0.8370 - val_loss: 9.8867 - learning_rate: 1.0000e-04\n",
            "Epoch 44/100\n",
            "\u001b[1m69/69\u001b[0m \u001b[32m━━━━━━━━━━━━━━━━━━━━\u001b[0m\u001b[37m\u001b[0m \u001b[1m20s\u001b[0m 268ms/step - accuracy: 0.8492 - loss: 9.8025 - val_accuracy: 0.8442 - val_loss: 9.6122 - learning_rate: 1.0000e-04\n",
            "Epoch 45/100\n",
            "\u001b[1m69/69\u001b[0m \u001b[32m━━━━━━━━━━━━━━━━━━━━\u001b[0m\u001b[37m\u001b[0m \u001b[1m20s\u001b[0m 265ms/step - accuracy: 0.8803 - loss: 9.4477 - val_accuracy: 0.8225 - val_loss: 9.3458 - learning_rate: 1.0000e-04\n",
            "Epoch 46/100\n",
            "\u001b[1m69/69\u001b[0m \u001b[32m━━━━━━━━━━━━━━━━━━━━\u001b[0m\u001b[37m\u001b[0m \u001b[1m20s\u001b[0m 267ms/step - accuracy: 0.8719 - loss: 9.2030 - val_accuracy: 0.8406 - val_loss: 9.0361 - learning_rate: 1.0000e-04\n",
            "Epoch 47/100\n",
            "\u001b[1m69/69\u001b[0m \u001b[32m━━━━━━━━━━━━━━━━━━━━\u001b[0m\u001b[37m\u001b[0m \u001b[1m20s\u001b[0m 266ms/step - accuracy: 0.8856 - loss: 8.8967 - val_accuracy: 0.8297 - val_loss: 8.7646 - learning_rate: 1.0000e-04\n",
            "Epoch 48/100\n",
            "\u001b[1m69/69\u001b[0m \u001b[32m━━━━━━━━━━━━━━━━━━━━\u001b[0m\u001b[37m\u001b[0m \u001b[1m20s\u001b[0m 267ms/step - accuracy: 0.8769 - loss: 8.5886 - val_accuracy: 0.8043 - val_loss: 8.5184 - learning_rate: 1.0000e-04\n",
            "Epoch 49/100\n",
            "\u001b[1m69/69\u001b[0m \u001b[32m━━━━━━━━━━━━━━━━━━━━\u001b[0m\u001b[37m\u001b[0m \u001b[1m20s\u001b[0m 265ms/step - accuracy: 0.8960 - loss: 8.2894 - val_accuracy: 0.8225 - val_loss: 8.2536 - learning_rate: 1.0000e-04\n",
            "Epoch 50/100\n",
            "\u001b[1m69/69\u001b[0m \u001b[32m━━━━━━━━━━━━━━━━━━━━\u001b[0m\u001b[37m\u001b[0m \u001b[1m20s\u001b[0m 266ms/step - accuracy: 0.8967 - loss: 8.0312 - val_accuracy: 0.8080 - val_loss: 7.9870 - learning_rate: 1.0000e-04\n",
            "Epoch 51/100\n",
            "\u001b[1m69/69\u001b[0m \u001b[32m━━━━━━━━━━━━━━━━━━━━\u001b[0m\u001b[37m\u001b[0m \u001b[1m20s\u001b[0m 267ms/step - accuracy: 0.9194 - loss: 7.7002 - val_accuracy: 0.8116 - val_loss: 7.7136 - learning_rate: 1.0000e-04\n",
            "Epoch 52/100\n",
            "\u001b[1m69/69\u001b[0m \u001b[32m━━━━━━━━━━━━━━━━━━━━\u001b[0m\u001b[37m\u001b[0m \u001b[1m20s\u001b[0m 266ms/step - accuracy: 0.8879 - loss: 7.5173 - val_accuracy: 0.7899 - val_loss: 7.4915 - learning_rate: 1.0000e-04\n",
            "Epoch 53/100\n",
            "\u001b[1m69/69\u001b[0m \u001b[32m━━━━━━━━━━━━━━━━━━━━\u001b[0m\u001b[37m\u001b[0m \u001b[1m20s\u001b[0m 266ms/step - accuracy: 0.9155 - loss: 7.1712 - val_accuracy: 0.8406 - val_loss: 7.1398 - learning_rate: 1.0000e-04\n",
            "Epoch 54/100\n",
            "\u001b[1m69/69\u001b[0m \u001b[32m━━━━━━━━━━━━━━━━━━━━\u001b[0m\u001b[37m\u001b[0m \u001b[1m20s\u001b[0m 267ms/step - accuracy: 0.9095 - loss: 6.9056 - val_accuracy: 0.7717 - val_loss: 7.0795 - learning_rate: 1.0000e-04\n",
            "Epoch 55/100\n",
            "\u001b[1m69/69\u001b[0m \u001b[32m━━━━━━━━━━━━━━━━━━━━\u001b[0m\u001b[37m\u001b[0m \u001b[1m20s\u001b[0m 266ms/step - accuracy: 0.9058 - loss: 6.7362 - val_accuracy: 0.8333 - val_loss: 6.7577 - learning_rate: 1.0000e-04\n",
            "Epoch 56/100\n",
            "\u001b[1m69/69\u001b[0m \u001b[32m━━━━━━━━━━━━━━━━━━━━\u001b[0m\u001b[37m\u001b[0m \u001b[1m20s\u001b[0m 267ms/step - accuracy: 0.9460 - loss: 6.3657 - val_accuracy: 0.8080 - val_loss: 6.6930 - learning_rate: 1.0000e-04\n",
            "Epoch 57/100\n",
            "\u001b[1m69/69\u001b[0m \u001b[32m━━━━━━━━━━━━━━━━━━━━\u001b[0m\u001b[37m\u001b[0m \u001b[1m20s\u001b[0m 268ms/step - accuracy: 0.9264 - loss: 6.1666 - val_accuracy: 0.8225 - val_loss: 6.2861 - learning_rate: 1.0000e-04\n",
            "Epoch 58/100\n",
            "\u001b[1m69/69\u001b[0m \u001b[32m━━━━━━━━━━━━━━━━━━━━\u001b[0m\u001b[37m\u001b[0m \u001b[1m20s\u001b[0m 267ms/step - accuracy: 0.9107 - loss: 5.9373 - val_accuracy: 0.8116 - val_loss: 6.0193 - learning_rate: 1.0000e-04\n",
            "Epoch 59/100\n",
            "\u001b[1m69/69\u001b[0m \u001b[32m━━━━━━━━━━━━━━━━━━━━\u001b[0m\u001b[37m\u001b[0m \u001b[1m20s\u001b[0m 267ms/step - accuracy: 0.9382 - loss: 5.6533 - val_accuracy: 0.8297 - val_loss: 5.7668 - learning_rate: 1.0000e-04\n",
            "Epoch 60/100\n",
            "\u001b[1m69/69\u001b[0m \u001b[32m━━━━━━━━━━━━━━━━━━━━\u001b[0m\u001b[37m\u001b[0m \u001b[1m20s\u001b[0m 265ms/step - accuracy: 0.9399 - loss: 5.4383 - val_accuracy: 0.8116 - val_loss: 5.4752 - learning_rate: 1.0000e-04\n",
            "Epoch 61/100\n",
            "\u001b[1m69/69\u001b[0m \u001b[32m━━━━━━━━━━━━━━━━━━━━\u001b[0m\u001b[37m\u001b[0m \u001b[1m20s\u001b[0m 265ms/step - accuracy: 0.9282 - loss: 5.2111 - val_accuracy: 0.8297 - val_loss: 5.2847 - learning_rate: 1.0000e-04\n",
            "Epoch 62/100\n",
            "\u001b[1m69/69\u001b[0m \u001b[32m━━━━━━━━━━━━━━━━━━━━\u001b[0m\u001b[37m\u001b[0m \u001b[1m20s\u001b[0m 266ms/step - accuracy: 0.9327 - loss: 5.0231 - val_accuracy: 0.8007 - val_loss: 5.1084 - learning_rate: 1.0000e-04\n",
            "Epoch 63/100\n",
            "\u001b[1m69/69\u001b[0m \u001b[32m━━━━━━━━━━━━━━━━━━━━\u001b[0m\u001b[37m\u001b[0m \u001b[1m20s\u001b[0m 266ms/step - accuracy: 0.9525 - loss: 4.7249 - val_accuracy: 0.8152 - val_loss: 4.9058 - learning_rate: 1.0000e-04\n",
            "Epoch 64/100\n",
            "\u001b[1m69/69\u001b[0m \u001b[32m━━━━━━━━━━━━━━━━━━━━\u001b[0m\u001b[37m\u001b[0m \u001b[1m20s\u001b[0m 266ms/step - accuracy: 0.9417 - loss: 4.5402 - val_accuracy: 0.8225 - val_loss: 4.7760 - learning_rate: 1.0000e-04\n",
            "Epoch 65/100\n",
            "\u001b[1m69/69\u001b[0m \u001b[32m━━━━━━━━━━━━━━━━━━━━\u001b[0m\u001b[37m\u001b[0m \u001b[1m20s\u001b[0m 266ms/step - accuracy: 0.9566 - loss: 4.2981 - val_accuracy: 0.8370 - val_loss: 4.5250 - learning_rate: 1.0000e-04\n",
            "Epoch 66/100\n",
            "\u001b[1m69/69\u001b[0m \u001b[32m━━━━━━━━━━━━━━━━━━━━\u001b[0m\u001b[37m\u001b[0m \u001b[1m20s\u001b[0m 265ms/step - accuracy: 0.9650 - loss: 4.1022 - val_accuracy: 0.8551 - val_loss: 4.1685 - learning_rate: 1.0000e-04\n",
            "Epoch 67/100\n",
            "\u001b[1m69/69\u001b[0m \u001b[32m━━━━━━━━━━━━━━━━━━━━\u001b[0m\u001b[37m\u001b[0m \u001b[1m19s\u001b[0m 263ms/step - accuracy: 0.9557 - loss: 3.9089 - val_accuracy: 0.8333 - val_loss: 4.1868 - learning_rate: 1.0000e-04\n",
            "Epoch 68/100\n",
            "\u001b[1m69/69\u001b[0m \u001b[32m━━━━━━━━━━━━━━━━━━━━\u001b[0m\u001b[37m\u001b[0m \u001b[1m20s\u001b[0m 267ms/step - accuracy: 0.9700 - loss: 3.6833 - val_accuracy: 0.8297 - val_loss: 3.9736 - learning_rate: 1.0000e-04\n",
            "Epoch 69/100\n",
            "\u001b[1m69/69\u001b[0m \u001b[32m━━━━━━━━━━━━━━━━━━━━\u001b[0m\u001b[37m\u001b[0m \u001b[1m20s\u001b[0m 265ms/step - accuracy: 0.9660 - loss: 3.5076 - val_accuracy: 0.8406 - val_loss: 3.7832 - learning_rate: 1.0000e-04\n",
            "Epoch 70/100\n",
            "\u001b[1m69/69\u001b[0m \u001b[32m━━━━━━━━━━━━━━━━━━━━\u001b[0m\u001b[37m\u001b[0m \u001b[1m20s\u001b[0m 266ms/step - accuracy: 0.9612 - loss: 3.3503 - val_accuracy: 0.8225 - val_loss: 3.6655 - learning_rate: 1.0000e-04\n",
            "Epoch 71/100\n",
            "\u001b[1m69/69\u001b[0m \u001b[32m━━━━━━━━━━━━━━━━━━━━\u001b[0m\u001b[37m\u001b[0m \u001b[1m20s\u001b[0m 266ms/step - accuracy: 0.9640 - loss: 3.1860 - val_accuracy: 0.8659 - val_loss: 3.4241 - learning_rate: 1.0000e-04\n",
            "Epoch 72/100\n",
            "\u001b[1m69/69\u001b[0m \u001b[32m━━━━━━━━━━━━━━━━━━━━\u001b[0m\u001b[37m\u001b[0m \u001b[1m20s\u001b[0m 266ms/step - accuracy: 0.9742 - loss: 3.0051 - val_accuracy: 0.8514 - val_loss: 3.2210 - learning_rate: 1.0000e-04\n",
            "Epoch 73/100\n",
            "\u001b[1m69/69\u001b[0m \u001b[32m━━━━━━━━━━━━━━━━━━━━\u001b[0m\u001b[37m\u001b[0m \u001b[1m20s\u001b[0m 267ms/step - accuracy: 0.9533 - loss: 2.8952 - val_accuracy: 0.8406 - val_loss: 3.1642 - learning_rate: 1.0000e-04\n",
            "Epoch 74/100\n",
            "\u001b[1m69/69\u001b[0m \u001b[32m━━━━━━━━━━━━━━━━━━━━\u001b[0m\u001b[37m\u001b[0m \u001b[1m20s\u001b[0m 266ms/step - accuracy: 0.9652 - loss: 2.7111 - val_accuracy: 0.8406 - val_loss: 2.9245 - learning_rate: 1.0000e-04\n",
            "Epoch 75/100\n",
            "\u001b[1m69/69\u001b[0m \u001b[32m━━━━━━━━━━━━━━━━━━━━\u001b[0m\u001b[37m\u001b[0m \u001b[1m20s\u001b[0m 267ms/step - accuracy: 0.9558 - loss: 2.5867 - val_accuracy: 0.8442 - val_loss: 2.7821 - learning_rate: 1.0000e-04\n",
            "Epoch 76/100\n",
            "\u001b[1m69/69\u001b[0m \u001b[32m━━━━━━━━━━━━━━━━━━━━\u001b[0m\u001b[37m\u001b[0m \u001b[1m20s\u001b[0m 266ms/step - accuracy: 0.9521 - loss: 2.4483 - val_accuracy: 0.8406 - val_loss: 2.7137 - learning_rate: 1.0000e-04\n",
            "Epoch 77/100\n",
            "\u001b[1m69/69\u001b[0m \u001b[32m━━━━━━━━━━━━━━━━━━━━\u001b[0m\u001b[37m\u001b[0m \u001b[1m20s\u001b[0m 266ms/step - accuracy: 0.9652 - loss: 2.2986 - val_accuracy: 0.8442 - val_loss: 2.5582 - learning_rate: 1.0000e-04\n",
            "Epoch 78/100\n",
            "\u001b[1m69/69\u001b[0m \u001b[32m━━━━━━━━━━━━━━━━━━━━\u001b[0m\u001b[37m\u001b[0m \u001b[1m20s\u001b[0m 267ms/step - accuracy: 0.9812 - loss: 2.1474 - val_accuracy: 0.8333 - val_loss: 2.4489 - learning_rate: 1.0000e-04\n",
            "Epoch 79/100\n",
            "\u001b[1m69/69\u001b[0m \u001b[32m━━━━━━━━━━━━━━━━━━━━\u001b[0m\u001b[37m\u001b[0m \u001b[1m20s\u001b[0m 266ms/step - accuracy: 0.9748 - loss: 2.0234 - val_accuracy: 0.8152 - val_loss: 2.4313 - learning_rate: 1.0000e-04\n",
            "Epoch 80/100\n",
            "\u001b[1m69/69\u001b[0m \u001b[32m━━━━━━━━━━━━━━━━━━━━\u001b[0m\u001b[37m\u001b[0m \u001b[1m20s\u001b[0m 266ms/step - accuracy: 0.9771 - loss: 1.9336 - val_accuracy: 0.8333 - val_loss: 2.2459 - learning_rate: 1.0000e-04\n",
            "Epoch 81/100\n",
            "\u001b[1m69/69\u001b[0m \u001b[32m━━━━━━━━━━━━━━━━━━━━\u001b[0m\u001b[37m\u001b[0m \u001b[1m19s\u001b[0m 263ms/step - accuracy: 0.9707 - loss: 1.8011 - val_accuracy: 0.7971 - val_loss: 2.3601 - learning_rate: 1.0000e-04\n",
            "Epoch 82/100\n",
            "\u001b[1m69/69\u001b[0m \u001b[32m━━━━━━━━━━━━━━━━━━━━\u001b[0m\u001b[37m\u001b[0m \u001b[1m20s\u001b[0m 267ms/step - accuracy: 0.9507 - loss: 1.7392 - val_accuracy: 0.8406 - val_loss: 2.1720 - learning_rate: 1.0000e-04\n",
            "Epoch 83/100\n",
            "\u001b[1m69/69\u001b[0m \u001b[32m━━━━━━━━━━━━━━━━━━━━\u001b[0m\u001b[37m\u001b[0m \u001b[1m20s\u001b[0m 266ms/step - accuracy: 0.9787 - loss: 1.5875 - val_accuracy: 0.8333 - val_loss: 2.0984 - learning_rate: 1.0000e-04\n",
            "Epoch 84/100\n",
            "\u001b[1m69/69\u001b[0m \u001b[32m━━━━━━━━━━━━━━━━━━━━\u001b[0m\u001b[37m\u001b[0m \u001b[1m20s\u001b[0m 267ms/step - accuracy: 0.9750 - loss: 1.4924 - val_accuracy: 0.8478 - val_loss: 1.9198 - learning_rate: 1.0000e-04\n",
            "Epoch 85/100\n",
            "\u001b[1m69/69\u001b[0m \u001b[32m━━━━━━━━━━━━━━━━━━━━\u001b[0m\u001b[37m\u001b[0m \u001b[1m20s\u001b[0m 267ms/step - accuracy: 0.9697 - loss: 1.4152 - val_accuracy: 0.8514 - val_loss: 1.7517 - learning_rate: 1.0000e-04\n",
            "Epoch 86/100\n",
            "\u001b[1m69/69\u001b[0m \u001b[32m━━━━━━━━━━━━━━━━━━━━\u001b[0m\u001b[37m\u001b[0m \u001b[1m20s\u001b[0m 267ms/step - accuracy: 0.9506 - loss: 1.3531 - val_accuracy: 0.8514 - val_loss: 1.7382 - learning_rate: 1.0000e-04\n",
            "Epoch 87/100\n",
            "\u001b[1m69/69\u001b[0m \u001b[32m━━━━━━━━━━━━━━━━━━━━\u001b[0m\u001b[37m\u001b[0m \u001b[1m20s\u001b[0m 265ms/step - accuracy: 0.9589 - loss: 1.2685 - val_accuracy: 0.8188 - val_loss: 1.5851 - learning_rate: 1.0000e-04\n",
            "Epoch 88/100\n",
            "\u001b[1m69/69\u001b[0m \u001b[32m━━━━━━━━━━━━━━━━━━━━\u001b[0m\u001b[37m\u001b[0m \u001b[1m20s\u001b[0m 266ms/step - accuracy: 0.9778 - loss: 1.1657 - val_accuracy: 0.8804 - val_loss: 1.4793 - learning_rate: 1.0000e-04\n",
            "Epoch 89/100\n",
            "\u001b[1m69/69\u001b[0m \u001b[32m━━━━━━━━━━━━━━━━━━━━\u001b[0m\u001b[37m\u001b[0m \u001b[1m20s\u001b[0m 265ms/step - accuracy: 0.9791 - loss: 1.0888 - val_accuracy: 0.8768 - val_loss: 1.4344 - learning_rate: 1.0000e-04\n",
            "Epoch 90/100\n",
            "\u001b[1m69/69\u001b[0m \u001b[32m━━━━━━━━━━━━━━━━━━━━\u001b[0m\u001b[37m\u001b[0m \u001b[1m20s\u001b[0m 267ms/step - accuracy: 0.9667 - loss: 1.0563 - val_accuracy: 0.8551 - val_loss: 1.3888 - learning_rate: 1.0000e-04\n",
            "Epoch 91/100\n",
            "\u001b[1m69/69\u001b[0m \u001b[32m━━━━━━━━━━━━━━━━━━━━\u001b[0m\u001b[37m\u001b[0m \u001b[1m19s\u001b[0m 262ms/step - accuracy: 0.9856 - loss: 0.9527 - val_accuracy: 0.8551 - val_loss: 1.4611 - learning_rate: 1.0000e-04\n",
            "Epoch 92/100\n",
            "\u001b[1m69/69\u001b[0m \u001b[32m━━━━━━━━━━━━━━━━━━━━\u001b[0m\u001b[37m\u001b[0m \u001b[1m20s\u001b[0m 267ms/step - accuracy: 0.9742 - loss: 0.9115 - val_accuracy: 0.8587 - val_loss: 1.2080 - learning_rate: 1.0000e-04\n",
            "Epoch 93/100\n",
            "\u001b[1m69/69\u001b[0m \u001b[32m━━━━━━━━━━━━━━━━━━━━\u001b[0m\u001b[37m\u001b[0m \u001b[1m19s\u001b[0m 264ms/step - accuracy: 0.9700 - loss: 0.8716 - val_accuracy: 0.7935 - val_loss: 1.5043 - learning_rate: 1.0000e-04\n",
            "Epoch 94/100\n",
            "\u001b[1m69/69\u001b[0m \u001b[32m━━━━━━━━━━━━━━━━━━━━\u001b[0m\u001b[37m\u001b[0m \u001b[1m19s\u001b[0m 263ms/step - accuracy: 0.9639 - loss: 0.8339 - val_accuracy: 0.8080 - val_loss: 1.3573 - learning_rate: 1.0000e-04\n",
            "Epoch 95/100\n",
            "\u001b[1m69/69\u001b[0m \u001b[32m━━━━━━━━━━━━━━━━━━━━\u001b[0m\u001b[37m\u001b[0m \u001b[1m20s\u001b[0m 267ms/step - accuracy: 0.9785 - loss: 0.7603 - val_accuracy: 0.8768 - val_loss: 1.2042 - learning_rate: 1.0000e-04\n",
            "Epoch 96/100\n",
            "\u001b[1m69/69\u001b[0m \u001b[32m━━━━━━━━━━━━━━━━━━━━\u001b[0m\u001b[37m\u001b[0m \u001b[1m20s\u001b[0m 267ms/step - accuracy: 0.9805 - loss: 0.7174 - val_accuracy: 0.8551 - val_loss: 1.0851 - learning_rate: 1.0000e-04\n",
            "Epoch 97/100\n",
            "\u001b[1m69/69\u001b[0m \u001b[32m━━━━━━━━━━━━━━━━━━━━\u001b[0m\u001b[37m\u001b[0m \u001b[1m20s\u001b[0m 263ms/step - accuracy: 0.9762 - loss: 0.6708 - val_accuracy: 0.8080 - val_loss: 1.2268 - learning_rate: 1.0000e-04\n",
            "Epoch 98/100\n",
            "\u001b[1m69/69\u001b[0m \u001b[32m━━━━━━━━━━━━━━━━━━━━\u001b[0m\u001b[37m\u001b[0m \u001b[1m19s\u001b[0m 265ms/step - accuracy: 0.9761 - loss: 0.6573 - val_accuracy: 0.8152 - val_loss: 1.2056 - learning_rate: 1.0000e-04\n",
            "Epoch 99/100\n",
            "\u001b[1m69/69\u001b[0m \u001b[32m━━━━━━━━━━━━━━━━━━━━\u001b[0m\u001b[37m\u001b[0m \u001b[1m19s\u001b[0m 263ms/step - accuracy: 0.9740 - loss: 0.5971 - val_accuracy: 0.8406 - val_loss: 1.2471 - learning_rate: 1.0000e-04\n",
            "Epoch 100/100\n",
            "\u001b[1m69/69\u001b[0m \u001b[32m━━━━━━━━━━━━━━━━━━━━\u001b[0m\u001b[37m\u001b[0m \u001b[1m20s\u001b[0m 264ms/step - accuracy: 0.9765 - loss: 0.5570 - val_accuracy: 0.8587 - val_loss: 1.1013 - learning_rate: 1.0000e-04\n"
          ]
        }
      ],
      "source": [
        "# Fit the model\n",
        "history = model.fit(\n",
        "    train_datagen.flow(train_images, train_labels_categorical, batch_size=BATCH_SIZE),\n",
        "    epochs=EPOCHS,\n",
        "    validation_data=test_datagen.flow(test_images, test_labels_categorical, batch_size=BATCH_SIZE),\n",
        "    callbacks=[reduce_lr, early_stopping],\n",
        "    class_weight=class_weight_dict\n",
        ")"
      ]
    },
    {
      "cell_type": "code",
      "execution_count": null,
      "metadata": {
        "id": "TsTzr-xVSx5v",
        "colab": {
          "base_uri": "https://localhost:8080/",
          "height": 410
        },
        "outputId": "158c548c-29db-4e0d-9536-b140347b4c40"
      },
      "outputs": [
        {
          "output_type": "display_data",
          "data": {
            "text/plain": [
              "<Figure size 1200x400 with 2 Axes>"
            ],
            "image/png": "[encoded data removed]"
          },
          "metadata": {}
        }
      ],
      "source": [
        "# Plot accuracy and loss\n",
        "plt.figure(figsize=(12, 4))\n",
        "plt.subplot(1, 2, 1)\n",
        "plt.plot(history.history['accuracy'], label='Train')\n",
        "plt.plot(history.history['val_accuracy'], label='Validation')\n",
        "plt.title('Model accuracy')\n",
        "plt.ylabel('Accuracy')\n",
        "plt.xlabel('Epoch')\n",
        "plt.legend(loc='upper left')\n",
        "\n",
        "plt.subplot(1, 2, 2)\n",
        "plt.plot(history.history['loss'], label='Train')\n",
        "plt.plot(history.history['val_loss'], label='Validation')\n",
        "plt.title('Model loss')\n",
        "plt.ylabel('Loss')\n",
        "plt.xlabel('Epoch')\n",
        "plt.legend(loc='upper left')\n",
        "\n",
        "plt.show()\n"
      ]
    },
    {
      "cell_type": "code",
      "execution_count": null,
      "metadata": {
        "id": "_amw5lQaS0Nz",
        "colab": {
          "base_uri": "https://localhost:8080/",
          "height": 932
        },
        "outputId": "a1ac3e45-5218-4917-c341-37a9fc02c9ef"
      },
      "outputs": [
        {
          "output_type": "stream",
          "name": "stdout",
          "text": [
            "\u001b[1m9/9\u001b[0m \u001b[32m━━━━━━━━━━━━━━━━━━━━\u001b[0m\u001b[37m\u001b[0m \u001b[1m36s\u001b[0m 2s/step\n",
            "               precision    recall  f1-score   support\n",
            "\n",
            "      Maybrat       0.73      0.80      0.76        74\n",
            "         Moi2       1.00      0.96      0.98        77\n",
            "   Raja Ampat       0.96      1.00      0.98        64\n",
            "SorongSelatan       0.72      0.64      0.68        61\n",
            "\n",
            "     accuracy                           0.86       276\n",
            "    macro avg       0.85      0.85      0.85       276\n",
            " weighted avg       0.86      0.86      0.85       276\n",
            "\n"
          ]
        },
        {
          "output_type": "display_data",
          "data": {
            "text/plain": [
              "<Figure size 1000x800 with 2 Axes>"
            ],
            "image/png": "[encoded data removed]"
          },
          "metadata": {}
        }
      ],
      "source": [
        "# Evaluate model\n",
        "predictions = model.predict(test_images)\n",
        "predicted_classes = np.argmax(predictions, axis=1)\n",
        "\n",
        "# Classification report and confusion matrix\n",
        "print(classification_report(test_labels_encoded, predicted_classes, target_names=encoder.classes_))\n",
        "cm = confusion_matrix(test_labels_encoded, predicted_classes)\n",
        "plt.figure(figsize=(10, 8))\n",
        "sns.heatmap(cm, annot=True, fmt='d', cmap='Blues', xticklabels=encoder.classes_, yticklabels=encoder.classes_)\n",
        "plt.ylabel('Actual')\n",
        "plt.xlabel('Predicted')\n",
        "plt.title('Confusion Matrix')\n",
        "plt.show()"
      ]
    }
  ],
  "metadata": {
    "colab": {
      "provenance": [],
      "gpuType": "T4",
      "machine_shape": "hm",
      "authorship_tag": "ABX9TyPoyo09QNstkol9RPJnF3zz",
      "include_colab_link": true
    },
    "kernelspec": {
      "display_name": "Python 3",
      "name": "python3"
    },
    "language_info": {
      "name": "python"
    },
    "accelerator": "GPU"
  },
  "nbformat": 4,
  "nbformat_minor": 0
}