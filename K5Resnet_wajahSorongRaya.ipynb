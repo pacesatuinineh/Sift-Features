{
  "cells": [
    {
      "cell_type": "markdown",
      "metadata": {
        "id": "view-in-github",
        "colab_type": "text"
      },
      "source": [
        "<a href=\"https://colab.research.google.com/github/pacesatuinineh/Sift-Features/blob/main/K5Resnet_wajahSorongRaya.ipynb\" target=\"_parent\"><img src=\"https://colab.research.google.com/assets/colab-badge.svg\" alt=\"Open In Colab\"/></a>"
      ]
    },
    {
      "cell_type": "code",
      "source": [
        "#!pip install efficientnet==0.0.3\n",
        "!pip install PyWavelets"
      ],
      "metadata": {
        "id": "BYUAJQ01aozs",
        "colab": {
          "base_uri": "https://localhost:8080/"
        },
        "outputId": "1d3a9761-2042-47f4-b2f2-9b032655378c"
      },
      "execution_count": 1,
      "outputs": [
        {
          "output_type": "stream",
          "name": "stdout",
          "text": [
            "Collecting PyWavelets\n",
            "  Downloading pywavelets-1.8.0-cp311-cp311-manylinux_2_17_x86_64.manylinux2014_x86_64.whl.metadata (9.0 kB)\n",
            "Requirement already satisfied: numpy<3,>=1.23 in /usr/local/lib/python3.11/dist-packages (from PyWavelets) (1.26.4)\n",
            "Downloading pywavelets-1.8.0-cp311-cp311-manylinux_2_17_x86_64.manylinux2014_x86_64.whl (4.5 MB)\n",
            "\u001b[2K   \u001b[90m━━━━━━━━━━━━━━━━━━━━━━━━━━━━━━━━━━━━━━━━\u001b[0m \u001b[32m4.5/4.5 MB\u001b[0m \u001b[31m34.0 MB/s\u001b[0m eta \u001b[36m0:00:00\u001b[0m\n",
            "\u001b[?25hInstalling collected packages: PyWavelets\n",
            "Successfully installed PyWavelets-1.8.0\n"
          ]
        }
      ]
    },
    {
      "cell_type": "code",
      "execution_count": 2,
      "metadata": {
        "id": "O1uQFkh1OR73"
      },
      "outputs": [],
      "source": [
        "import cv2\n",
        "import numpy as np\n",
        "import os\n",
        "import pandas as pd\n",
        "from skimage.feature import hog\n",
        "from skimage.color import rgb2gray\n",
        "from sklearn.preprocessing import LabelEncoder\n",
        "from sklearn.metrics import accuracy_score, confusion_matrix, classification_report\n",
        "import matplotlib.pyplot as plt\n",
        "import seaborn as sns\n",
        "import tensorflow as tf\n",
        "from tensorflow.keras.models import Model\n",
        "from tensorflow.keras.layers import Dense, Dropout, GlobalAveragePooling2D, BatchNormalization, Input\n",
        "from tensorflow.keras.preprocessing.image import ImageDataGenerator\n",
        "from tensorflow.keras.applications import ResNet50\n",
        "from tensorflow.keras.utils import to_categorical\n",
        "from sklearn.decomposition import PCA\n",
        "from sklearn.utils.class_weight import compute_class_weight\n",
        "#from tensorflow.keras.applications import VGG16\n",
        "#from tensorflow.keras.applications import MobileNetV2\n",
        "#from tensorflow.keras.applications import EfficientNetB0\n",
        "import matplotlib.pyplot as plt\n",
        "import numpy as np\n",
        "import pywt\n",
        "from tensorflow.keras.applications import EfficientNetB5\n",
        "from tensorflow.keras.layers import Input, GlobalAveragePooling2D, Dense, Dropout, BatchNormalization\n",
        "from tensorflow.keras.models import Model\n",
        "import tensorflow as tf\n",
        "from tensorflow.keras.callbacks import EarlyStopping"
      ]
    },
    {
      "cell_type": "code",
      "execution_count": 3,
      "metadata": {
        "id": "kdVXkRGgR6Nt",
        "colab": {
          "base_uri": "https://localhost:8080/"
        },
        "outputId": "9782babe-0672-4939-cf35-292de3ad0a95"
      },
      "outputs": [
        {
          "output_type": "stream",
          "name": "stdout",
          "text": [
            "Mounted at /content/drive\n"
          ]
        }
      ],
      "source": [
        "from google.colab import drive\n",
        "drive.mount('/content/drive')\n",
        "\n"
      ]
    },
    {
      "cell_type": "code",
      "source": [
        "# Paths\n",
        "#data_path = \"/content/drive/MyDrive/WajahSorongRaya\"  # Adjust the path to where 'papua-1' and 'papua-2' are located\n",
        "\n"
      ],
      "metadata": {
        "id": "4ElfjpaY6q6v"
      },
      "execution_count": 4,
      "outputs": []
    },
    {
      "cell_type": "code",
      "source": [
        "import os\n",
        "\n",
        "def list_folders_and_image_count(data_path):\n",
        "  \"\"\"\n",
        "  Lists subfolders within a directory and counts the number of images in each.\n",
        "\n",
        "  Args:\n",
        "    data_path: The path to the main directory.\n",
        "\n",
        "  Returns:\n",
        "    A dictionary where keys are folder names and values are image counts.\n",
        "  \"\"\"\n",
        "  folder_info = {}\n",
        "  for folder_name in os.listdir(data_path):\n",
        "    folder_path = os.path.join(data_path, folder_name)\n",
        "    if os.path.isdir(folder_path):\n",
        "      image_count = 0\n",
        "      for file_name in os.listdir(folder_path):\n",
        "        if file_name.lower().endswith(('.png', '.jpg', '.jpeg')):\n",
        "          image_count += 1\n",
        "      folder_info[folder_name] = image_count\n",
        "  return folder_info\n",
        "\n",
        "# Example usage:\n",
        "data_path = \"/content/drive/MyDrive/WajahSorongRaya\"\n",
        "folder_data = list_folders_and_image_count(data_path)\n",
        "\n",
        "# Print the results:\n",
        "for folder, count in folder_data.items():\n",
        "  print(f\"Folder: {folder}, Image Count: {count}\")"
      ],
      "metadata": {
        "colab": {
          "base_uri": "https://localhost:8080/"
        },
        "id": "vAm2tMtrRUCD",
        "outputId": "72c03cc8-e38a-4ed4-82ea-dd8c6f0d8a0f"
      },
      "execution_count": 5,
      "outputs": [
        {
          "output_type": "stream",
          "name": "stdout",
          "text": [
            "Folder: SorongSelatan, Image Count: 320\n",
            "Folder: Moi2, Image Count: 364\n",
            "Folder: Raja Ampat, Image Count: 337\n",
            "Folder: Maybrat, Image Count: 355\n"
          ]
        }
      ]
    },
    {
      "cell_type": "code",
      "execution_count": 6,
      "metadata": {
        "id": "TzpkhnbsR_Q7"
      },
      "outputs": [],
      "source": [
        "# Constants\n",
        "IMAGE_SIZE = (224, 224)\n",
        "BATCH_SIZE = 16\n",
        "EPOCHS = 100"
      ]
    },
    {
      "cell_type": "code",
      "execution_count": 7,
      "metadata": {
        "id": "69Ch8XRnSFsg"
      },
      "outputs": [],
      "source": [
        "# Preprocessing Function\n",
        "def preprocess_image(image):\n",
        "    # Resize image\n",
        "    image = cv2.resize(image, IMAGE_SIZE)\n",
        "    # Histogram equalization\n",
        "    image = cv2.cvtColor(image, cv2.COLOR_BGR2GRAY)\n",
        "    image = cv2.equalizeHist(image)\n",
        "    # Apply noise reduction\n",
        "    image = cv2.fastNlMeansDenoising(image, h=10)\n",
        "    # Convert back to RGB\n",
        "    return cv2.cvtColor(image, cv2.COLOR_GRAY2RGB)"
      ]
    },
    {
      "cell_type": "code",
      "source": [
        "def apply_haar_wavelet_and_gaussian(image):\n",
        "    coeffs2 = pywt.dwt2(image, 'haar')\n",
        "    LL, (LH, HL, HH) = coeffs2\n",
        "    LL_gaussian = cv2.GaussianBlur(LL, (5, 5), 0)  # Apply Gaussian filter\n",
        "    return LL_gaussian  # Use the low-frequency component with Gaussian filter"
      ],
      "metadata": {
        "id": "35xK0a6ZwI3W"
      },
      "execution_count": 8,
      "outputs": []
    },
    {
      "cell_type": "code",
      "source": [],
      "metadata": {
        "id": "J3bO03R7FZeq"
      },
      "execution_count": 8,
      "outputs": []
    },
    {
      "cell_type": "code",
      "source": [
        "def extract_gabor_features(image):\n",
        "    # Konversi gambar ke grayscale\n",
        "    gray = cv2.cvtColor(image, cv2.COLOR_BGR2GRAY)\n",
        "\n",
        "    # Definisikan filter Gabor\n",
        "    gabor_filters = []\n",
        "    ksize = 31  # Ukuran kernel\n",
        "    for theta in np.arange(0, np.pi, np.pi / 16):  # Orientasi\n",
        "        kern = cv2.getGaborKernel((ksize, ksize), 4.0, theta, 10.0, 0.5, 0, ktype=cv2.CV_32F)\n",
        "        kern /= 1.5*kern.sum()\n",
        "        gabor_filters.append(kern)\n",
        "\n",
        "    # Terapkan filter Gabor dan gabungkan fitur\n",
        "    gabor_features = []\n",
        "    for kern in gabor_filters:\n",
        "        fimg = cv2.filter2D(gray, cv2.CV_8UC3, kern)\n",
        "        gabor_features.append(fimg)\n",
        "\n",
        "    # Gabungkan fitur Gabor menjadi satu vektor\n",
        "    gabor_features = np.concatenate([f.flatten() for f in gabor_features])\n",
        "\n",
        "    return gabor_features"
      ],
      "metadata": {
        "id": "BqCnqxHo1R57"
      },
      "execution_count": 9,
      "outputs": []
    },
    {
      "cell_type": "code",
      "execution_count": 10,
      "metadata": {
        "id": "A13Ba3tKSKGT"
      },
      "outputs": [],
      "source": [
        "# Function to apply Haar wavelet transformation\n",
        "def apply_haar_wavelet(image):\n",
        "    I = image.astype(float)\n",
        "    m, n = I.shape[:2]\n",
        "    if m % 2 != 0:\n",
        "        m -= 1\n",
        "    if n % 2 != 0:\n",
        "        n -= 1\n",
        "    I = I[:m, :n]\n",
        "\n",
        "    LL = np.zeros((m // 2, n // 2))\n",
        "    for i in range(0, m, 2):\n",
        "        for j in range(0, n, 2):\n",
        "            Ixy = I[i:i + 2, j:j + 2]\n",
        "            LL[i // 2, j // 2] = np.mean(Ixy)\n",
        "    return LL"
      ]
    },
    {
      "cell_type": "code",
      "execution_count": 11,
      "metadata": {
        "id": "XpeyGgyySM3z"
      },
      "outputs": [],
      "source": [
        "# Function to extract HOG features\n",
        "def extract_hog_features(image):\n",
        "    if len(image.shape) == 3:\n",
        "        image = rgb2gray(image)\n",
        "    features, _ = hog(image, pixels_per_cell=(8, 8), cells_per_block=(2, 2), visualize=True)\n",
        "    return features"
      ]
    },
    {
      "cell_type": "code",
      "execution_count": 12,
      "metadata": {
        "id": "rBFoJaueSSPd"
      },
      "outputs": [],
      "source": [
        "def load_data(path):\n",
        "    data = []\n",
        "    labels = []\n",
        "    for folder in os.listdir(path):\n",
        "        folder_path = os.path.join(path, folder)\n",
        "        if os.path.isdir(folder_path):\n",
        "            for file in os.listdir(folder_path):\n",
        "                file_path = os.path.join(folder_path, file)\n",
        "                image = cv2.imread(file_path)\n",
        "                if image is not None:\n",
        "                    # Preprocess image\n",
        "                    image = preprocess_image(image)\n",
        "\n",
        "                    # Apply Haar wavelet\n",
        "                    #haar_image = apply_haar_wavelet(image)\n",
        "\n",
        "                    # Resize the image to 224x224 for ResNet50\n",
        "                    #haar_image = cv2.resize(haar_image, (224, 224))\n",
        "\n",
        "                    # Extract HOG features\n",
        "                    #hog_features = extract_hog_features(image)\n",
        "\n",
        "                    # Extract Gabor features\n",
        "                    #gabor_features = extract_gabor_features(image)\n",
        "\n",
        "                    #Extract Haar + Gaussia\n",
        "                    haar_image = apply_haar_wavelet_and_gaussian(image)\n",
        "\n",
        "                    #Extract Haar + Gabor\n",
        "                    #combined_features = np.concatenate([haar_image.flatten(), gabor_features])\n",
        "\n",
        "                    data.append(haar_image)  # Append the processed image\n",
        "\n",
        "                    #data.append(combined_features)  # Append the processed image\n",
        "\n",
        "                    labels.append(folder)\n",
        "\n",
        "    return np.array(data), np.array(labels)"
      ]
    },
    {
      "cell_type": "code",
      "source": [],
      "metadata": {
        "id": "0-h4fArUwFWs"
      },
      "execution_count": 12,
      "outputs": []
    },
    {
      "cell_type": "code",
      "source": [],
      "metadata": {
        "id": "o2VSNKJ2-Hw1"
      },
      "execution_count": 12,
      "outputs": []
    },
    {
      "cell_type": "code",
      "source": [],
      "metadata": {
        "id": "LeIgxb8g-MVb"
      },
      "execution_count": 12,
      "outputs": []
    },
    {
      "cell_type": "code",
      "execution_count": 13,
      "metadata": {
        "id": "KAP0lMIcSU1u"
      },
      "outputs": [],
      "source": [
        "# Load dataset\n",
        "data, labels = load_data(data_path)"
      ]
    },
    {
      "cell_type": "code",
      "source": [],
      "metadata": {
        "id": "agKK3jlu-M3D"
      },
      "execution_count": 13,
      "outputs": []
    },
    {
      "cell_type": "code",
      "source": [],
      "metadata": {
        "id": "xdUyEy3i8q2Z"
      },
      "execution_count": 13,
      "outputs": []
    },
    {
      "cell_type": "code",
      "source": [
        "num_images_to_display = 4  # Jumlah gambar yang ingin ditampilkan\n",
        "sample_images = data[:num_images_to_display]\n",
        "sample_labels = labels[:num_images_to_display]"
      ],
      "metadata": {
        "id": "HX3lp1Hs5Hq1"
      },
      "execution_count": 14,
      "outputs": []
    },
    {
      "cell_type": "code",
      "source": [
        "#fig, axes = plt.subplots(1, num_images_to_display, figsize=(15, 5))  # Sesuaikan figsize jika perlu\n",
        "#for i, (image, label) in enumerate(zip(sample_images, sample_labels)):\n",
        "#    axes[i].imshow(image.astype(np.uint8), cmap='gray')\n",
        "#    axes[i].axis('off')\n",
        "#    axes[i].set_title(label)  # Menampilkan label sebagai judul di bawah gambar\n",
        "#plt.show()"
      ],
      "metadata": {
        "id": "Ot6yezTv5JCU"
      },
      "execution_count": 15,
      "outputs": []
    },
    {
      "cell_type": "code",
      "execution_count": 16,
      "metadata": {
        "id": "T1Uftjw3SVSf"
      },
      "outputs": [],
      "source": [
        "# Encode labels\n",
        "encoder = LabelEncoder()\n",
        "labels_encoded = encoder.fit_transform(labels)\n"
      ]
    },
    {
      "cell_type": "code",
      "execution_count": 17,
      "metadata": {
        "id": "x47i3r-qSXC5",
        "colab": {
          "base_uri": "https://localhost:8080/"
        },
        "outputId": "53e56f2a-7d5a-479d-cbe6-ef4cce2a2d4c"
      },
      "outputs": [
        {
          "output_type": "stream",
          "name": "stdout",
          "text": [
            "Jumlah data train: 674\n",
            "Jumlah data validasi: 289\n",
            "Jumlah data test: 413\n"
          ]
        }
      ],
      "source": [
        "# Split into training and testing\n",
        "from sklearn.model_selection import train_test_split\n",
        "#train_data, test_data, train_labels, test_labels = train_test_split(data, labels_encoded, test_size=0.2, random_state=42)\n",
        "train_images, test_images, train_labels, test_labels = train_test_split(\n",
        "    data, labels_encoded, test_size=0.3, random_state=42\n",
        ")\n",
        "\n",
        "# Split training data into training and validation sets\n",
        "train_images, val_images, train_labels, val_labels = train_test_split(\n",
        "    train_images, train_labels, test_size=0.3, random_state=42\n",
        ")\n",
        "\n",
        "# Print the number of samples in each set\n",
        "print(\"Jumlah data train:\", len(train_images))\n",
        "print(\"Jumlah data validasi:\", len(val_images))\n",
        "print(\"Jumlah data test:\", len(test_images))\n"
      ]
    },
    {
      "cell_type": "code",
      "execution_count": 18,
      "metadata": {
        "id": "KktpjT5iSZrZ"
      },
      "outputs": [],
      "source": [
        "# Class weights\n",
        "class_weights = compute_class_weight('balanced', classes=np.unique(train_labels), y=train_labels)\n",
        "class_weight_dict = dict(enumerate(class_weights))\n"
      ]
    },
    {
      "cell_type": "code",
      "execution_count": 19,
      "metadata": {
        "id": "CPJhEjBfSb0v",
        "colab": {
          "base_uri": "https://localhost:8080/"
        },
        "outputId": "00423955-1faf-4ac5-ecbf-4f47360c9ddc"
      },
      "outputs": [
        {
          "output_type": "stream",
          "name": "stdout",
          "text": [
            "Downloading data from https://storage.googleapis.com/tensorflow/keras-applications/resnet/resnet50_weights_tf_dim_ordering_tf_kernels_notop.h5\n",
            "\u001b[1m94765736/94765736\u001b[0m \u001b[32m━━━━━━━━━━━━━━━━━━━━\u001b[0m\u001b[37m\u001b[0m \u001b[1m5s\u001b[0m 0us/step\n"
          ]
        }
      ],
      "source": [
        "# Define CNN model with pretrained ResNet50\n",
        "def build_model():\n",
        "    input_tensor = Input(shape=(224, 224, 3))\n",
        "    #base_model = EfficientNetB5(weights='imagenet', include_top=False, input_shape=(224, 224, 3))\n",
        "    base_model = ResNet50(weights='imagenet', include_top=False, input_tensor=input_tensor)\n",
        "    x = base_model.output\n",
        "    x = GlobalAveragePooling2D()(x)\n",
        "    x = BatchNormalization()(x)\n",
        "    x = Dense(1024, activation='relu', kernel_regularizer=tf.keras.regularizers.l2(0.01))(x)  # Lebih dalam dan lebih banyak unit\n",
        "    x = Dropout(0.8)(x)  # Dropout lebih tinggi\n",
        "    x = Dense(512, activation='relu', kernel_regularizer=tf.keras.regularizers.l2(0.01))(x)\n",
        "    x = Dropout(0.8)(x)\n",
        "    predictions = Dense(len(encoder.classes_), activation='softmax')(x)\n",
        "\n",
        "    model = Model(inputs=base_model.input, outputs=predictions)\n",
        "\n",
        "    # Unfreeze lebih banyak lapisan pada model dasar\n",
        "    for layer in base_model.layers:\n",
        "        layer.trainable = True\n",
        "\n",
        "    # Compile model dengan learning rate scheduler\n",
        "    optimizer = tf.keras.optimizers.Adam(learning_rate=1e-4)\n",
        "    model.compile(optimizer=optimizer, loss='categorical_crossentropy', metrics=['accuracy'])\n",
        "\n",
        "    return model\n",
        "\n",
        "# Bangun model\n",
        "model = build_model()"
      ]
    },
    {
      "cell_type": "code",
      "execution_count": 20,
      "metadata": {
        "id": "T4xJ7D2bSf6F"
      },
      "outputs": [],
      "source": [
        "train_datagen = ImageDataGenerator(\n",
        "    rotation_range=30,\n",
        "    width_shift_range=0.3,\n",
        "    height_shift_range=0.3,\n",
        "    shear_range=0.3,\n",
        "    zoom_range=0.3,\n",
        "    #horizontal_flip=True,\n",
        "    brightness_range=[0.8, 1.2],\n",
        "    fill_mode='nearest'\n",
        ")"
      ]
    },
    {
      "cell_type": "code",
      "execution_count": 21,
      "metadata": {
        "id": "xAcGlN-0SlhF"
      },
      "outputs": [],
      "source": [
        "test_datagen = ImageDataGenerator()"
      ]
    },
    {
      "cell_type": "code",
      "execution_count": 22,
      "metadata": {
        "id": "0GbT6qBdSogc"
      },
      "outputs": [],
      "source": [
        "# Load and preprocess images for CNN\n",
        "def load_and_preprocess_images(path):\n",
        "    images = []\n",
        "    labels = []\n",
        "    for folder in os.listdir(path):\n",
        "        folder_path = os.path.join(path, folder)\n",
        "        if os.path.isdir(folder_path):\n",
        "            for file in os.listdir(folder_path):\n",
        "                file_path = os.path.join(folder_path, file)\n",
        "                image = cv2.imread(file_path)\n",
        "                if image is not None:\n",
        "                    image = preprocess_image(image)\n",
        "                    images.append(image)\n",
        "                    labels.append(folder)\n",
        "    return np.array(images), np.array(labels)\n"
      ]
    },
    {
      "cell_type": "code",
      "execution_count": 23,
      "metadata": {
        "id": "WiDv3UB1SpWF",
        "colab": {
          "base_uri": "https://localhost:8080/"
        },
        "outputId": "f141bc76-40c8-48ba-b523-b182b026f6c0"
      },
      "outputs": [
        {
          "output_type": "stream",
          "name": "stdout",
          "text": [
            "Jumlah data train: 1100\n",
            "Jumlah data validasi: 289\n",
            "Jumlah data test: 276\n"
          ]
        }
      ],
      "source": [
        "#train_images, train_labels = load_and_preprocess_images(data_path)\n",
        "#test_images, test_labels = load_and_preprocess_images(data_path)\n",
        "# Load and preprocess all images first\n",
        "all_images, all_labels = load_and_preprocess_images(data_path)\n",
        "\n",
        "# Split into training and testing, maintaining 20% for testing\n",
        "train_images, test_images, train_labels, test_labels = train_test_split(\n",
        "    all_images, all_labels, test_size=0.2, random_state=42\n",
        ")\n",
        "\n",
        "# Print the number of samples in each set\n",
        "print(\"Jumlah data train:\", len(train_images))\n",
        "print(\"Jumlah data validasi:\", len(val_images))  # val_images remains unchanged\n",
        "print(\"Jumlah data test:\", len(test_images))"
      ]
    },
    {
      "cell_type": "code",
      "execution_count": 24,
      "metadata": {
        "id": "w-O35jj_SrTj"
      },
      "outputs": [],
      "source": [
        "# Encode labels\n",
        "train_labels_encoded = encoder.fit_transform(train_labels)\n",
        "test_labels_encoded = encoder.transform(test_labels)\n",
        "\n",
        "train_labels_categorical = to_categorical(train_labels_encoded)\n",
        "test_labels_categorical = to_categorical(test_labels_encoded)\n",
        "\n",
        "# Callbacks\n",
        "reduce_lr = tf.keras.callbacks.ReduceLROnPlateau(monitor='val_loss', factor=0.2, patience=5, min_lr=1e-5)\n",
        "early_stopping = tf.keras.callbacks.EarlyStopping(monitor='val_loss', patience=5, restore_best_weights=True)\n"
      ]
    },
    {
      "cell_type": "code",
      "execution_count": 25,
      "metadata": {
        "id": "NOUQWru6SvQZ",
        "colab": {
          "base_uri": "https://localhost:8080/"
        },
        "outputId": "9927aba7-ecbc-4a1a-ad69-b9995a3bae9b"
      },
      "outputs": [
        {
          "output_type": "stream",
          "name": "stderr",
          "text": [
            "/usr/local/lib/python3.11/dist-packages/keras/src/trainers/data_adapters/py_dataset_adapter.py:121: UserWarning: Your `PyDataset` class should call `super().__init__(**kwargs)` in its constructor. `**kwargs` can include `workers`, `use_multiprocessing`, `max_queue_size`. Do not pass these arguments to `fit()`, as they will be ignored.\n",
            "  self._warn_if_super_not_called()\n"
          ]
        },
        {
          "output_type": "stream",
          "name": "stdout",
          "text": [
            "Epoch 1/100\n"
          ]
        },
        {
          "output_type": "stream",
          "name": "stderr",
          "text": [
            "/usr/local/lib/python3.11/dist-packages/keras/src/models/functional.py:237: UserWarning: The structure of `inputs` doesn't match the expected structure.\n",
            "Expected: ['keras_tensor']\n",
            "Received: inputs=Tensor(shape=(None, 224, 224, 3))\n",
            "  warnings.warn(msg)\n"
          ]
        },
        {
          "output_type": "stream",
          "name": "stdout",
          "text": [
            "\u001b[1m69/69\u001b[0m \u001b[32m━━━━━━━━━━━━━━━━━━━━\u001b[0m\u001b[37m\u001b[0m \u001b[1m100s\u001b[0m 629ms/step - accuracy: 0.3103 - loss: 24.2923 - val_accuracy: 0.6630 - val_loss: 20.8036 - learning_rate: 1.0000e-04\n",
            "Epoch 2/100\n",
            "\u001b[1m69/69\u001b[0m \u001b[32m━━━━━━━━━━━━━━━━━━━━\u001b[0m\u001b[37m\u001b[0m \u001b[1m13s\u001b[0m 190ms/step - accuracy: 0.3961 - loss: 23.1452 - val_accuracy: 0.6775 - val_loss: 20.4484 - learning_rate: 1.0000e-04\n",
            "Epoch 3/100\n",
            "\u001b[1m69/69\u001b[0m \u001b[32m━━━━━━━━━━━━━━━━━━━━\u001b[0m\u001b[37m\u001b[0m \u001b[1m13s\u001b[0m 192ms/step - accuracy: 0.5448 - loss: 21.9379 - val_accuracy: 0.6920 - val_loss: 20.3382 - learning_rate: 1.0000e-04\n",
            "Epoch 4/100\n",
            "\u001b[1m69/69\u001b[0m \u001b[32m━━━━━━━━━━━━━━━━━━━━\u001b[0m\u001b[37m\u001b[0m \u001b[1m14s\u001b[0m 195ms/step - accuracy: 0.5483 - loss: 21.5169 - val_accuracy: 0.7681 - val_loss: 20.1540 - learning_rate: 1.0000e-04\n",
            "Epoch 5/100\n",
            "\u001b[1m69/69\u001b[0m \u001b[32m━━━━━━━━━━━━━━━━━━━━\u001b[0m\u001b[37m\u001b[0m \u001b[1m13s\u001b[0m 189ms/step - accuracy: 0.5865 - loss: 21.1323 - val_accuracy: 0.7609 - val_loss: 20.1067 - learning_rate: 1.0000e-04\n",
            "Epoch 6/100\n",
            "\u001b[1m69/69\u001b[0m \u001b[32m━━━━━━━━━━━━━━━━━━━━\u001b[0m\u001b[37m\u001b[0m \u001b[1m14s\u001b[0m 195ms/step - accuracy: 0.5848 - loss: 20.5605 - val_accuracy: 0.6957 - val_loss: 20.2204 - learning_rate: 1.0000e-04\n",
            "Epoch 7/100\n",
            "\u001b[1m69/69\u001b[0m \u001b[32m━━━━━━━━━━━━━━━━━━━━\u001b[0m\u001b[37m\u001b[0m \u001b[1m13s\u001b[0m 190ms/step - accuracy: 0.6386 - loss: 20.2884 - val_accuracy: 0.7971 - val_loss: 19.4228 - learning_rate: 1.0000e-04\n",
            "Epoch 8/100\n",
            "\u001b[1m69/69\u001b[0m \u001b[32m━━━━━━━━━━━━━━━━━━━━\u001b[0m\u001b[37m\u001b[0m \u001b[1m14s\u001b[0m 200ms/step - accuracy: 0.6658 - loss: 19.8685 - val_accuracy: 0.7826 - val_loss: 19.3633 - learning_rate: 1.0000e-04\n",
            "Epoch 9/100\n",
            "\u001b[1m69/69\u001b[0m \u001b[32m━━━━━━━━━━━━━━━━━━━━\u001b[0m\u001b[37m\u001b[0m \u001b[1m13s\u001b[0m 187ms/step - accuracy: 0.6656 - loss: 19.5477 - val_accuracy: 0.7101 - val_loss: 19.4885 - learning_rate: 1.0000e-04\n",
            "Epoch 10/100\n",
            "\u001b[1m69/69\u001b[0m \u001b[32m━━━━━━━━━━━━━━━━━━━━\u001b[0m\u001b[37m\u001b[0m \u001b[1m13s\u001b[0m 192ms/step - accuracy: 0.6927 - loss: 19.1371 - val_accuracy: 0.7609 - val_loss: 18.4864 - learning_rate: 1.0000e-04\n",
            "Epoch 11/100\n",
            "\u001b[1m69/69\u001b[0m \u001b[32m━━━━━━━━━━━━━━━━━━━━\u001b[0m\u001b[37m\u001b[0m \u001b[1m13s\u001b[0m 191ms/step - accuracy: 0.6877 - loss: 18.9936 - val_accuracy: 0.7609 - val_loss: 18.5618 - learning_rate: 1.0000e-04\n",
            "Epoch 12/100\n",
            "\u001b[1m69/69\u001b[0m \u001b[32m━━━━━━━━━━━━━━━━━━━━\u001b[0m\u001b[37m\u001b[0m \u001b[1m13s\u001b[0m 192ms/step - accuracy: 0.6639 - loss: 18.8169 - val_accuracy: 0.7935 - val_loss: 18.0974 - learning_rate: 1.0000e-04\n",
            "Epoch 13/100\n",
            "\u001b[1m69/69\u001b[0m \u001b[32m━━━━━━━━━━━━━━━━━━━━\u001b[0m\u001b[37m\u001b[0m \u001b[1m14s\u001b[0m 199ms/step - accuracy: 0.6751 - loss: 18.4276 - val_accuracy: 0.7899 - val_loss: 17.6758 - learning_rate: 1.0000e-04\n",
            "Epoch 14/100\n",
            "\u001b[1m69/69\u001b[0m \u001b[32m━━━━━━━━━━━━━━━━━━━━\u001b[0m\u001b[37m\u001b[0m \u001b[1m13s\u001b[0m 190ms/step - accuracy: 0.7106 - loss: 18.0115 - val_accuracy: 0.7500 - val_loss: 17.5537 - learning_rate: 1.0000e-04\n",
            "Epoch 15/100\n",
            "\u001b[1m69/69\u001b[0m \u001b[32m━━━━━━━━━━━━━━━━━━━━\u001b[0m\u001b[37m\u001b[0m \u001b[1m13s\u001b[0m 194ms/step - accuracy: 0.6680 - loss: 17.8208 - val_accuracy: 0.7790 - val_loss: 17.2289 - learning_rate: 1.0000e-04\n",
            "Epoch 16/100\n",
            "\u001b[1m69/69\u001b[0m \u001b[32m━━━━━━━━━━━━━━━━━━━━\u001b[0m\u001b[37m\u001b[0m \u001b[1m13s\u001b[0m 185ms/step - accuracy: 0.6773 - loss: 17.5788 - val_accuracy: 0.7464 - val_loss: 17.2608 - learning_rate: 1.0000e-04\n",
            "Epoch 17/100\n",
            "\u001b[1m69/69\u001b[0m \u001b[32m━━━━━━━━━━━━━━━━━━━━\u001b[0m\u001b[37m\u001b[0m \u001b[1m13s\u001b[0m 191ms/step - accuracy: 0.6977 - loss: 17.2333 - val_accuracy: 0.7428 - val_loss: 17.0647 - learning_rate: 1.0000e-04\n",
            "Epoch 18/100\n",
            "\u001b[1m69/69\u001b[0m \u001b[32m━━━━━━━━━━━━━━━━━━━━\u001b[0m\u001b[37m\u001b[0m \u001b[1m13s\u001b[0m 189ms/step - accuracy: 0.7269 - loss: 16.8626 - val_accuracy: 0.7065 - val_loss: 17.0694 - learning_rate: 1.0000e-04\n",
            "Epoch 19/100\n",
            "\u001b[1m69/69\u001b[0m \u001b[32m━━━━━━━━━━━━━━━━━━━━\u001b[0m\u001b[37m\u001b[0m \u001b[1m13s\u001b[0m 191ms/step - accuracy: 0.7348 - loss: 16.5661 - val_accuracy: 0.7826 - val_loss: 16.1144 - learning_rate: 1.0000e-04\n",
            "Epoch 20/100\n",
            "\u001b[1m69/69\u001b[0m \u001b[32m━━━━━━━━━━━━━━━━━━━━\u001b[0m\u001b[37m\u001b[0m \u001b[1m13s\u001b[0m 191ms/step - accuracy: 0.7318 - loss: 16.1855 - val_accuracy: 0.7681 - val_loss: 16.2535 - learning_rate: 1.0000e-04\n",
            "Epoch 21/100\n",
            "\u001b[1m69/69\u001b[0m \u001b[32m━━━━━━━━━━━━━━━━━━━━\u001b[0m\u001b[37m\u001b[0m \u001b[1m14s\u001b[0m 194ms/step - accuracy: 0.7156 - loss: 16.2060 - val_accuracy: 0.8007 - val_loss: 15.6346 - learning_rate: 1.0000e-04\n",
            "Epoch 22/100\n",
            "\u001b[1m69/69\u001b[0m \u001b[32m━━━━━━━━━━━━━━━━━━━━\u001b[0m\u001b[37m\u001b[0m \u001b[1m13s\u001b[0m 192ms/step - accuracy: 0.7489 - loss: 15.6390 - val_accuracy: 0.8007 - val_loss: 15.2165 - learning_rate: 1.0000e-04\n",
            "Epoch 23/100\n",
            "\u001b[1m69/69\u001b[0m \u001b[32m━━━━━━━━━━━━━━━━━━━━\u001b[0m\u001b[37m\u001b[0m \u001b[1m13s\u001b[0m 192ms/step - accuracy: 0.7253 - loss: 15.4262 - val_accuracy: 0.7246 - val_loss: 15.8571 - learning_rate: 1.0000e-04\n",
            "Epoch 24/100\n",
            "\u001b[1m69/69\u001b[0m \u001b[32m━━━━━━━━━━━━━━━━━━━━\u001b[0m\u001b[37m\u001b[0m \u001b[1m13s\u001b[0m 193ms/step - accuracy: 0.7716 - loss: 15.0700 - val_accuracy: 0.7790 - val_loss: 14.6308 - learning_rate: 1.0000e-04\n",
            "Epoch 25/100\n",
            "\u001b[1m69/69\u001b[0m \u001b[32m━━━━━━━━━━━━━━━━━━━━\u001b[0m\u001b[37m\u001b[0m \u001b[1m13s\u001b[0m 191ms/step - accuracy: 0.7819 - loss: 14.7570 - val_accuracy: 0.7862 - val_loss: 14.7602 - learning_rate: 1.0000e-04\n",
            "Epoch 26/100\n",
            "\u001b[1m69/69\u001b[0m \u001b[32m━━━━━━━━━━━━━━━━━━━━\u001b[0m\u001b[37m\u001b[0m \u001b[1m13s\u001b[0m 191ms/step - accuracy: 0.7823 - loss: 14.4753 - val_accuracy: 0.6123 - val_loss: 15.4192 - learning_rate: 1.0000e-04\n",
            "Epoch 27/100\n",
            "\u001b[1m69/69\u001b[0m \u001b[32m━━━━━━━━━━━━━━━━━━━━\u001b[0m\u001b[37m\u001b[0m \u001b[1m14s\u001b[0m 195ms/step - accuracy: 0.7911 - loss: 14.1033 - val_accuracy: 0.7138 - val_loss: 13.9453 - learning_rate: 1.0000e-04\n",
            "Epoch 28/100\n",
            "\u001b[1m69/69\u001b[0m \u001b[32m━━━━━━━━━━━━━━━━━━━━\u001b[0m\u001b[37m\u001b[0m \u001b[1m13s\u001b[0m 192ms/step - accuracy: 0.7383 - loss: 14.0653 - val_accuracy: 0.7935 - val_loss: 13.6879 - learning_rate: 1.0000e-04\n",
            "Epoch 29/100\n",
            "\u001b[1m69/69\u001b[0m \u001b[32m━━━━━━━━━━━━━━━━━━━━\u001b[0m\u001b[37m\u001b[0m \u001b[1m13s\u001b[0m 192ms/step - accuracy: 0.7694 - loss: 13.5910 - val_accuracy: 0.7609 - val_loss: 13.4410 - learning_rate: 1.0000e-04\n",
            "Epoch 30/100\n",
            "\u001b[1m69/69\u001b[0m \u001b[32m━━━━━━━━━━━━━━━━━━━━\u001b[0m\u001b[37m\u001b[0m \u001b[1m14s\u001b[0m 195ms/step - accuracy: 0.7759 - loss: 13.2838 - val_accuracy: 0.7717 - val_loss: 13.3184 - learning_rate: 1.0000e-04\n",
            "Epoch 31/100\n",
            "\u001b[1m69/69\u001b[0m \u001b[32m━━━━━━━━━━━━━━━━━━━━\u001b[0m\u001b[37m\u001b[0m \u001b[1m13s\u001b[0m 187ms/step - accuracy: 0.7634 - loss: 13.0861 - val_accuracy: 0.7899 - val_loss: 12.8058 - learning_rate: 1.0000e-04\n",
            "Epoch 32/100\n",
            "\u001b[1m69/69\u001b[0m \u001b[32m━━━━━━━━━━━━━━━━━━━━\u001b[0m\u001b[37m\u001b[0m \u001b[1m13s\u001b[0m 187ms/step - accuracy: 0.7722 - loss: 12.7100 - val_accuracy: 0.8080 - val_loss: 12.4847 - learning_rate: 1.0000e-04\n",
            "Epoch 33/100\n",
            "\u001b[1m69/69\u001b[0m \u001b[32m━━━━━━━━━━━━━━━━━━━━\u001b[0m\u001b[37m\u001b[0m \u001b[1m13s\u001b[0m 192ms/step - accuracy: 0.8394 - loss: 12.3011 - val_accuracy: 0.8080 - val_loss: 12.3477 - learning_rate: 1.0000e-04\n",
            "Epoch 34/100\n",
            "\u001b[1m69/69\u001b[0m \u001b[32m━━━━━━━━━━━━━━━━━━━━\u001b[0m\u001b[37m\u001b[0m \u001b[1m14s\u001b[0m 196ms/step - accuracy: 0.8261 - loss: 12.0466 - val_accuracy: 0.7210 - val_loss: 12.2704 - learning_rate: 1.0000e-04\n",
            "Epoch 35/100\n",
            "\u001b[1m69/69\u001b[0m \u001b[32m━━━━━━━━━━━━━━━━━━━━\u001b[0m\u001b[37m\u001b[0m \u001b[1m13s\u001b[0m 192ms/step - accuracy: 0.7972 - loss: 11.9342 - val_accuracy: 0.7065 - val_loss: 11.8828 - learning_rate: 1.0000e-04\n",
            "Epoch 36/100\n",
            "\u001b[1m69/69\u001b[0m \u001b[32m━━━━━━━━━━━━━━━━━━━━\u001b[0m\u001b[37m\u001b[0m \u001b[1m13s\u001b[0m 193ms/step - accuracy: 0.7908 - loss: 11.5803 - val_accuracy: 0.8188 - val_loss: 11.4318 - learning_rate: 1.0000e-04\n",
            "Epoch 37/100\n",
            "\u001b[1m69/69\u001b[0m \u001b[32m━━━━━━━━━━━━━━━━━━━━\u001b[0m\u001b[37m\u001b[0m \u001b[1m13s\u001b[0m 190ms/step - accuracy: 0.8209 - loss: 11.2474 - val_accuracy: 0.7935 - val_loss: 11.1271 - learning_rate: 1.0000e-04\n",
            "Epoch 38/100\n",
            "\u001b[1m69/69\u001b[0m \u001b[32m━━━━━━━━━━━━━━━━━━━━\u001b[0m\u001b[37m\u001b[0m \u001b[1m14s\u001b[0m 194ms/step - accuracy: 0.8253 - loss: 10.9959 - val_accuracy: 0.7935 - val_loss: 10.7338 - learning_rate: 1.0000e-04\n",
            "Epoch 39/100\n",
            "\u001b[1m69/69\u001b[0m \u001b[32m━━━━━━━━━━━━━━━━━━━━\u001b[0m\u001b[37m\u001b[0m \u001b[1m14s\u001b[0m 197ms/step - accuracy: 0.8342 - loss: 10.6263 - val_accuracy: 0.7971 - val_loss: 10.4321 - learning_rate: 1.0000e-04\n",
            "Epoch 40/100\n",
            "\u001b[1m69/69\u001b[0m \u001b[32m━━━━━━━━━━━━━━━━━━━━\u001b[0m\u001b[37m\u001b[0m \u001b[1m13s\u001b[0m 192ms/step - accuracy: 0.8265 - loss: 10.3633 - val_accuracy: 0.8080 - val_loss: 10.1781 - learning_rate: 1.0000e-04\n",
            "Epoch 41/100\n",
            "\u001b[1m69/69\u001b[0m \u001b[32m━━━━━━━━━━━━━━━━━━━━\u001b[0m\u001b[37m\u001b[0m \u001b[1m13s\u001b[0m 188ms/step - accuracy: 0.8408 - loss: 10.0865 - val_accuracy: 0.7681 - val_loss: 10.1303 - learning_rate: 1.0000e-04\n",
            "Epoch 42/100\n",
            "\u001b[1m69/69\u001b[0m \u001b[32m━━━━━━━━━━━━━━━━━━━━\u001b[0m\u001b[37m\u001b[0m \u001b[1m13s\u001b[0m 191ms/step - accuracy: 0.8698 - loss: 9.7995 - val_accuracy: 0.8043 - val_loss: 9.8832 - learning_rate: 1.0000e-04\n",
            "Epoch 43/100\n",
            "\u001b[1m69/69\u001b[0m \u001b[32m━━━━━━━━━━━━━━━━━━━━\u001b[0m\u001b[37m\u001b[0m \u001b[1m14s\u001b[0m 197ms/step - accuracy: 0.8499 - loss: 9.6180 - val_accuracy: 0.7717 - val_loss: 9.7213 - learning_rate: 1.0000e-04\n",
            "Epoch 44/100\n",
            "\u001b[1m69/69\u001b[0m \u001b[32m━━━━━━━━━━━━━━━━━━━━\u001b[0m\u001b[37m\u001b[0m \u001b[1m14s\u001b[0m 194ms/step - accuracy: 0.8972 - loss: 9.1881 - val_accuracy: 0.8188 - val_loss: 9.2886 - learning_rate: 1.0000e-04\n",
            "Epoch 45/100\n",
            "\u001b[1m69/69\u001b[0m \u001b[32m━━━━━━━━━━━━━━━━━━━━\u001b[0m\u001b[37m\u001b[0m \u001b[1m13s\u001b[0m 191ms/step - accuracy: 0.8742 - loss: 8.9637 - val_accuracy: 0.8152 - val_loss: 8.9946 - learning_rate: 1.0000e-04\n",
            "Epoch 46/100\n",
            "\u001b[1m69/69\u001b[0m \u001b[32m━━━━━━━━━━━━━━━━━━━━\u001b[0m\u001b[37m\u001b[0m \u001b[1m13s\u001b[0m 191ms/step - accuracy: 0.8801 - loss: 8.6747 - val_accuracy: 0.7572 - val_loss: 8.8078 - learning_rate: 1.0000e-04\n",
            "Epoch 47/100\n",
            "\u001b[1m69/69\u001b[0m \u001b[32m━━━━━━━━━━━━━━━━━━━━\u001b[0m\u001b[37m\u001b[0m \u001b[1m13s\u001b[0m 190ms/step - accuracy: 0.8860 - loss: 8.4341 - val_accuracy: 0.7935 - val_loss: 8.4382 - learning_rate: 1.0000e-04\n",
            "Epoch 48/100\n",
            "\u001b[1m69/69\u001b[0m \u001b[32m━━━━━━━━━━━━━━━━━━━━\u001b[0m\u001b[37m\u001b[0m \u001b[1m13s\u001b[0m 189ms/step - accuracy: 0.9030 - loss: 8.1436 - val_accuracy: 0.7826 - val_loss: 8.2829 - learning_rate: 1.0000e-04\n",
            "Epoch 49/100\n",
            "\u001b[1m69/69\u001b[0m \u001b[32m━━━━━━━━━━━━━━━━━━━━\u001b[0m\u001b[37m\u001b[0m \u001b[1m13s\u001b[0m 189ms/step - accuracy: 0.8897 - loss: 7.9468 - val_accuracy: 0.6558 - val_loss: 8.1561 - learning_rate: 1.0000e-04\n",
            "Epoch 50/100\n",
            "\u001b[1m69/69\u001b[0m \u001b[32m━━━━━━━━━━━━━━━━━━━━\u001b[0m\u001b[37m\u001b[0m \u001b[1m13s\u001b[0m 193ms/step - accuracy: 0.8402 - loss: 7.7671 - val_accuracy: 0.6957 - val_loss: 7.8769 - learning_rate: 1.0000e-04\n",
            "Epoch 51/100\n",
            "\u001b[1m69/69\u001b[0m \u001b[32m━━━━━━━━━━━━━━━━━━━━\u001b[0m\u001b[37m\u001b[0m \u001b[1m13s\u001b[0m 191ms/step - accuracy: 0.8901 - loss: 7.4161 - val_accuracy: 0.8261 - val_loss: 7.5824 - learning_rate: 1.0000e-04\n",
            "Epoch 52/100\n",
            "\u001b[1m69/69\u001b[0m \u001b[32m━━━━━━━━━━━━━━━━━━━━\u001b[0m\u001b[37m\u001b[0m \u001b[1m14s\u001b[0m 195ms/step - accuracy: 0.8859 - loss: 7.1921 - val_accuracy: 0.7899 - val_loss: 7.4451 - learning_rate: 1.0000e-04\n",
            "Epoch 53/100\n",
            "\u001b[1m69/69\u001b[0m \u001b[32m━━━━━━━━━━━━━━━━━━━━\u001b[0m\u001b[37m\u001b[0m \u001b[1m13s\u001b[0m 194ms/step - accuracy: 0.8929 - loss: 6.9841 - val_accuracy: 0.8261 - val_loss: 6.9030 - learning_rate: 1.0000e-04\n",
            "Epoch 54/100\n",
            "\u001b[1m69/69\u001b[0m \u001b[32m━━━━━━━━━━━━━━━━━━━━\u001b[0m\u001b[37m\u001b[0m \u001b[1m13s\u001b[0m 187ms/step - accuracy: 0.9037 - loss: 6.6978 - val_accuracy: 0.8043 - val_loss: 6.8612 - learning_rate: 1.0000e-04\n",
            "Epoch 55/100\n",
            "\u001b[1m69/69\u001b[0m \u001b[32m━━━━━━━━━━━━━━━━━━━━\u001b[0m\u001b[37m\u001b[0m \u001b[1m14s\u001b[0m 202ms/step - accuracy: 0.9201 - loss: 6.4345 - val_accuracy: 0.7899 - val_loss: 6.6526 - learning_rate: 1.0000e-04\n",
            "Epoch 56/100\n",
            "\u001b[1m69/69\u001b[0m \u001b[32m━━━━━━━━━━━━━━━━━━━━\u001b[0m\u001b[37m\u001b[0m \u001b[1m14s\u001b[0m 208ms/step - accuracy: 0.9225 - loss: 6.1703 - val_accuracy: 0.7862 - val_loss: 6.3343 - learning_rate: 1.0000e-04\n",
            "Epoch 57/100\n",
            "\u001b[1m69/69\u001b[0m \u001b[32m━━━━━━━━━━━━━━━━━━━━\u001b[0m\u001b[37m\u001b[0m \u001b[1m14s\u001b[0m 196ms/step - accuracy: 0.9037 - loss: 6.0177 - val_accuracy: 0.8080 - val_loss: 6.2208 - learning_rate: 1.0000e-04\n",
            "Epoch 58/100\n",
            "\u001b[1m69/69\u001b[0m \u001b[32m━━━━━━━━━━━━━━━━━━━━\u001b[0m\u001b[37m\u001b[0m \u001b[1m14s\u001b[0m 199ms/step - accuracy: 0.9059 - loss: 5.8461 - val_accuracy: 0.8261 - val_loss: 6.0012 - learning_rate: 1.0000e-04\n",
            "Epoch 59/100\n",
            "\u001b[1m69/69\u001b[0m \u001b[32m━━━━━━━━━━━━━━━━━━━━\u001b[0m\u001b[37m\u001b[0m \u001b[1m13s\u001b[0m 190ms/step - accuracy: 0.9208 - loss: 5.5371 - val_accuracy: 0.8043 - val_loss: 5.8854 - learning_rate: 1.0000e-04\n",
            "Epoch 60/100\n",
            "\u001b[1m69/69\u001b[0m \u001b[32m━━━━━━━━━━━━━━━━━━━━\u001b[0m\u001b[37m\u001b[0m \u001b[1m14s\u001b[0m 194ms/step - accuracy: 0.9208 - loss: 5.3856 - val_accuracy: 0.7862 - val_loss: 5.7454 - learning_rate: 1.0000e-04\n",
            "Epoch 61/100\n",
            "\u001b[1m69/69\u001b[0m \u001b[32m━━━━━━━━━━━━━━━━━━━━\u001b[0m\u001b[37m\u001b[0m \u001b[1m14s\u001b[0m 205ms/step - accuracy: 0.9269 - loss: 5.1249 - val_accuracy: 0.7572 - val_loss: 5.5382 - learning_rate: 1.0000e-04\n",
            "Epoch 62/100\n",
            "\u001b[1m69/69\u001b[0m \u001b[32m━━━━━━━━━━━━━━━━━━━━\u001b[0m\u001b[37m\u001b[0m \u001b[1m13s\u001b[0m 192ms/step - accuracy: 0.9276 - loss: 4.9328 - val_accuracy: 0.7935 - val_loss: 5.1489 - learning_rate: 1.0000e-04\n",
            "Epoch 63/100\n",
            "\u001b[1m69/69\u001b[0m \u001b[32m━━━━━━━━━━━━━━━━━━━━\u001b[0m\u001b[37m\u001b[0m \u001b[1m13s\u001b[0m 193ms/step - accuracy: 0.9212 - loss: 4.7376 - val_accuracy: 0.8188 - val_loss: 4.8635 - learning_rate: 1.0000e-04\n",
            "Epoch 64/100\n",
            "\u001b[1m69/69\u001b[0m \u001b[32m━━━━━━━━━━━━━━━━━━━━\u001b[0m\u001b[37m\u001b[0m \u001b[1m13s\u001b[0m 192ms/step - accuracy: 0.9252 - loss: 4.5797 - val_accuracy: 0.8442 - val_loss: 4.6573 - learning_rate: 1.0000e-04\n",
            "Epoch 65/100\n",
            "\u001b[1m69/69\u001b[0m \u001b[32m━━━━━━━━━━━━━━━━━━━━\u001b[0m\u001b[37m\u001b[0m \u001b[1m14s\u001b[0m 194ms/step - accuracy: 0.9381 - loss: 4.3384 - val_accuracy: 0.8188 - val_loss: 4.5110 - learning_rate: 1.0000e-04\n",
            "Epoch 66/100\n",
            "\u001b[1m69/69\u001b[0m \u001b[32m━━━━━━━━━━━━━━━━━━━━\u001b[0m\u001b[37m\u001b[0m \u001b[1m14s\u001b[0m 195ms/step - accuracy: 0.9201 - loss: 4.2153 - val_accuracy: 0.7645 - val_loss: 4.5101 - learning_rate: 1.0000e-04\n",
            "Epoch 67/100\n",
            "\u001b[1m69/69\u001b[0m \u001b[32m━━━━━━━━━━━━━━━━━━━━\u001b[0m\u001b[37m\u001b[0m \u001b[1m13s\u001b[0m 190ms/step - accuracy: 0.9394 - loss: 3.9820 - val_accuracy: 0.8333 - val_loss: 4.3308 - learning_rate: 1.0000e-04\n",
            "Epoch 68/100\n",
            "\u001b[1m69/69\u001b[0m \u001b[32m━━━━━━━━━━━━━━━━━━━━\u001b[0m\u001b[37m\u001b[0m \u001b[1m13s\u001b[0m 191ms/step - accuracy: 0.9412 - loss: 3.8672 - val_accuracy: 0.7283 - val_loss: 4.3622 - learning_rate: 1.0000e-04\n",
            "Epoch 69/100\n",
            "\u001b[1m69/69\u001b[0m \u001b[32m━━━━━━━━━━━━━━━━━━━━\u001b[0m\u001b[37m\u001b[0m \u001b[1m13s\u001b[0m 192ms/step - accuracy: 0.9550 - loss: 3.6506 - val_accuracy: 0.7826 - val_loss: 4.3157 - learning_rate: 1.0000e-04\n",
            "Epoch 70/100\n",
            "\u001b[1m69/69\u001b[0m \u001b[32m━━━━━━━━━━━━━━━━━━━━\u001b[0m\u001b[37m\u001b[0m \u001b[1m14s\u001b[0m 194ms/step - accuracy: 0.9315 - loss: 3.5353 - val_accuracy: 0.8333 - val_loss: 3.7513 - learning_rate: 1.0000e-04\n",
            "Epoch 71/100\n",
            "\u001b[1m69/69\u001b[0m \u001b[32m━━━━━━━━━━━━━━━━━━━━\u001b[0m\u001b[37m\u001b[0m \u001b[1m13s\u001b[0m 188ms/step - accuracy: 0.9382 - loss: 3.3771 - val_accuracy: 0.8043 - val_loss: 3.7387 - learning_rate: 1.0000e-04\n",
            "Epoch 72/100\n",
            "\u001b[1m69/69\u001b[0m \u001b[32m━━━━━━━━━━━━━━━━━━━━\u001b[0m\u001b[37m\u001b[0m \u001b[1m14s\u001b[0m 194ms/step - accuracy: 0.9646 - loss: 3.1931 - val_accuracy: 0.8333 - val_loss: 3.4594 - learning_rate: 1.0000e-04\n",
            "Epoch 73/100\n",
            "\u001b[1m69/69\u001b[0m \u001b[32m━━━━━━━━━━━━━━━━━━━━\u001b[0m\u001b[37m\u001b[0m \u001b[1m14s\u001b[0m 199ms/step - accuracy: 0.9247 - loss: 3.1669 - val_accuracy: 0.8551 - val_loss: 3.3288 - learning_rate: 1.0000e-04\n",
            "Epoch 74/100\n",
            "\u001b[1m69/69\u001b[0m \u001b[32m━━━━━━━━━━━━━━━━━━━━\u001b[0m\u001b[37m\u001b[0m \u001b[1m13s\u001b[0m 187ms/step - accuracy: 0.9413 - loss: 2.9263 - val_accuracy: 0.8043 - val_loss: 3.3807 - learning_rate: 1.0000e-04\n",
            "Epoch 75/100\n",
            "\u001b[1m69/69\u001b[0m \u001b[32m━━━━━━━━━━━━━━━━━━━━\u001b[0m\u001b[37m\u001b[0m \u001b[1m13s\u001b[0m 192ms/step - accuracy: 0.9511 - loss: 2.7833 - val_accuracy: 0.7826 - val_loss: 3.1935 - learning_rate: 1.0000e-04\n",
            "Epoch 76/100\n",
            "\u001b[1m69/69\u001b[0m \u001b[32m━━━━━━━━━━━━━━━━━━━━\u001b[0m\u001b[37m\u001b[0m \u001b[1m14s\u001b[0m 196ms/step - accuracy: 0.9415 - loss: 2.6872 - val_accuracy: 0.7645 - val_loss: 3.1168 - learning_rate: 1.0000e-04\n",
            "Epoch 77/100\n",
            "\u001b[1m69/69\u001b[0m \u001b[32m━━━━━━━━━━━━━━━━━━━━\u001b[0m\u001b[37m\u001b[0m \u001b[1m13s\u001b[0m 190ms/step - accuracy: 0.9323 - loss: 2.5696 - val_accuracy: 0.7899 - val_loss: 3.0183 - learning_rate: 1.0000e-04\n",
            "Epoch 78/100\n",
            "\u001b[1m69/69\u001b[0m \u001b[32m━━━━━━━━━━━━━━━━━━━━\u001b[0m\u001b[37m\u001b[0m \u001b[1m14s\u001b[0m 198ms/step - accuracy: 0.9405 - loss: 2.4826 - val_accuracy: 0.8080 - val_loss: 2.6894 - learning_rate: 1.0000e-04\n",
            "Epoch 79/100\n",
            "\u001b[1m69/69\u001b[0m \u001b[32m━━━━━━━━━━━━━━━━━━━━\u001b[0m\u001b[37m\u001b[0m \u001b[1m13s\u001b[0m 189ms/step - accuracy: 0.9564 - loss: 2.2834 - val_accuracy: 0.8188 - val_loss: 2.6367 - learning_rate: 1.0000e-04\n",
            "Epoch 80/100\n",
            "\u001b[1m69/69\u001b[0m \u001b[32m━━━━━━━━━━━━━━━━━━━━\u001b[0m\u001b[37m\u001b[0m \u001b[1m13s\u001b[0m 193ms/step - accuracy: 0.9629 - loss: 2.1938 - val_accuracy: 0.8297 - val_loss: 2.5801 - learning_rate: 1.0000e-04\n",
            "Epoch 81/100\n",
            "\u001b[1m69/69\u001b[0m \u001b[32m━━━━━━━━━━━━━━━━━━━━\u001b[0m\u001b[37m\u001b[0m \u001b[1m13s\u001b[0m 193ms/step - accuracy: 0.9585 - loss: 2.0756 - val_accuracy: 0.8261 - val_loss: 2.4176 - learning_rate: 1.0000e-04\n",
            "Epoch 82/100\n",
            "\u001b[1m69/69\u001b[0m \u001b[32m━━━━━━━━━━━━━━━━━━━━\u001b[0m\u001b[37m\u001b[0m \u001b[1m14s\u001b[0m 194ms/step - accuracy: 0.9539 - loss: 1.9921 - val_accuracy: 0.8116 - val_loss: 2.3851 - learning_rate: 1.0000e-04\n",
            "Epoch 83/100\n",
            "\u001b[1m69/69\u001b[0m \u001b[32m━━━━━━━━━━━━━━━━━━━━\u001b[0m\u001b[37m\u001b[0m \u001b[1m14s\u001b[0m 195ms/step - accuracy: 0.9598 - loss: 1.8965 - val_accuracy: 0.8696 - val_loss: 2.1759 - learning_rate: 1.0000e-04\n",
            "Epoch 84/100\n",
            "\u001b[1m69/69\u001b[0m \u001b[32m━━━━━━━━━━━━━━━━━━━━\u001b[0m\u001b[37m\u001b[0m \u001b[1m13s\u001b[0m 191ms/step - accuracy: 0.9708 - loss: 1.7706 - val_accuracy: 0.8442 - val_loss: 2.0450 - learning_rate: 1.0000e-04\n",
            "Epoch 85/100\n",
            "\u001b[1m69/69\u001b[0m \u001b[32m━━━━━━━━━━━━━━━━━━━━\u001b[0m\u001b[37m\u001b[0m \u001b[1m13s\u001b[0m 190ms/step - accuracy: 0.9557 - loss: 1.6801 - val_accuracy: 0.8587 - val_loss: 2.0257 - learning_rate: 1.0000e-04\n",
            "Epoch 86/100\n",
            "\u001b[1m69/69\u001b[0m \u001b[32m━━━━━━━━━━━━━━━━━━━━\u001b[0m\u001b[37m\u001b[0m \u001b[1m13s\u001b[0m 189ms/step - accuracy: 0.9696 - loss: 1.6039 - val_accuracy: 0.8152 - val_loss: 2.0692 - learning_rate: 1.0000e-04\n",
            "Epoch 87/100\n",
            "\u001b[1m69/69\u001b[0m \u001b[32m━━━━━━━━━━━━━━━━━━━━\u001b[0m\u001b[37m\u001b[0m \u001b[1m13s\u001b[0m 192ms/step - accuracy: 0.9656 - loss: 1.5463 - val_accuracy: 0.7754 - val_loss: 2.3632 - learning_rate: 1.0000e-04\n",
            "Epoch 88/100\n",
            "\u001b[1m69/69\u001b[0m \u001b[32m━━━━━━━━━━━━━━━━━━━━\u001b[0m\u001b[37m\u001b[0m \u001b[1m15s\u001b[0m 208ms/step - accuracy: 0.9354 - loss: 1.5335 - val_accuracy: 0.7174 - val_loss: 2.3802 - learning_rate: 1.0000e-04\n",
            "Epoch 89/100\n",
            "\u001b[1m69/69\u001b[0m \u001b[32m━━━━━━━━━━━━━━━━━━━━\u001b[0m\u001b[37m\u001b[0m \u001b[1m14s\u001b[0m 198ms/step - accuracy: 0.9642 - loss: 1.3802 - val_accuracy: 0.8152 - val_loss: 1.9154 - learning_rate: 1.0000e-04\n",
            "Epoch 90/100\n",
            "\u001b[1m69/69\u001b[0m \u001b[32m━━━━━━━━━━━━━━━━━━━━\u001b[0m\u001b[37m\u001b[0m \u001b[1m13s\u001b[0m 186ms/step - accuracy: 0.9690 - loss: 1.3112 - val_accuracy: 0.7899 - val_loss: 2.1374 - learning_rate: 1.0000e-04\n",
            "Epoch 91/100\n",
            "\u001b[1m69/69\u001b[0m \u001b[32m━━━━━━━━━━━━━━━━━━━━\u001b[0m\u001b[37m\u001b[0m \u001b[1m14s\u001b[0m 196ms/step - accuracy: 0.9698 - loss: 1.2330 - val_accuracy: 0.8116 - val_loss: 1.7327 - learning_rate: 1.0000e-04\n",
            "Epoch 92/100\n",
            "\u001b[1m69/69\u001b[0m \u001b[32m━━━━━━━━━━━━━━━━━━━━\u001b[0m\u001b[37m\u001b[0m \u001b[1m13s\u001b[0m 193ms/step - accuracy: 0.9605 - loss: 1.1734 - val_accuracy: 0.8406 - val_loss: 1.6803 - learning_rate: 1.0000e-04\n",
            "Epoch 93/100\n",
            "\u001b[1m69/69\u001b[0m \u001b[32m━━━━━━━━━━━━━━━━━━━━\u001b[0m\u001b[37m\u001b[0m \u001b[1m13s\u001b[0m 192ms/step - accuracy: 0.9559 - loss: 1.1381 - val_accuracy: 0.8551 - val_loss: 1.5787 - learning_rate: 1.0000e-04\n",
            "Epoch 94/100\n",
            "\u001b[1m69/69\u001b[0m \u001b[32m━━━━━━━━━━━━━━━━━━━━\u001b[0m\u001b[37m\u001b[0m \u001b[1m13s\u001b[0m 188ms/step - accuracy: 0.9711 - loss: 1.0602 - val_accuracy: 0.7935 - val_loss: 1.7633 - learning_rate: 1.0000e-04\n",
            "Epoch 95/100\n",
            "\u001b[1m69/69\u001b[0m \u001b[32m━━━━━━━━━━━━━━━━━━━━\u001b[0m\u001b[37m\u001b[0m \u001b[1m13s\u001b[0m 191ms/step - accuracy: 0.9501 - loss: 1.0839 - val_accuracy: 0.8152 - val_loss: 1.6830 - learning_rate: 1.0000e-04\n",
            "Epoch 96/100\n",
            "\u001b[1m69/69\u001b[0m \u001b[32m━━━━━━━━━━━━━━━━━━━━\u001b[0m\u001b[37m\u001b[0m \u001b[1m13s\u001b[0m 192ms/step - accuracy: 0.9536 - loss: 1.0077 - val_accuracy: 0.8406 - val_loss: 1.3862 - learning_rate: 1.0000e-04\n",
            "Epoch 97/100\n",
            "\u001b[1m69/69\u001b[0m \u001b[32m━━━━━━━━━━━━━━━━━━━━\u001b[0m\u001b[37m\u001b[0m \u001b[1m13s\u001b[0m 189ms/step - accuracy: 0.9753 - loss: 0.9229 - val_accuracy: 0.8152 - val_loss: 1.4490 - learning_rate: 1.0000e-04\n",
            "Epoch 98/100\n",
            "\u001b[1m69/69\u001b[0m \u001b[32m━━━━━━━━━━━━━━━━━━━━\u001b[0m\u001b[37m\u001b[0m \u001b[1m13s\u001b[0m 187ms/step - accuracy: 0.9802 - loss: 0.8609 - val_accuracy: 0.7681 - val_loss: 1.7467 - learning_rate: 1.0000e-04\n",
            "Epoch 99/100\n",
            "\u001b[1m69/69\u001b[0m \u001b[32m━━━━━━━━━━━━━━━━━━━━\u001b[0m\u001b[37m\u001b[0m \u001b[1m13s\u001b[0m 188ms/step - accuracy: 0.9644 - loss: 0.8431 - val_accuracy: 0.8043 - val_loss: 1.4922 - learning_rate: 1.0000e-04\n",
            "Epoch 100/100\n",
            "\u001b[1m69/69\u001b[0m \u001b[32m━━━━━━━━━━━━━━━━━━━━\u001b[0m\u001b[37m\u001b[0m \u001b[1m14s\u001b[0m 194ms/step - accuracy: 0.9591 - loss: 0.8449 - val_accuracy: 0.7862 - val_loss: 1.4253 - learning_rate: 1.0000e-04\n"
          ]
        }
      ],
      "source": [
        "# Fit the model\n",
        "history = model.fit(\n",
        "    train_datagen.flow(train_images, train_labels_categorical, batch_size=BATCH_SIZE),\n",
        "    epochs=EPOCHS,\n",
        "    validation_data=test_datagen.flow(test_images, test_labels_categorical, batch_size=BATCH_SIZE),\n",
        "    callbacks=[reduce_lr, early_stopping],\n",
        "    class_weight=class_weight_dict\n",
        ")"
      ]
    },
    {
      "cell_type": "code",
      "execution_count": 26,
      "metadata": {
        "id": "TsTzr-xVSx5v",
        "colab": {
          "base_uri": "https://localhost:8080/",
          "height": 410
        },
        "outputId": "d025f360-7947-414b-f656-7ce8d4134c30"
      },
      "outputs": [
        {
          "output_type": "display_data",
          "data": {
            "text/plain": [
              "<Figure size 1200x400 with 2 Axes>"
            ],
            "image/png": "[encoded data removed]"
          },
          "metadata": {}
        }
      ],
      "source": [
        "# Plot accuracy and loss\n",
        "plt.figure(figsize=(12, 4))\n",
        "plt.subplot(1, 2, 1)\n",
        "plt.plot(history.history['accuracy'], label='Train')\n",
        "plt.plot(history.history['val_accuracy'], label='Validation')\n",
        "plt.title('Model accuracy')\n",
        "plt.ylabel('Accuracy')\n",
        "plt.xlabel('Epoch')\n",
        "plt.legend(loc='upper left')\n",
        "\n",
        "plt.subplot(1, 2, 2)\n",
        "plt.plot(history.history['loss'], label='Train')\n",
        "plt.plot(history.history['val_loss'], label='Validation')\n",
        "plt.title('Model loss')\n",
        "plt.ylabel('Loss')\n",
        "plt.xlabel('Epoch')\n",
        "plt.legend(loc='upper left')\n",
        "\n",
        "plt.show()\n"
      ]
    },
    {
      "cell_type": "code",
      "execution_count": 27,
      "metadata": {
        "id": "_amw5lQaS0Nz",
        "colab": {
          "base_uri": "https://localhost:8080/",
          "height": 1000
        },
        "outputId": "2b9307f3-a503-43ae-af66-6a1701836fb7"
      },
      "outputs": [
        {
          "output_type": "stream",
          "name": "stderr",
          "text": [
            "/usr/local/lib/python3.11/dist-packages/keras/src/models/functional.py:237: UserWarning: The structure of `inputs` doesn't match the expected structure.\n",
            "Expected: ['keras_tensor']\n",
            "Received: inputs=Tensor(shape=(32, 224, 224, 3))\n",
            "  warnings.warn(msg)\n"
          ]
        },
        {
          "output_type": "stream",
          "name": "stdout",
          "text": [
            "\u001b[1m9/9\u001b[0m \u001b[32m━━━━━━━━━━━━━━━━━━━━\u001b[0m\u001b[37m\u001b[0m \u001b[1m12s\u001b[0m 714ms/step\n",
            "               precision    recall  f1-score   support\n",
            "\n",
            "      Maybrat       0.68      0.85      0.76        74\n",
            "         Moi2       0.99      0.96      0.97        77\n",
            "   Raja Ampat       0.95      0.97      0.96        64\n",
            "SorongSelatan       0.75      0.54      0.63        61\n",
            "\n",
            "     accuracy                           0.84       276\n",
            "    macro avg       0.84      0.83      0.83       276\n",
            " weighted avg       0.85      0.84      0.84       276\n",
            "\n"
          ]
        },
        {
          "output_type": "display_data",
          "data": {
            "text/plain": [
              "<Figure size 1000x800 with 2 Axes>"
            ],
            "image/png": "[encoded data removed]"
          },
          "metadata": {}
        }
      ],
      "source": [
        "# Evaluate model\n",
        "predictions = model.predict(test_images)\n",
        "predicted_classes = np.argmax(predictions, axis=1)\n",
        "\n",
        "# Classification report and confusion matrix\n",
        "print(classification_report(test_labels_encoded, predicted_classes, target_names=encoder.classes_))\n",
        "cm = confusion_matrix(test_labels_encoded, predicted_classes)\n",
        "plt.figure(figsize=(10, 8))\n",
        "sns.heatmap(cm, annot=True, fmt='d', cmap='Blues', xticklabels=encoder.classes_, yticklabels=encoder.classes_)\n",
        "plt.ylabel('Actual')\n",
        "plt.xlabel('Predicted')\n",
        "plt.title('Confusion Matrix')\n",
        "plt.show()"
      ]
    }
  ],
  "metadata": {
    "colab": {
      "provenance": [],
      "gpuType": "T4",
      "machine_shape": "hm",
      "authorship_tag": "ABX9TyNGvUtuBGX45o/Sk8NAtDjM",
      "include_colab_link": true
    },
    "kernelspec": {
      "display_name": "Python 3",
      "name": "python3"
    },
    "language_info": {
      "name": "python"
    },
    "accelerator": "GPU"
  },
  "nbformat": 4,
  "nbformat_minor": 0
}